{
 "cells": [
  {
   "cell_type": "code",
   "execution_count": 17,
   "metadata": {},
   "outputs": [],
   "source": [
    "import pandas as pd\n",
    "import numpy as np"
   ]
  },
  {
   "cell_type": "markdown",
   "metadata": {},
   "source": [
    "## Pageviews"
   ]
  },
  {
   "cell_type": "code",
   "execution_count": 18,
   "metadata": {},
   "outputs": [],
   "source": [
    "TRIMESTRES = {}"
   ]
  },
  {
   "cell_type": "code",
   "execution_count": 19,
   "metadata": {},
   "outputs": [],
   "source": [
    "for ventana_nro in range(1,4):\n",
    "    TRIMESTRES[ventana_nro] = pd.read_pickle(\"../data/features/ventana_{}_pageviews.pkl\".format(ventana_nro))\n",
    "TRIMESTRES[4] = pd.read_pickle(\"../data/features/predecir_pageviews.pkl\")"
   ]
  },
  {
   "cell_type": "code",
   "execution_count": 20,
   "metadata": {},
   "outputs": [],
   "source": [
    "for ventana_nro in range(1,5):\n",
    "    try:\n",
    "        TRIMESTRES[ventana_nro].drop(columns = ['page_mas_vista_en_mes_1', 'page_mas_vista_en_mes_2',\n",
    "                                   'page_mas_vista_en_mes_3'], inplace = True)\n",
    "    except KeyError:\n",
    "        continue\n",
    "        \n"
   ]
  },
  {
   "cell_type": "code",
   "execution_count": 21,
   "metadata": {},
   "outputs": [],
   "source": [
    "for ventana_nro in range(1,4):\n",
    "    TRIMESTRES[ventana_nro].to_pickle(\"../data/features/ventana_{}_pageviews.pkl\".format(ventana_nro))\n",
    "    \n",
    "TRIMESTRES[4].to_pickle(\"../data/features/predecir_pageviews.pkl\")"
   ]
  },
  {
   "cell_type": "code",
   "execution_count": 30,
   "metadata": {},
   "outputs": [],
   "source": [
    "del TRIMESTRES"
   ]
  },
  {
   "cell_type": "markdown",
   "metadata": {},
   "source": [
    "## Device data"
   ]
  },
  {
   "cell_type": "code",
   "execution_count": 26,
   "metadata": {},
   "outputs": [],
   "source": [
    "TRIMESTRES = {}"
   ]
  },
  {
   "cell_type": "code",
   "execution_count": 27,
   "metadata": {},
   "outputs": [],
   "source": [
    "for ventana_nro in range(1,4):\n",
    "    TRIMESTRES[ventana_nro] = pd.read_pickle(\"../data/features/ventana_{}_devicedata.pkl\".format(ventana_nro))\n",
    "TRIMESTRES[4] = pd.read_pickle(\"../data/features/predecir_devicedata.pkl\")"
   ]
  },
  {
   "cell_type": "code",
   "execution_count": 28,
   "metadata": {},
   "outputs": [],
   "source": [
    "for ventana_nro in range(1,5):\n",
    "    try:\n",
    "        TRIMESTRES[ventana_nro].drop(columns = ['Vistas trim No MD', 'Vistas trim MD'], inplace = True)\n",
    "    except KeyError:\n",
    "        continue\n",
    "        "
   ]
  },
  {
   "cell_type": "code",
   "execution_count": 29,
   "metadata": {},
   "outputs": [],
   "source": [
    "for ventana_nro in range(1,4):\n",
    "    TRIMESTRES[ventana_nro].to_pickle(\"../data/features/ventana_{}_devicedata.pkl\".format(ventana_nro))\n",
    "    \n",
    "TRIMESTRES[4].to_pickle(\"../data/features/predecir_devicedata.pkl\")"
   ]
  },
  {
   "cell_type": "code",
   "execution_count": null,
   "metadata": {},
   "outputs": [],
   "source": []
  }
 ],
 "metadata": {
  "kernelspec": {
   "display_name": "Python 3",
   "language": "python",
   "name": "python3"
  },
  "language_info": {
   "codemirror_mode": {
    "name": "ipython",
    "version": 3
   },
   "file_extension": ".py",
   "mimetype": "text/x-python",
   "name": "python",
   "nbconvert_exporter": "python",
   "pygments_lexer": "ipython3",
   "version": "3.6.8"
  }
 },
 "nbformat": 4,
 "nbformat_minor": 2
}
