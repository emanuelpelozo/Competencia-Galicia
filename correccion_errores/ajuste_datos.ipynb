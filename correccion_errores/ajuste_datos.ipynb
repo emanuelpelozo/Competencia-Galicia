{
 "cells": [
  {
   "cell_type": "code",
   "execution_count": 1,
   "metadata": {},
   "outputs": [],
   "source": [
    "import pandas as pd\n",
    "import numpy as np"
   ]
  },
  {
   "cell_type": "markdown",
   "metadata": {},
   "source": [
    "---"
   ]
  },
  {
   "cell_type": "markdown",
   "metadata": {},
   "source": [
    "## Ajuste para que los datos esten sincronizados"
   ]
  },
  {
   "cell_type": "markdown",
   "metadata": {},
   "source": [
    "## Conversiones"
   ]
  },
  {
   "cell_type": "code",
   "execution_count": 2,
   "metadata": {},
   "outputs": [],
   "source": [
    "conversiones = pd.read_pickle(\"../data/conversiones.pkl\")"
   ]
  },
  {
   "cell_type": "code",
   "execution_count": 3,
   "metadata": {},
   "outputs": [
    {
     "name": "stdout",
     "output_type": "stream",
     "text": [
      "<class 'pandas.core.frame.DataFrame'>\n",
      "RangeIndex: 1738 entries, 0 to 1737\n",
      "Data columns (total 4 columns):\n",
      "mes          1738 non-null int8\n",
      "anio         1738 non-null int16\n",
      "USER_ID      1738 non-null category\n",
      "trimestre    1738 non-null int8\n",
      "dtypes: category(1), int16(1), int8(2)\n",
      "memory usage: 18.7 KB\n"
     ]
    }
   ],
   "source": [
    "conversiones.info()"
   ]
  },
  {
   "cell_type": "code",
   "execution_count": 21,
   "metadata": {},
   "outputs": [],
   "source": [
    "conversiones[\"USER_ID\"] = conversiones[\"USER_ID\"].astype(\"int16\")"
   ]
  },
  {
   "cell_type": "code",
   "execution_count": 4,
   "metadata": {},
   "outputs": [],
   "source": [
    "conversiones[\"mes\"] =  conversiones[\"mes\"].astype(\"int8\")"
   ]
  },
  {
   "cell_type": "code",
   "execution_count": 5,
   "metadata": {},
   "outputs": [],
   "source": [
    "conversiones[\"trimestre\"] = conversiones[\"trimestre\"].astype(\"int8\")"
   ]
  },
  {
   "cell_type": "code",
   "execution_count": 6,
   "metadata": {},
   "outputs": [],
   "source": [
    "conversiones.to_pickle(\"../data/conversiones.pkl\")"
   ]
  },
  {
   "cell_type": "code",
   "execution_count": 7,
   "metadata": {},
   "outputs": [],
   "source": [
    "del conversiones"
   ]
  },
  {
   "cell_type": "markdown",
   "metadata": {},
   "source": [
    "---"
   ]
  },
  {
   "cell_type": "markdown",
   "metadata": {},
   "source": [
    "## Device data"
   ]
  },
  {
   "cell_type": "code",
   "execution_count": 8,
   "metadata": {},
   "outputs": [],
   "source": [
    "device_data  = pd.read_pickle(\"../data/device_data.pkl\")"
   ]
  },
  {
   "cell_type": "code",
   "execution_count": 9,
   "metadata": {},
   "outputs": [
    {
     "name": "stdout",
     "output_type": "stream",
     "text": [
      "<class 'pandas.core.frame.DataFrame'>\n",
      "RangeIndex: 2871406 entries, 0 to 2871405\n",
      "Data columns (total 6 columns):\n",
      "FEC_EVENT           datetime64[ns]\n",
      "CONNECTION_SPEED    int8\n",
      "IS_MOBILE_DEVICE    bool\n",
      "USER_ID             category\n",
      "mes                 int8\n",
      "trimestre           int8\n",
      "dtypes: bool(1), category(1), datetime64[ns](1), int8(3)\n",
      "memory usage: 38.4 MB\n"
     ]
    }
   ],
   "source": [
    "device_data.info()"
   ]
  },
  {
   "cell_type": "code",
   "execution_count": 10,
   "metadata": {},
   "outputs": [],
   "source": [
    "device_data[\"USER_ID\"] = device_data[\"USER_ID\"].astype(\"int16\")"
   ]
  },
  {
   "cell_type": "code",
   "execution_count": 11,
   "metadata": {},
   "outputs": [],
   "source": [
    "device_data[[\"mes\",\"trimestre\"]] = device_data[[\"mes\",\"trimestre\"]].astype(\"int8\")\n"
   ]
  },
  {
   "cell_type": "code",
   "execution_count": 12,
   "metadata": {},
   "outputs": [],
   "source": [
    "device_data.to_pickle(\"../data/device_data.pkl\")"
   ]
  },
  {
   "cell_type": "code",
   "execution_count": 13,
   "metadata": {},
   "outputs": [],
   "source": [
    "del device_data"
   ]
  },
  {
   "cell_type": "markdown",
   "metadata": {},
   "source": [
    "---"
   ]
  },
  {
   "cell_type": "markdown",
   "metadata": {},
   "source": [
    "## Pageviews"
   ]
  },
  {
   "cell_type": "code",
   "execution_count": 15,
   "metadata": {},
   "outputs": [],
   "source": [
    "pageviews = pd.read_pickle(\"../data/pageviews_total_formateado.pkl\")"
   ]
  },
  {
   "cell_type": "code",
   "execution_count": 16,
   "metadata": {},
   "outputs": [
    {
     "name": "stdout",
     "output_type": "stream",
     "text": [
      "<class 'pandas.core.frame.DataFrame'>\n",
      "RangeIndex: 22870354 entries, 0 to 22870353\n",
      "Data columns (total 10 columns):\n",
      "CONTENT_CATEGORY           category\n",
      "CONTENT_CATEGORY_BOTTOM    category\n",
      "CONTENT_CATEGORY_TOP       category\n",
      "FEC_EVENT                  datetime64[ns]\n",
      "ON_SITE_SEARCH_TERM        category\n",
      "PAGE                       category\n",
      "SITE_ID                    category\n",
      "USER_ID                    category\n",
      "mes                        int8\n",
      "trimestre                  int8\n",
      "dtypes: category(7), datetime64[ns](1), int8(2)\n",
      "memory usage: 436.3 MB\n"
     ]
    }
   ],
   "source": [
    "pageviews.info()"
   ]
  },
  {
   "cell_type": "code",
   "execution_count": 17,
   "metadata": {},
   "outputs": [],
   "source": [
    "pageviews[\"USER_ID\"] = pageviews[\"USER_ID\"].astype(\"int16\")"
   ]
  },
  {
   "cell_type": "code",
   "execution_count": 18,
   "metadata": {},
   "outputs": [],
   "source": [
    "pageviews[\"PAGE\"] = pageviews[\"PAGE\"].astype(\"int16\")"
   ]
  },
  {
   "cell_type": "code",
   "execution_count": 60,
   "metadata": {},
   "outputs": [],
   "source": [
    "pageviews[\"SITE_ID\"] = pageviews[].astype(\"int8\")"
   ]
  },
  {
   "cell_type": "code",
   "execution_count": 19,
   "metadata": {},
   "outputs": [],
   "source": [
    "columnasInt8 = [\"CONTENT_CATEGORY\",\"ON_SITE_SEARCH_TERM\",\"CONTENT_CATEGORY_BOTTOM\",\"CONTENT_CATEGORY_TOP\",\"SITE_ID\"]"
   ]
  },
  {
   "cell_type": "code",
   "execution_count": 20,
   "metadata": {},
   "outputs": [],
   "source": [
    "pageviews[columnasInt8] = pageviews[columnasInt8].astype(\"int8\")"
   ]
  },
  {
   "cell_type": "code",
   "execution_count": 21,
   "metadata": {},
   "outputs": [
    {
     "name": "stdout",
     "output_type": "stream",
     "text": [
      "<class 'pandas.core.frame.DataFrame'>\n",
      "RangeIndex: 22870354 entries, 0 to 22870353\n",
      "Data columns (total 10 columns):\n",
      "CONTENT_CATEGORY           int8\n",
      "CONTENT_CATEGORY_BOTTOM    int8\n",
      "CONTENT_CATEGORY_TOP       int8\n",
      "FEC_EVENT                  datetime64[ns]\n",
      "ON_SITE_SEARCH_TERM        int8\n",
      "PAGE                       int16\n",
      "SITE_ID                    int8\n",
      "USER_ID                    int16\n",
      "mes                        int8\n",
      "trimestre                  int8\n",
      "dtypes: datetime64[ns](1), int16(2), int8(7)\n",
      "memory usage: 414.4 MB\n"
     ]
    }
   ],
   "source": [
    "pageviews.info()"
   ]
  },
  {
   "cell_type": "code",
   "execution_count": 24,
   "metadata": {},
   "outputs": [],
   "source": [
    "pageviews.to_pickle(\"../data/pageviews_total_formateado.pkl\")"
   ]
  },
  {
   "cell_type": "code",
   "execution_count": null,
   "metadata": {},
   "outputs": [],
   "source": []
  }
 ],
 "metadata": {
  "kernelspec": {
   "display_name": "Python 3",
   "language": "python",
   "name": "python3"
  },
  "language_info": {
   "codemirror_mode": {
    "name": "ipython",
    "version": 3
   },
   "file_extension": ".py",
   "mimetype": "text/x-python",
   "name": "python",
   "nbconvert_exporter": "python",
   "pygments_lexer": "ipython3",
   "version": "3.6.8"
  }
 },
 "nbformat": 4,
 "nbformat_minor": 2
}
