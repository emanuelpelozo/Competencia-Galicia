{
 "cells": [
  {
   "cell_type": "code",
   "execution_count": 1,
   "metadata": {},
   "outputs": [],
   "source": [
    "import pandas as pd\n",
    "import numpy as np"
   ]
  },
  {
   "cell_type": "markdown",
   "metadata": {},
   "source": [
    "## Features engineering de conversion"
   ]
  },
  {
   "cell_type": "markdown",
   "metadata": {},
   "source": [
    "### Carga de datos"
   ]
  },
  {
   "cell_type": "code",
   "execution_count": 2,
   "metadata": {},
   "outputs": [],
   "source": [
    "data = pd.read_pickle(\"../data/device_data.pkl\")"
   ]
  },
  {
   "cell_type": "markdown",
   "metadata": {},
   "source": [
    "---"
   ]
  },
  {
   "cell_type": "markdown",
   "metadata": {},
   "source": [
    "### Cargo features generados hasta el momento\n"
   ]
  },
  {
   "cell_type": "code",
   "execution_count": 3,
   "metadata": {},
   "outputs": [],
   "source": [
    "# Trimestre 2 - 3 - 4 para los que tengo datos anteriores\n",
    "CANT_TRIMESTRES = 4"
   ]
  },
  {
   "cell_type": "code",
   "execution_count": 4,
   "metadata": {},
   "outputs": [],
   "source": [
    "TRIMESTRES = {}\n",
    "trim_no_encontrados =[]"
   ]
  },
  {
   "cell_type": "code",
   "execution_count": 5,
   "metadata": {},
   "outputs": [],
   "source": [
    "def generar_dataframes_ventana(numero_ventana,dataframe):\n",
    "    \n",
    "    if numero_ventana == 4 :   #Para la ventana 4 se necesitan los 11 mil usuarios existentes\n",
    "        df = pd.read_csv(\"../data/users.csv\", index_col = 0)\n",
    "    \n",
    "    else:    \n",
    "        condicion = dataframe[\"trimestre\"] == numero_ventana\n",
    "        df = dataframe[condicion][\"USER_ID\"].drop_duplicates().to_frame().set_index(\"USER_ID\").copy()\n",
    "    \n",
    "    return df.sort_index()\n",
    "    "
   ]
  },
  {
   "cell_type": "code",
   "execution_count": 6,
   "metadata": {},
   "outputs": [
    {
     "name": "stdout",
     "output_type": "stream",
     "text": [
      "Cargando features\n",
      "No se encontraron los features, se generarán los dataframe requeridos\n",
      "No se encontraron los features, se generarán los dataframe requeridos\n",
      "No se encontraron los features, se generarán los dataframe requeridos\n"
     ]
    }
   ],
   "source": [
    "print(\"Cargando features\")\n",
    "for ventana_nro in range(1,CANT_TRIMESTRES) : #Trimestres del 1 al 3\n",
    "    try:\n",
    "        TRIMESTRES[ventana_nro] = pd.read_pickle(\"../data/features/ventana_{}_devicedata.pkl\".format(ventana_nro))\n",
    "        \n",
    "    except FileNotFoundError:\n",
    "        print(\"No se encontraron los features, se generarán los dataframe requeridos\")\n",
    "        trim_no_encontrados.append(ventana_nro)\n",
    "    continue\n",
    "    \n",
    "for ventana_nro in trim_no_encontrados:    \n",
    "    TRIMESTRES[ventana_nro] = generar_dataframes_ventana(ventana_nro,data)"
   ]
  },
  {
   "cell_type": "markdown",
   "metadata": {},
   "source": [
    "### Set para predecir"
   ]
  },
  {
   "cell_type": "code",
   "execution_count": 7,
   "metadata": {},
   "outputs": [
    {
     "name": "stdout",
     "output_type": "stream",
     "text": [
      "Cargando features para predecir\n",
      "No se encontro el feature deseado, se generara el dataframe requerido\n"
     ]
    }
   ],
   "source": [
    "try:\n",
    "    print(\"Cargando features para predecir\")\n",
    "    TRIMESTRES[4] = pd.read_pickle(\"../data/features/predecir_devicedata.pkl\")\n",
    "except FileNotFoundError:\n",
    "    print(\"No se encontro el feature deseado, se generara el dataframe requerido\")\n",
    "    TRIMESTRES[4] = generar_dataframes_ventana(4,data)"
   ]
  },
  {
   "cell_type": "markdown",
   "metadata": {},
   "source": [
    "---"
   ]
  },
  {
   "cell_type": "markdown",
   "metadata": {},
   "source": [
    "### Diccionario de features"
   ]
  },
  {
   "cell_type": "code",
   "execution_count": 8,
   "metadata": {},
   "outputs": [],
   "source": [
    "#Posicion dentro del diccionario de features que ocupa la lista de columnas generadas por el mismo\n",
    "POS_COLUMNAS_DEL_FEATURE = 0\n",
    "POS_TIPO_DATO = 1\n",
    "POS_DATO_NAN = 2"
   ]
  },
  {
   "cell_type": "code",
   "execution_count": 9,
   "metadata": {},
   "outputs": [],
   "source": [
    "# Clave = nombre_feature : Valor = funcion\n",
    "FUNCIONES_FEATURES = {}\n",
    "# Clave = nombre_feature : Valor = (columnas,tipo_dato,valor_nan)\n",
    "DATOS_FEATURES = {}"
   ]
  },
  {
   "cell_type": "code",
   "execution_count": 10,
   "metadata": {},
   "outputs": [],
   "source": [
    "FEATURES_YA_GENERADOS = {}\n",
    "\n",
    "for ventana_nro in range (1, CANT_TRIMESTRES + 1):\n",
    "    \n",
    "    FEATURES_YA_GENERADOS[ventana_nro] = list(TRIMESTRES[ventana_nro].columns.values)"
   ]
  },
  {
   "cell_type": "markdown",
   "metadata": {},
   "source": [
    "---"
   ]
  },
  {
   "cell_type": "markdown",
   "metadata": {},
   "source": [
    "\n",
    "---"
   ]
  },
  {
   "cell_type": "markdown",
   "metadata": {},
   "source": [
    "## Creación de features"
   ]
  },
  {
   "cell_type": "markdown",
   "metadata": {},
   "source": [
    "#### Vistazo del dataset: __Conversiones__"
   ]
  },
  {
   "cell_type": "code",
   "execution_count": 11,
   "metadata": {},
   "outputs": [
    {
     "data": {
      "text/html": [
       "<div>\n",
       "<style scoped>\n",
       "    .dataframe tbody tr th:only-of-type {\n",
       "        vertical-align: middle;\n",
       "    }\n",
       "\n",
       "    .dataframe tbody tr th {\n",
       "        vertical-align: top;\n",
       "    }\n",
       "\n",
       "    .dataframe thead th {\n",
       "        text-align: right;\n",
       "    }\n",
       "</style>\n",
       "<table border=\"1\" class=\"dataframe\">\n",
       "  <thead>\n",
       "    <tr style=\"text-align: right;\">\n",
       "      <th></th>\n",
       "      <th>FEC_EVENT</th>\n",
       "      <th>CONNECTION_SPEED</th>\n",
       "      <th>IS_MOBILE_DEVICE</th>\n",
       "      <th>USER_ID</th>\n",
       "      <th>mes</th>\n",
       "      <th>trimestre</th>\n",
       "    </tr>\n",
       "  </thead>\n",
       "  <tbody>\n",
       "    <tr>\n",
       "      <th>0</th>\n",
       "      <td>2018-01-12 00:00:06</td>\n",
       "      <td>1</td>\n",
       "      <td>False</td>\n",
       "      <td>6574</td>\n",
       "      <td>1</td>\n",
       "      <td>1</td>\n",
       "    </tr>\n",
       "    <tr>\n",
       "      <th>1</th>\n",
       "      <td>2018-01-12 00:00:06</td>\n",
       "      <td>3</td>\n",
       "      <td>True</td>\n",
       "      <td>2639</td>\n",
       "      <td>1</td>\n",
       "      <td>1</td>\n",
       "    </tr>\n",
       "    <tr>\n",
       "      <th>2</th>\n",
       "      <td>2018-01-12 00:00:08</td>\n",
       "      <td>0</td>\n",
       "      <td>False</td>\n",
       "      <td>3898</td>\n",
       "      <td>1</td>\n",
       "      <td>1</td>\n",
       "    </tr>\n",
       "    <tr>\n",
       "      <th>3</th>\n",
       "      <td>2018-01-12 00:00:09</td>\n",
       "      <td>1</td>\n",
       "      <td>False</td>\n",
       "      <td>7996</td>\n",
       "      <td>1</td>\n",
       "      <td>1</td>\n",
       "    </tr>\n",
       "    <tr>\n",
       "      <th>4</th>\n",
       "      <td>2018-01-12 00:00:14</td>\n",
       "      <td>1</td>\n",
       "      <td>False</td>\n",
       "      <td>6111</td>\n",
       "      <td>1</td>\n",
       "      <td>1</td>\n",
       "    </tr>\n",
       "  </tbody>\n",
       "</table>\n",
       "</div>"
      ],
      "text/plain": [
       "            FEC_EVENT  CONNECTION_SPEED  IS_MOBILE_DEVICE  USER_ID  mes  \\\n",
       "0 2018-01-12 00:00:06                 1             False     6574    1   \n",
       "1 2018-01-12 00:00:06                 3              True     2639    1   \n",
       "2 2018-01-12 00:00:08                 0             False     3898    1   \n",
       "3 2018-01-12 00:00:09                 1             False     7996    1   \n",
       "4 2018-01-12 00:00:14                 1             False     6111    1   \n",
       "\n",
       "   trimestre  \n",
       "0          1  \n",
       "1          1  \n",
       "2          1  \n",
       "3          1  \n",
       "4          1  "
      ]
     },
     "execution_count": 11,
     "metadata": {},
     "output_type": "execute_result"
    }
   ],
   "source": [
    "data.head()"
   ]
  },
  {
   "cell_type": "code",
   "execution_count": 12,
   "metadata": {},
   "outputs": [
    {
     "data": {
      "text/plain": [
       "(2871406, 6)"
      ]
     },
     "execution_count": 12,
     "metadata": {},
     "output_type": "execute_result"
    }
   ],
   "source": [
    "data.shape"
   ]
  },
  {
   "cell_type": "markdown",
   "metadata": {},
   "source": [
    "---"
   ]
  },
  {
   "cell_type": "markdown",
   "metadata": {},
   "source": [
    "#### ¿Cuantas veces entró desde dispositivo movil y cuantas no?"
   ]
  },
  {
   "cell_type": "code",
   "execution_count": 13,
   "metadata": {},
   "outputs": [],
   "source": [
    "nombre = \"vistas trimestre por dispositivo\""
   ]
  },
  {
   "cell_type": "code",
   "execution_count": 14,
   "metadata": {},
   "outputs": [],
   "source": [
    "def cantidad_de_vistas_en_trimestre_por_dispositivos(dataframe):\n",
    "    \"\"\" Devuelve 2 features 'Vistas trim no MD' y 'Vistas trim MD'\n",
    "        MD significa Mobile Device\n",
    "    \"\"\"\n",
    "    \n",
    "    feature = dataframe.groupby([\"USER_ID\",\"IS_MOBILE_DEVICE\"]).agg({\"trimestre\":\"count\"})\n",
    "    feature.reset_index(inplace = True)\n",
    "    feature=feature.pivot(index='USER_ID',columns='IS_MOBILE_DEVICE',values='trimestre')\n",
    "\n",
    "    feature=feature.reindex(columns=[False,True]) #Acomodo las columnas por las dudas que queden en distinto orden\n",
    "    feature.columns = ['Vistas trim No MD','Vistas trim MD'] #MD = Mobile device\n",
    "    feature.head()\n",
    "\n",
    "    return feature"
   ]
  },
  {
   "cell_type": "code",
   "execution_count": 15,
   "metadata": {},
   "outputs": [],
   "source": [
    "FUNCIONES_FEATURES[nombre] = cantidad_de_vistas_en_trimestre_por_dispositivos"
   ]
  },
  {
   "cell_type": "code",
   "execution_count": 16,
   "metadata": {},
   "outputs": [],
   "source": [
    "columnas_generadas = ['Vistas trim No MD','Vistas trim MD']\n",
    "tipo_dato = \"int64\"\n",
    "dato_nan = 0\n",
    "\n",
    "DATOS_FEATURES[nombre] = (columnas_generadas,tipo_dato,dato_nan) "
   ]
  },
  {
   "cell_type": "markdown",
   "metadata": {},
   "source": [
    "---"
   ]
  },
  {
   "cell_type": "markdown",
   "metadata": {},
   "source": [
    "---"
   ]
  },
  {
   "cell_type": "markdown",
   "metadata": {},
   "source": [
    "## Generacion de features"
   ]
  },
  {
   "cell_type": "code",
   "execution_count": 17,
   "metadata": {},
   "outputs": [],
   "source": [
    "def feature_ya_generado(nombre_feature, trimestre):\n",
    "    \"\"\"Corrobora si un feature ya fue generado \"\"\"\n",
    "    \n",
    "    #Obtengo las columnas que genera ese feature\n",
    "    columnas = DATOS_FEATURES[nombre_feature][POS_COLUMNAS_DEL_FEATURE]\n",
    "    for columna in columnas:\n",
    "        if columna in FEATURES_YA_GENERADOS[trimestre]:\n",
    "            return True\n",
    "    return False"
   ]
  },
  {
   "cell_type": "code",
   "execution_count": 18,
   "metadata": {},
   "outputs": [],
   "source": [
    "def generar_feature_en_ventana(dataframe,trimestre, nombre_feature, destino):\n",
    "    \"\"\"Genera un feature en la ventana correspondiente, con los tipos de datos correspondientes\"\"\"\n",
    "    \n",
    "    #Calculo el feature\n",
    "    funcion_feature = FUNCIONES_FEATURES[nombre_feature]\n",
    "    dataframe = funcion_feature( dataframe[dataframe[\"trimestre\"] == trimestre] )\n",
    "    \n",
    "    #Uno los features nuevos con los viejos\n",
    "    dataframe = destino[trimestre].merge(dataframe, left_index = True, right_index= True, how = 'left')\n",
    "    \n",
    "    #Rello los nans, si es que los hubiera\n",
    "    dataframe = dar_formato_al_feature_nuevo(dataframe,nombre_feature)\n",
    "    \n",
    "    destino[trimestre] = dataframe"
   ]
  },
  {
   "cell_type": "code",
   "execution_count": 19,
   "metadata": {},
   "outputs": [],
   "source": [
    "def dar_formato_al_feature_nuevo(dataframe, nombre_feature):\n",
    "    \"\"\"Rellena los Nans de un dataframe con features nuevos\"\"\"\n",
    "    \n",
    "    \n",
    "    #Datos para rellenar los Nan\n",
    "    columnas = DATOS_FEATURES[nombre_feature][POS_COLUMNAS_DEL_FEATURE]\n",
    "    tipo_dato= DATOS_FEATURES[nombre_feature][POS_TIPO_DATO]\n",
    "    valor_nan = DATOS_FEATURES[nombre_feature][POS_DATO_NAN]\n",
    "    \n",
    "    dataframe.fillna(valor_nan, inplace = True)\n",
    "    dataframe[columnas] = dataframe[columnas].astype(tipo_dato)\n",
    "    \n",
    "    return dataframe\n",
    "    "
   ]
  },
  {
   "cell_type": "code",
   "execution_count": 20,
   "metadata": {},
   "outputs": [],
   "source": [
    "def generar_features_faltantes(dataframe,destino,trimestre):\n",
    "    \"\"\"\n",
    "    Funcion para generar los features faltantes para un trimestre, \n",
    "    evita la repeticion de calculo de features si estos ya se encuentran generados.\n",
    "    \n",
    "    dataframe: Dataframe a partir de cual se calcularan los features.\n",
    "    destino: Diccionario de ventanas para los que calcular los features.\n",
    "    trimestre: Numero de ventana a partir de la cual se calculan los features.\n",
    "    \"\"\"\n",
    "    \n",
    "    for nombre_feature in FUNCIONES_FEATURES:    \n",
    "        if feature_ya_generado(nombre_feature, trimestre):\n",
    "            continue\n",
    "\n",
    "        #Si no fueron generados, los genero y actualizo el listado:   \n",
    "        generar_feature_en_ventana(dataframe,trimestre, nombre_feature, destino)   \n",
    "        \n",
    "        #Agrego las columnas nuevas al diccionario\n",
    "        columnas_generadas = DATOS_FEATURES[nombre_feature][POS_COLUMNAS_DEL_FEATURE]\n",
    "        FEATURES_YA_GENERADOS[trimestre].extend(columnas_generadas)"
   ]
  },
  {
   "cell_type": "code",
   "execution_count": 21,
   "metadata": {},
   "outputs": [],
   "source": [
    "for ventana_nro in range(1, CANT_TRIMESTRES + 1):\n",
    "    generar_features_faltantes(data, TRIMESTRES, ventana_nro)"
   ]
  },
  {
   "cell_type": "code",
   "execution_count": 22,
   "metadata": {},
   "outputs": [
    {
     "data": {
      "text/html": [
       "<div>\n",
       "<style scoped>\n",
       "    .dataframe tbody tr th:only-of-type {\n",
       "        vertical-align: middle;\n",
       "    }\n",
       "\n",
       "    .dataframe tbody tr th {\n",
       "        vertical-align: top;\n",
       "    }\n",
       "\n",
       "    .dataframe thead th {\n",
       "        text-align: right;\n",
       "    }\n",
       "</style>\n",
       "<table border=\"1\" class=\"dataframe\">\n",
       "  <thead>\n",
       "    <tr style=\"text-align: right;\">\n",
       "      <th></th>\n",
       "      <th>Vistas trim No MD</th>\n",
       "      <th>Vistas trim MD</th>\n",
       "    </tr>\n",
       "    <tr>\n",
       "      <th>USER_ID</th>\n",
       "      <th></th>\n",
       "      <th></th>\n",
       "    </tr>\n",
       "  </thead>\n",
       "  <tbody>\n",
       "    <tr>\n",
       "      <th>0</th>\n",
       "      <td>0</td>\n",
       "      <td>190</td>\n",
       "    </tr>\n",
       "    <tr>\n",
       "      <th>1</th>\n",
       "      <td>2</td>\n",
       "      <td>51</td>\n",
       "    </tr>\n",
       "    <tr>\n",
       "      <th>2</th>\n",
       "      <td>21</td>\n",
       "      <td>26</td>\n",
       "    </tr>\n",
       "    <tr>\n",
       "      <th>3</th>\n",
       "      <td>0</td>\n",
       "      <td>80</td>\n",
       "    </tr>\n",
       "    <tr>\n",
       "      <th>4</th>\n",
       "      <td>155</td>\n",
       "      <td>3</td>\n",
       "    </tr>\n",
       "  </tbody>\n",
       "</table>\n",
       "</div>"
      ],
      "text/plain": [
       "         Vistas trim No MD  Vistas trim MD\n",
       "USER_ID                                   \n",
       "0                        0             190\n",
       "1                        2              51\n",
       "2                       21              26\n",
       "3                        0              80\n",
       "4                      155               3"
      ]
     },
     "execution_count": 22,
     "metadata": {},
     "output_type": "execute_result"
    }
   ],
   "source": [
    "TRIMESTRES[1].head()"
   ]
  },
  {
   "cell_type": "code",
   "execution_count": 23,
   "metadata": {},
   "outputs": [
    {
     "data": {
      "text/html": [
       "<div>\n",
       "<style scoped>\n",
       "    .dataframe tbody tr th:only-of-type {\n",
       "        vertical-align: middle;\n",
       "    }\n",
       "\n",
       "    .dataframe tbody tr th {\n",
       "        vertical-align: top;\n",
       "    }\n",
       "\n",
       "    .dataframe thead th {\n",
       "        text-align: right;\n",
       "    }\n",
       "</style>\n",
       "<table border=\"1\" class=\"dataframe\">\n",
       "  <thead>\n",
       "    <tr style=\"text-align: right;\">\n",
       "      <th></th>\n",
       "      <th>Vistas trim No MD</th>\n",
       "      <th>Vistas trim MD</th>\n",
       "    </tr>\n",
       "    <tr>\n",
       "      <th>USER_ID</th>\n",
       "      <th></th>\n",
       "      <th></th>\n",
       "    </tr>\n",
       "  </thead>\n",
       "  <tbody>\n",
       "    <tr>\n",
       "      <th>0</th>\n",
       "      <td>0</td>\n",
       "      <td>112</td>\n",
       "    </tr>\n",
       "    <tr>\n",
       "      <th>1</th>\n",
       "      <td>9</td>\n",
       "      <td>50</td>\n",
       "    </tr>\n",
       "    <tr>\n",
       "      <th>2</th>\n",
       "      <td>19</td>\n",
       "      <td>55</td>\n",
       "    </tr>\n",
       "    <tr>\n",
       "      <th>3</th>\n",
       "      <td>5</td>\n",
       "      <td>52</td>\n",
       "    </tr>\n",
       "    <tr>\n",
       "      <th>4</th>\n",
       "      <td>46</td>\n",
       "      <td>2</td>\n",
       "    </tr>\n",
       "  </tbody>\n",
       "</table>\n",
       "</div>"
      ],
      "text/plain": [
       "         Vistas trim No MD  Vistas trim MD\n",
       "USER_ID                                   \n",
       "0                        0             112\n",
       "1                        9              50\n",
       "2                       19              55\n",
       "3                        5              52\n",
       "4                       46               2"
      ]
     },
     "execution_count": 23,
     "metadata": {},
     "output_type": "execute_result"
    }
   ],
   "source": [
    "TRIMESTRES[4].head()"
   ]
  },
  {
   "cell_type": "markdown",
   "metadata": {},
   "source": [
    "### Guardado"
   ]
  },
  {
   "cell_type": "code",
   "execution_count": 24,
   "metadata": {},
   "outputs": [],
   "source": [
    "for ventana_nro in range(1, CANT_TRIMESTRES ):\n",
    "    TRIMESTRES[ventana_nro].to_pickle(\"../data/features/ventana_{}_devicedata.pkl\".format(ventana_nro))\n",
    "\n",
    "TRIMESTRES[4].to_pickle(\"../data/features/predecir_devicedata.pkl\")"
   ]
  },
  {
   "cell_type": "code",
   "execution_count": null,
   "metadata": {},
   "outputs": [],
   "source": []
  }
 ],
 "metadata": {
  "kernelspec": {
   "display_name": "Python 3",
   "language": "python",
   "name": "python3"
  },
  "language_info": {
   "codemirror_mode": {
    "name": "ipython",
    "version": 3
   },
   "file_extension": ".py",
   "mimetype": "text/x-python",
   "name": "python",
   "nbconvert_exporter": "python",
   "pygments_lexer": "ipython3",
   "version": "3.6.8"
  }
 },
 "nbformat": 4,
 "nbformat_minor": 2
}
