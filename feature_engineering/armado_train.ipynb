{
 "cells": [
  {
   "cell_type": "code",
   "execution_count": 1,
   "metadata": {},
   "outputs": [],
   "source": [
    "import pandas as pd\n",
    "import numpy as numpy"
   ]
  },
  {
   "cell_type": "markdown",
   "metadata": {},
   "source": [
    "# Armado de sets de entrenamiento"
   ]
  },
  {
   "cell_type": "code",
   "execution_count": 2,
   "metadata": {},
   "outputs": [],
   "source": [
    "train = pd.DataFrame()"
   ]
  },
  {
   "cell_type": "code",
   "execution_count": 3,
   "metadata": {},
   "outputs": [],
   "source": [
    "for ventana in range(1,4):\n",
    "    \n",
    "    features_pageviews = pd.read_pickle(\"../data/features/ventana_{}_pageviews.pkl\".format(ventana))\n",
    "    features_conversion = pd.read_pickle(\"../data/features/ventana_{}_conversion.pkl\".format(ventana))\n",
    "    \n",
    "    label = pd.read_pickle(\"../data/labels/labels_trimestre_{}.pkl\".format(ventana+1))\n",
    "\n",
    "    train_actual = label.merge(features_pageviews,left_index = True, right_index = True, how = 'left')\n",
    "    train_actual = train_actual.merge(features_conversion,left_index = True, right_index = True, how = 'left')\n",
    "    \n",
    "    train = train.append(train_actual)"
   ]
  },
  {
   "cell_type": "markdown",
   "metadata": {},
   "source": [
    "### Formateo los datos"
   ]
  },
  {
   "cell_type": "markdown",
   "metadata": {},
   "source": [
    "#### Columnas categoricas"
   ]
  },
  {
   "cell_type": "code",
   "execution_count": 16,
   "metadata": {},
   "outputs": [],
   "source": [
    "columnas_categoricas = [  'page_mas_vista_en_mes_1',\n",
    "       'page_mas_vista_en_mes_2', 'page_mas_vista_en_mes_3']"
   ]
  },
  {
   "cell_type": "code",
   "execution_count": 21,
   "metadata": {},
   "outputs": [],
   "source": [
    "train[columnas_categoricas] = train[columnas_categoricas].fillna(-1)\n",
    "train[columnas_categoricas] = train[columnas_categoricas].astype(\"int64\")\n",
    "train[columnas_categoricas] = train[columnas_categoricas].astype(\"category\")"
   ]
  },
  {
   "cell_type": "markdown",
   "metadata": {},
   "source": [
    "#### Columnas con valores numericos"
   ]
  },
  {
   "cell_type": "code",
   "execution_count": 15,
   "metadata": {},
   "outputs": [],
   "source": [
    "columnas_contar = ['cantidad_paginas_vistas_trimestre',\n",
    "       'cant_paginas_vistas_en_mes_1', 'cant_paginas_vistas_en_mes_2',\n",
    "       'cant_paginas_vistas_en_mes_3']"
   ]
  },
  {
   "cell_type": "code",
   "execution_count": 23,
   "metadata": {},
   "outputs": [],
   "source": [
    "train[columnas_contar] = train[columnas_contar].fillna(0)\n",
    "train[columnas_contar] = train[columnas_contar].astype(\"int64\")"
   ]
  },
  {
   "cell_type": "markdown",
   "metadata": {},
   "source": [
    "#### Columnas booleanas"
   ]
  },
  {
   "cell_type": "code",
   "execution_count": 17,
   "metadata": {},
   "outputs": [],
   "source": [
    "columnas_booleanas = ['convirtio_en_mes_1', 'convirtio_en_mes_2', 'convirtio_en_mes_3',\n",
    "       'convirtio_multiple_en_mes_1', 'convirtio_multiple_en_mes_2',\n",
    "       'convirtio_multiple_en_mes_3']"
   ]
  },
  {
   "cell_type": "code",
   "execution_count": 18,
   "metadata": {},
   "outputs": [],
   "source": [
    "train[\"convirtio\"] = train[\"convirtio\"] * 1"
   ]
  },
  {
   "cell_type": "code",
   "execution_count": 24,
   "metadata": {},
   "outputs": [],
   "source": [
    "train[columnas_booleanas] = train[columnas_booleanas].fillna(0)\n",
    "train[columnas_booleanas] = train[columnas_booleanas].astype(\"int8\")"
   ]
  },
  {
   "cell_type": "markdown",
   "metadata": {},
   "source": [
    "---"
   ]
  },
  {
   "cell_type": "code",
   "execution_count": 28,
   "metadata": {},
   "outputs": [
    {
     "data": {
      "text/html": [
       "<div>\n",
       "<style scoped>\n",
       "    .dataframe tbody tr th:only-of-type {\n",
       "        vertical-align: middle;\n",
       "    }\n",
       "\n",
       "    .dataframe tbody tr th {\n",
       "        vertical-align: top;\n",
       "    }\n",
       "\n",
       "    .dataframe thead th {\n",
       "        text-align: right;\n",
       "    }\n",
       "</style>\n",
       "<table border=\"1\" class=\"dataframe\">\n",
       "  <thead>\n",
       "    <tr style=\"text-align: right;\">\n",
       "      <th></th>\n",
       "      <th>convirtio</th>\n",
       "      <th>cantidad_paginas_vistas_trimestre</th>\n",
       "      <th>cant_paginas_vistas_en_mes_1</th>\n",
       "      <th>cant_paginas_vistas_en_mes_2</th>\n",
       "      <th>cant_paginas_vistas_en_mes_3</th>\n",
       "      <th>page_mas_vista_en_mes_1</th>\n",
       "      <th>page_mas_vista_en_mes_2</th>\n",
       "      <th>page_mas_vista_en_mes_3</th>\n",
       "      <th>convirtio_en_mes_1</th>\n",
       "      <th>convirtio_en_mes_2</th>\n",
       "      <th>convirtio_en_mes_3</th>\n",
       "      <th>convirtio_multiple_en_mes_1</th>\n",
       "      <th>convirtio_multiple_en_mes_2</th>\n",
       "      <th>convirtio_multiple_en_mes_3</th>\n",
       "    </tr>\n",
       "    <tr>\n",
       "      <th>USER_ID</th>\n",
       "      <th></th>\n",
       "      <th></th>\n",
       "      <th></th>\n",
       "      <th></th>\n",
       "      <th></th>\n",
       "      <th></th>\n",
       "      <th></th>\n",
       "      <th></th>\n",
       "      <th></th>\n",
       "      <th></th>\n",
       "      <th></th>\n",
       "      <th></th>\n",
       "      <th></th>\n",
       "      <th></th>\n",
       "    </tr>\n",
       "  </thead>\n",
       "  <tbody>\n",
       "    <tr>\n",
       "      <th>6574</th>\n",
       "      <td>0</td>\n",
       "      <td>1141</td>\n",
       "      <td>524</td>\n",
       "      <td>364</td>\n",
       "      <td>253</td>\n",
       "      <td>10</td>\n",
       "      <td>10</td>\n",
       "      <td>10</td>\n",
       "      <td>0</td>\n",
       "      <td>0</td>\n",
       "      <td>0</td>\n",
       "      <td>0</td>\n",
       "      <td>0</td>\n",
       "      <td>0</td>\n",
       "    </tr>\n",
       "    <tr>\n",
       "      <th>2639</th>\n",
       "      <td>1</td>\n",
       "      <td>671</td>\n",
       "      <td>261</td>\n",
       "      <td>179</td>\n",
       "      <td>231</td>\n",
       "      <td>3</td>\n",
       "      <td>5</td>\n",
       "      <td>3</td>\n",
       "      <td>0</td>\n",
       "      <td>0</td>\n",
       "      <td>0</td>\n",
       "      <td>0</td>\n",
       "      <td>0</td>\n",
       "      <td>0</td>\n",
       "    </tr>\n",
       "    <tr>\n",
       "      <th>3898</th>\n",
       "      <td>0</td>\n",
       "      <td>219</td>\n",
       "      <td>88</td>\n",
       "      <td>50</td>\n",
       "      <td>81</td>\n",
       "      <td>85</td>\n",
       "      <td>85</td>\n",
       "      <td>27</td>\n",
       "      <td>0</td>\n",
       "      <td>0</td>\n",
       "      <td>0</td>\n",
       "      <td>0</td>\n",
       "      <td>0</td>\n",
       "      <td>0</td>\n",
       "    </tr>\n",
       "    <tr>\n",
       "      <th>7996</th>\n",
       "      <td>0</td>\n",
       "      <td>383</td>\n",
       "      <td>95</td>\n",
       "      <td>178</td>\n",
       "      <td>110</td>\n",
       "      <td>2</td>\n",
       "      <td>2</td>\n",
       "      <td>2</td>\n",
       "      <td>0</td>\n",
       "      <td>0</td>\n",
       "      <td>0</td>\n",
       "      <td>0</td>\n",
       "      <td>0</td>\n",
       "      <td>0</td>\n",
       "    </tr>\n",
       "    <tr>\n",
       "      <th>6111</th>\n",
       "      <td>0</td>\n",
       "      <td>425</td>\n",
       "      <td>208</td>\n",
       "      <td>93</td>\n",
       "      <td>124</td>\n",
       "      <td>3</td>\n",
       "      <td>39</td>\n",
       "      <td>3</td>\n",
       "      <td>0</td>\n",
       "      <td>0</td>\n",
       "      <td>0</td>\n",
       "      <td>0</td>\n",
       "      <td>0</td>\n",
       "      <td>0</td>\n",
       "    </tr>\n",
       "  </tbody>\n",
       "</table>\n",
       "</div>"
      ],
      "text/plain": [
       "         convirtio  cantidad_paginas_vistas_trimestre  \\\n",
       "USER_ID                                                 \n",
       "6574             0                               1141   \n",
       "2639             1                                671   \n",
       "3898             0                                219   \n",
       "7996             0                                383   \n",
       "6111             0                                425   \n",
       "\n",
       "         cant_paginas_vistas_en_mes_1  cant_paginas_vistas_en_mes_2  \\\n",
       "USER_ID                                                               \n",
       "6574                              524                           364   \n",
       "2639                              261                           179   \n",
       "3898                               88                            50   \n",
       "7996                               95                           178   \n",
       "6111                              208                            93   \n",
       "\n",
       "         cant_paginas_vistas_en_mes_3 page_mas_vista_en_mes_1  \\\n",
       "USER_ID                                                         \n",
       "6574                              253                      10   \n",
       "2639                              231                       3   \n",
       "3898                               81                      85   \n",
       "7996                              110                       2   \n",
       "6111                              124                       3   \n",
       "\n",
       "        page_mas_vista_en_mes_2 page_mas_vista_en_mes_3  convirtio_en_mes_1  \\\n",
       "USER_ID                                                                       \n",
       "6574                         10                      10                   0   \n",
       "2639                          5                       3                   0   \n",
       "3898                         85                      27                   0   \n",
       "7996                          2                       2                   0   \n",
       "6111                         39                       3                   0   \n",
       "\n",
       "         convirtio_en_mes_2  convirtio_en_mes_3  convirtio_multiple_en_mes_1  \\\n",
       "USER_ID                                                                        \n",
       "6574                      0                   0                            0   \n",
       "2639                      0                   0                            0   \n",
       "3898                      0                   0                            0   \n",
       "7996                      0                   0                            0   \n",
       "6111                      0                   0                            0   \n",
       "\n",
       "         convirtio_multiple_en_mes_2  convirtio_multiple_en_mes_3  \n",
       "USER_ID                                                            \n",
       "6574                               0                            0  \n",
       "2639                               0                            0  \n",
       "3898                               0                            0  \n",
       "7996                               0                            0  \n",
       "6111                               0                            0  "
      ]
     },
     "execution_count": 28,
     "metadata": {},
     "output_type": "execute_result"
    }
   ],
   "source": [
    "train.head()"
   ]
  },
  {
   "cell_type": "code",
   "execution_count": 29,
   "metadata": {},
   "outputs": [],
   "source": [
    "train.to_pickle(\"../data/train_completo.pkl\")"
   ]
  },
  {
   "cell_type": "code",
   "execution_count": null,
   "metadata": {},
   "outputs": [],
   "source": []
  }
 ],
 "metadata": {
  "kernelspec": {
   "display_name": "Python 3",
   "language": "python",
   "name": "python3"
  },
  "language_info": {
   "codemirror_mode": {
    "name": "ipython",
    "version": 3
   },
   "file_extension": ".py",
   "mimetype": "text/x-python",
   "name": "python",
   "nbconvert_exporter": "python",
   "pygments_lexer": "ipython3",
   "version": "3.6.8"
  }
 },
 "nbformat": 4,
 "nbformat_minor": 2
}
