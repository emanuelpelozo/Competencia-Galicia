{
 "cells": [
  {
   "cell_type": "code",
   "execution_count": 2,
   "metadata": {},
   "outputs": [],
   "source": [
    "import pandas as pd\n",
    "import numpy as numpy"
   ]
  },
  {
   "cell_type": "markdown",
   "metadata": {},
   "source": [
    "# Armado de sets de entrenamiento"
   ]
  },
  {
   "cell_type": "code",
   "execution_count": 2,
   "metadata": {},
   "outputs": [],
   "source": [
    "train = pd.DataFrame()"
   ]
  },
  {
   "cell_type": "code",
   "execution_count": 3,
   "metadata": {},
   "outputs": [],
   "source": [
    "for ventana in range(1,4):\n",
    "    \n",
    "    features_pageviews = pd.read_pickle(\"../data/features/ventana_{}_pageviews.pkl\".format(ventana))\n",
    "    features_conversion = pd.read_pickle(\"../data/features/ventana_{}_conversion.pkl\".format(ventana))\n",
    "    \n",
    "    label = pd.read_pickle(\"../data/labels/labels_trimestre_{}.pkl\".format(ventana+1))\n",
    "\n",
    "    train_actual = label.merge(features_pageviews,left_index = True, right_index = True, how = 'left')\n",
    "    train_actual = train_actual.merge(features_conversion,left_index = True, right_index = True, how = 'left')\n",
    "    \n",
    "    train = train.append(train_actual)"
   ]
  },
  {
   "cell_type": "markdown",
   "metadata": {},
   "source": [
    "### Formateo los datos"
   ]
  },
  {
   "cell_type": "markdown",
   "metadata": {},
   "source": [
    "#### Columnas categoricas"
   ]
  },
  {
   "cell_type": "code",
   "execution_count": 38,
   "metadata": {},
   "outputs": [],
   "source": [
    "columnas_categoricas = [  'page_mas_vista_en_mes_1',\n",
    "       'page_mas_vista_en_mes_2', 'page_mas_vista_en_mes_3']"
   ]
  },
  {
   "cell_type": "code",
   "execution_count": 39,
   "metadata": {},
   "outputs": [],
   "source": [
    "train[columnas_categoricas] = train[columnas_categoricas].fillna(-1)\n",
    "train[columnas_categoricas] = train[columnas_categoricas].astype(\"int32\")"
   ]
  },
  {
   "cell_type": "markdown",
   "metadata": {},
   "source": [
    "#### Columnas con valores numericos"
   ]
  },
  {
   "cell_type": "code",
   "execution_count": 15,
   "metadata": {},
   "outputs": [],
   "source": [
    "columnas_contar = ['cantidad_paginas_vistas_trimestre',\n",
    "       'cant_paginas_vistas_en_mes_1', 'cant_paginas_vistas_en_mes_2',\n",
    "       'cant_paginas_vistas_en_mes_3']"
   ]
  },
  {
   "cell_type": "code",
   "execution_count": 23,
   "metadata": {},
   "outputs": [],
   "source": [
    "train[columnas_contar] = train[columnas_contar].fillna(0)\n",
    "train[columnas_contar] = train[columnas_contar].astype(\"int64\")"
   ]
  },
  {
   "cell_type": "markdown",
   "metadata": {},
   "source": [
    "#### Columnas booleanas"
   ]
  },
  {
   "cell_type": "code",
   "execution_count": 17,
   "metadata": {},
   "outputs": [],
   "source": [
    "columnas_booleanas = ['convirtio_en_mes_1', 'convirtio_en_mes_2', 'convirtio_en_mes_3',\n",
    "       'convirtio_multiple_en_mes_1', 'convirtio_multiple_en_mes_2',\n",
    "       'convirtio_multiple_en_mes_3']"
   ]
  },
  {
   "cell_type": "code",
   "execution_count": 18,
   "metadata": {},
   "outputs": [],
   "source": [
    "train[\"convirtio\"] = train[\"convirtio\"] * 1"
   ]
  },
  {
   "cell_type": "code",
   "execution_count": 24,
   "metadata": {},
   "outputs": [],
   "source": [
    "train[columnas_booleanas] = train[columnas_booleanas].fillna(0)\n",
    "train[columnas_booleanas] = train[columnas_booleanas].astype(\"int8\")"
   ]
  },
  {
   "cell_type": "markdown",
   "metadata": {},
   "source": [
    "---"
   ]
  },
  {
   "cell_type": "code",
   "execution_count": 28,
   "metadata": {},
   "outputs": [
    {
     "data": {
      "text/html": [
       "<div>\n",
       "<style scoped>\n",
       "    .dataframe tbody tr th:only-of-type {\n",
       "        vertical-align: middle;\n",
       "    }\n",
       "\n",
       "    .dataframe tbody tr th {\n",
       "        vertical-align: top;\n",
       "    }\n",
       "\n",
       "    .dataframe thead th {\n",
       "        text-align: right;\n",
       "    }\n",
       "</style>\n",
       "<table border=\"1\" class=\"dataframe\">\n",
       "  <thead>\n",
       "    <tr style=\"text-align: right;\">\n",
       "      <th></th>\n",
       "      <th>convirtio</th>\n",
       "      <th>cantidad_paginas_vistas_trimestre</th>\n",
       "      <th>cant_paginas_vistas_en_mes_1</th>\n",
       "      <th>cant_paginas_vistas_en_mes_2</th>\n",
       "      <th>cant_paginas_vistas_en_mes_3</th>\n",
       "      <th>page_mas_vista_en_mes_1</th>\n",
       "      <th>page_mas_vista_en_mes_2</th>\n",
       "      <th>page_mas_vista_en_mes_3</th>\n",
       "      <th>convirtio_en_mes_1</th>\n",
       "      <th>convirtio_en_mes_2</th>\n",
       "      <th>convirtio_en_mes_3</th>\n",
       "      <th>convirtio_multiple_en_mes_1</th>\n",
       "      <th>convirtio_multiple_en_mes_2</th>\n",
       "      <th>convirtio_multiple_en_mes_3</th>\n",
       "    </tr>\n",
       "    <tr>\n",
       "      <th>USER_ID</th>\n",
       "      <th></th>\n",
       "      <th></th>\n",
       "      <th></th>\n",
       "      <th></th>\n",
       "      <th></th>\n",
       "      <th></th>\n",
       "      <th></th>\n",
       "      <th></th>\n",
       "      <th></th>\n",
       "      <th></th>\n",
       "      <th></th>\n",
       "      <th></th>\n",
       "      <th></th>\n",
       "      <th></th>\n",
       "    </tr>\n",
       "  </thead>\n",
       "  <tbody>\n",
       "    <tr>\n",
       "      <th>6574</th>\n",
       "      <td>0</td>\n",
       "      <td>1141</td>\n",
       "      <td>524</td>\n",
       "      <td>364</td>\n",
       "      <td>253</td>\n",
       "      <td>10</td>\n",
       "      <td>10</td>\n",
       "      <td>10</td>\n",
       "      <td>0</td>\n",
       "      <td>0</td>\n",
       "      <td>0</td>\n",
       "      <td>0</td>\n",
       "      <td>0</td>\n",
       "      <td>0</td>\n",
       "    </tr>\n",
       "    <tr>\n",
       "      <th>2639</th>\n",
       "      <td>1</td>\n",
       "      <td>671</td>\n",
       "      <td>261</td>\n",
       "      <td>179</td>\n",
       "      <td>231</td>\n",
       "      <td>3</td>\n",
       "      <td>5</td>\n",
       "      <td>3</td>\n",
       "      <td>0</td>\n",
       "      <td>0</td>\n",
       "      <td>0</td>\n",
       "      <td>0</td>\n",
       "      <td>0</td>\n",
       "      <td>0</td>\n",
       "    </tr>\n",
       "    <tr>\n",
       "      <th>3898</th>\n",
       "      <td>0</td>\n",
       "      <td>219</td>\n",
       "      <td>88</td>\n",
       "      <td>50</td>\n",
       "      <td>81</td>\n",
       "      <td>85</td>\n",
       "      <td>85</td>\n",
       "      <td>27</td>\n",
       "      <td>0</td>\n",
       "      <td>0</td>\n",
       "      <td>0</td>\n",
       "      <td>0</td>\n",
       "      <td>0</td>\n",
       "      <td>0</td>\n",
       "    </tr>\n",
       "    <tr>\n",
       "      <th>7996</th>\n",
       "      <td>0</td>\n",
       "      <td>383</td>\n",
       "      <td>95</td>\n",
       "      <td>178</td>\n",
       "      <td>110</td>\n",
       "      <td>2</td>\n",
       "      <td>2</td>\n",
       "      <td>2</td>\n",
       "      <td>0</td>\n",
       "      <td>0</td>\n",
       "      <td>0</td>\n",
       "      <td>0</td>\n",
       "      <td>0</td>\n",
       "      <td>0</td>\n",
       "    </tr>\n",
       "    <tr>\n",
       "      <th>6111</th>\n",
       "      <td>0</td>\n",
       "      <td>425</td>\n",
       "      <td>208</td>\n",
       "      <td>93</td>\n",
       "      <td>124</td>\n",
       "      <td>3</td>\n",
       "      <td>39</td>\n",
       "      <td>3</td>\n",
       "      <td>0</td>\n",
       "      <td>0</td>\n",
       "      <td>0</td>\n",
       "      <td>0</td>\n",
       "      <td>0</td>\n",
       "      <td>0</td>\n",
       "    </tr>\n",
       "  </tbody>\n",
       "</table>\n",
       "</div>"
      ],
      "text/plain": [
       "         convirtio  cantidad_paginas_vistas_trimestre  \\\n",
       "USER_ID                                                 \n",
       "6574             0                               1141   \n",
       "2639             1                                671   \n",
       "3898             0                                219   \n",
       "7996             0                                383   \n",
       "6111             0                                425   \n",
       "\n",
       "         cant_paginas_vistas_en_mes_1  cant_paginas_vistas_en_mes_2  \\\n",
       "USER_ID                                                               \n",
       "6574                              524                           364   \n",
       "2639                              261                           179   \n",
       "3898                               88                            50   \n",
       "7996                               95                           178   \n",
       "6111                              208                            93   \n",
       "\n",
       "         cant_paginas_vistas_en_mes_3 page_mas_vista_en_mes_1  \\\n",
       "USER_ID                                                         \n",
       "6574                              253                      10   \n",
       "2639                              231                       3   \n",
       "3898                               81                      85   \n",
       "7996                              110                       2   \n",
       "6111                              124                       3   \n",
       "\n",
       "        page_mas_vista_en_mes_2 page_mas_vista_en_mes_3  convirtio_en_mes_1  \\\n",
       "USER_ID                                                                       \n",
       "6574                         10                      10                   0   \n",
       "2639                          5                       3                   0   \n",
       "3898                         85                      27                   0   \n",
       "7996                          2                       2                   0   \n",
       "6111                         39                       3                   0   \n",
       "\n",
       "         convirtio_en_mes_2  convirtio_en_mes_3  convirtio_multiple_en_mes_1  \\\n",
       "USER_ID                                                                        \n",
       "6574                      0                   0                            0   \n",
       "2639                      0                   0                            0   \n",
       "3898                      0                   0                            0   \n",
       "7996                      0                   0                            0   \n",
       "6111                      0                   0                            0   \n",
       "\n",
       "         convirtio_multiple_en_mes_2  convirtio_multiple_en_mes_3  \n",
       "USER_ID                                                            \n",
       "6574                               0                            0  \n",
       "2639                               0                            0  \n",
       "3898                               0                            0  \n",
       "7996                               0                            0  \n",
       "6111                               0                            0  "
      ]
     },
     "execution_count": 28,
     "metadata": {},
     "output_type": "execute_result"
    }
   ],
   "source": [
    "train.head()"
   ]
  },
  {
   "cell_type": "code",
   "execution_count": 40,
   "metadata": {},
   "outputs": [],
   "source": [
    "train.to_pickle(\"../data/train_completo.pkl\")"
   ]
  },
  {
   "cell_type": "markdown",
   "metadata": {},
   "source": [
    "### Armado de set prediccion"
   ]
  },
  {
   "cell_type": "code",
   "execution_count": 32,
   "metadata": {},
   "outputs": [],
   "source": [
    "    \n",
    "features_pageviews = pd.read_pickle(\"../data/features/predecir_pageviews.pkl\")\n",
    "features_conversion = pd.read_pickle(\"../data/features/predecir_conversion.pkl\")\n",
    "    \n",
    "\n",
    "features_pred = features_pageviews.merge(features_conversion,left_index = True, right_index = True, how = 'left')"
   ]
  },
  {
   "cell_type": "code",
   "execution_count": 35,
   "metadata": {},
   "outputs": [],
   "source": [
    "features_pred.to_pickle(\"../data/prediccion_completo.pkl\")"
   ]
  },
  {
   "cell_type": "markdown",
   "metadata": {},
   "source": [
    "---"
   ]
  },
  {
   "cell_type": "markdown",
   "metadata": {},
   "source": [
    "## Binary encode"
   ]
  },
  {
   "cell_type": "code",
   "execution_count": 4,
   "metadata": {},
   "outputs": [],
   "source": [
    "import category_encoders as ce"
   ]
  },
  {
   "cell_type": "code",
   "execution_count": 3,
   "metadata": {},
   "outputs": [],
   "source": [
    "train = pd.read_pickle(\"../data/train_completo.pkl\")"
   ]
  },
  {
   "cell_type": "code",
   "execution_count": 22,
   "metadata": {},
   "outputs": [],
   "source": [
    "cat_df_flights_ce = train.drop(\"convirtio\",axis = 1).copy()\n",
    "\n",
    "\n"
   ]
  },
  {
   "cell_type": "code",
   "execution_count": 23,
   "metadata": {},
   "outputs": [],
   "source": [
    "encoder = ce.BinaryEncoder(cols=['page_mas_vista_en_mes_1','page_mas_vista_en_mes_2','page_mas_vista_en_mes_3'])\n",
    "df_binary = encoder.fit_transform(cat_df_flights_ce)\n",
    "\n"
   ]
  },
  {
   "cell_type": "code",
   "execution_count": 24,
   "metadata": {},
   "outputs": [
    {
     "data": {
      "text/plain": [
       "Index(['cantidad_paginas_vistas_trimestre', 'cant_paginas_vistas_en_mes_1',\n",
       "       'cant_paginas_vistas_en_mes_2', 'cant_paginas_vistas_en_mes_3',\n",
       "       'page_mas_vista_en_mes_1_0', 'page_mas_vista_en_mes_1_1',\n",
       "       'page_mas_vista_en_mes_1_2', 'page_mas_vista_en_mes_1_3',\n",
       "       'page_mas_vista_en_mes_1_4', 'page_mas_vista_en_mes_1_5',\n",
       "       'page_mas_vista_en_mes_1_6', 'page_mas_vista_en_mes_1_7',\n",
       "       'page_mas_vista_en_mes_1_8', 'page_mas_vista_en_mes_2_0',\n",
       "       'page_mas_vista_en_mes_2_1', 'page_mas_vista_en_mes_2_2',\n",
       "       'page_mas_vista_en_mes_2_3', 'page_mas_vista_en_mes_2_4',\n",
       "       'page_mas_vista_en_mes_2_5', 'page_mas_vista_en_mes_2_6',\n",
       "       'page_mas_vista_en_mes_2_7', 'page_mas_vista_en_mes_2_8',\n",
       "       'page_mas_vista_en_mes_3_0', 'page_mas_vista_en_mes_3_1',\n",
       "       'page_mas_vista_en_mes_3_2', 'page_mas_vista_en_mes_3_3',\n",
       "       'page_mas_vista_en_mes_3_4', 'page_mas_vista_en_mes_3_5',\n",
       "       'page_mas_vista_en_mes_3_6', 'page_mas_vista_en_mes_3_7',\n",
       "       'page_mas_vista_en_mes_3_8', 'convirtio_en_mes_1', 'convirtio_en_mes_2',\n",
       "       'convirtio_en_mes_3', 'convirtio_multiple_en_mes_1',\n",
       "       'convirtio_multiple_en_mes_2', 'convirtio_multiple_en_mes_3'],\n",
       "      dtype='object')"
      ]
     },
     "execution_count": 24,
     "metadata": {},
     "output_type": "execute_result"
    }
   ],
   "source": [
    "\n",
    "df_binary.columns"
   ]
  },
  {
   "cell_type": "code",
   "execution_count": 42,
   "metadata": {},
   "outputs": [
    {
     "data": {
      "text/html": [
       "<div>\n",
       "<style scoped>\n",
       "    .dataframe tbody tr th:only-of-type {\n",
       "        vertical-align: middle;\n",
       "    }\n",
       "\n",
       "    .dataframe tbody tr th {\n",
       "        vertical-align: top;\n",
       "    }\n",
       "\n",
       "    .dataframe thead th {\n",
       "        text-align: right;\n",
       "    }\n",
       "</style>\n",
       "<table border=\"1\" class=\"dataframe\">\n",
       "  <thead>\n",
       "    <tr style=\"text-align: right;\">\n",
       "      <th></th>\n",
       "      <th>cantidad_paginas_vistas_trimestre</th>\n",
       "      <th>cant_paginas_vistas_en_mes_1</th>\n",
       "      <th>cant_paginas_vistas_en_mes_2</th>\n",
       "      <th>cant_paginas_vistas_en_mes_3</th>\n",
       "      <th>page_mas_vista_en_mes_1_0</th>\n",
       "      <th>page_mas_vista_en_mes_1_1</th>\n",
       "      <th>page_mas_vista_en_mes_1_2</th>\n",
       "      <th>page_mas_vista_en_mes_1_3</th>\n",
       "      <th>page_mas_vista_en_mes_1_4</th>\n",
       "      <th>page_mas_vista_en_mes_1_5</th>\n",
       "      <th>...</th>\n",
       "      <th>page_mas_vista_en_mes_3_5</th>\n",
       "      <th>page_mas_vista_en_mes_3_6</th>\n",
       "      <th>page_mas_vista_en_mes_3_7</th>\n",
       "      <th>page_mas_vista_en_mes_3_8</th>\n",
       "      <th>convirtio_en_mes_1</th>\n",
       "      <th>convirtio_en_mes_2</th>\n",
       "      <th>convirtio_en_mes_3</th>\n",
       "      <th>convirtio_multiple_en_mes_1</th>\n",
       "      <th>convirtio_multiple_en_mes_2</th>\n",
       "      <th>convirtio_multiple_en_mes_3</th>\n",
       "    </tr>\n",
       "    <tr>\n",
       "      <th>USER_ID</th>\n",
       "      <th></th>\n",
       "      <th></th>\n",
       "      <th></th>\n",
       "      <th></th>\n",
       "      <th></th>\n",
       "      <th></th>\n",
       "      <th></th>\n",
       "      <th></th>\n",
       "      <th></th>\n",
       "      <th></th>\n",
       "      <th></th>\n",
       "      <th></th>\n",
       "      <th></th>\n",
       "      <th></th>\n",
       "      <th></th>\n",
       "      <th></th>\n",
       "      <th></th>\n",
       "      <th></th>\n",
       "      <th></th>\n",
       "      <th></th>\n",
       "      <th></th>\n",
       "    </tr>\n",
       "  </thead>\n",
       "  <tbody>\n",
       "    <tr>\n",
       "      <th>6574</th>\n",
       "      <td>1141</td>\n",
       "      <td>524</td>\n",
       "      <td>364</td>\n",
       "      <td>253</td>\n",
       "      <td>0</td>\n",
       "      <td>0</td>\n",
       "      <td>0</td>\n",
       "      <td>0</td>\n",
       "      <td>0</td>\n",
       "      <td>0</td>\n",
       "      <td>...</td>\n",
       "      <td>0</td>\n",
       "      <td>0</td>\n",
       "      <td>0</td>\n",
       "      <td>1</td>\n",
       "      <td>0</td>\n",
       "      <td>0</td>\n",
       "      <td>0</td>\n",
       "      <td>0</td>\n",
       "      <td>0</td>\n",
       "      <td>0</td>\n",
       "    </tr>\n",
       "    <tr>\n",
       "      <th>2639</th>\n",
       "      <td>671</td>\n",
       "      <td>261</td>\n",
       "      <td>179</td>\n",
       "      <td>231</td>\n",
       "      <td>0</td>\n",
       "      <td>0</td>\n",
       "      <td>0</td>\n",
       "      <td>0</td>\n",
       "      <td>0</td>\n",
       "      <td>0</td>\n",
       "      <td>...</td>\n",
       "      <td>0</td>\n",
       "      <td>0</td>\n",
       "      <td>1</td>\n",
       "      <td>0</td>\n",
       "      <td>0</td>\n",
       "      <td>0</td>\n",
       "      <td>0</td>\n",
       "      <td>0</td>\n",
       "      <td>0</td>\n",
       "      <td>0</td>\n",
       "    </tr>\n",
       "    <tr>\n",
       "      <th>3898</th>\n",
       "      <td>219</td>\n",
       "      <td>88</td>\n",
       "      <td>50</td>\n",
       "      <td>81</td>\n",
       "      <td>0</td>\n",
       "      <td>0</td>\n",
       "      <td>0</td>\n",
       "      <td>0</td>\n",
       "      <td>0</td>\n",
       "      <td>0</td>\n",
       "      <td>...</td>\n",
       "      <td>0</td>\n",
       "      <td>0</td>\n",
       "      <td>1</td>\n",
       "      <td>1</td>\n",
       "      <td>0</td>\n",
       "      <td>0</td>\n",
       "      <td>0</td>\n",
       "      <td>0</td>\n",
       "      <td>0</td>\n",
       "      <td>0</td>\n",
       "    </tr>\n",
       "    <tr>\n",
       "      <th>7996</th>\n",
       "      <td>383</td>\n",
       "      <td>95</td>\n",
       "      <td>178</td>\n",
       "      <td>110</td>\n",
       "      <td>0</td>\n",
       "      <td>0</td>\n",
       "      <td>0</td>\n",
       "      <td>0</td>\n",
       "      <td>0</td>\n",
       "      <td>0</td>\n",
       "      <td>...</td>\n",
       "      <td>0</td>\n",
       "      <td>1</td>\n",
       "      <td>0</td>\n",
       "      <td>0</td>\n",
       "      <td>0</td>\n",
       "      <td>0</td>\n",
       "      <td>0</td>\n",
       "      <td>0</td>\n",
       "      <td>0</td>\n",
       "      <td>0</td>\n",
       "    </tr>\n",
       "    <tr>\n",
       "      <th>6111</th>\n",
       "      <td>425</td>\n",
       "      <td>208</td>\n",
       "      <td>93</td>\n",
       "      <td>124</td>\n",
       "      <td>0</td>\n",
       "      <td>0</td>\n",
       "      <td>0</td>\n",
       "      <td>0</td>\n",
       "      <td>0</td>\n",
       "      <td>0</td>\n",
       "      <td>...</td>\n",
       "      <td>0</td>\n",
       "      <td>0</td>\n",
       "      <td>1</td>\n",
       "      <td>0</td>\n",
       "      <td>0</td>\n",
       "      <td>0</td>\n",
       "      <td>0</td>\n",
       "      <td>0</td>\n",
       "      <td>0</td>\n",
       "      <td>0</td>\n",
       "    </tr>\n",
       "  </tbody>\n",
       "</table>\n",
       "<p>5 rows × 37 columns</p>\n",
       "</div>"
      ],
      "text/plain": [
       "         cantidad_paginas_vistas_trimestre  cant_paginas_vistas_en_mes_1  \\\n",
       "USER_ID                                                                    \n",
       "6574                                  1141                           524   \n",
       "2639                                   671                           261   \n",
       "3898                                   219                            88   \n",
       "7996                                   383                            95   \n",
       "6111                                   425                           208   \n",
       "\n",
       "         cant_paginas_vistas_en_mes_2  cant_paginas_vistas_en_mes_3  \\\n",
       "USER_ID                                                               \n",
       "6574                              364                           253   \n",
       "2639                              179                           231   \n",
       "3898                               50                            81   \n",
       "7996                              178                           110   \n",
       "6111                               93                           124   \n",
       "\n",
       "         page_mas_vista_en_mes_1_0  page_mas_vista_en_mes_1_1  \\\n",
       "USER_ID                                                         \n",
       "6574                             0                          0   \n",
       "2639                             0                          0   \n",
       "3898                             0                          0   \n",
       "7996                             0                          0   \n",
       "6111                             0                          0   \n",
       "\n",
       "         page_mas_vista_en_mes_1_2  page_mas_vista_en_mes_1_3  \\\n",
       "USER_ID                                                         \n",
       "6574                             0                          0   \n",
       "2639                             0                          0   \n",
       "3898                             0                          0   \n",
       "7996                             0                          0   \n",
       "6111                             0                          0   \n",
       "\n",
       "         page_mas_vista_en_mes_1_4  page_mas_vista_en_mes_1_5  ...  \\\n",
       "USER_ID                                                        ...   \n",
       "6574                             0                          0  ...   \n",
       "2639                             0                          0  ...   \n",
       "3898                             0                          0  ...   \n",
       "7996                             0                          0  ...   \n",
       "6111                             0                          0  ...   \n",
       "\n",
       "         page_mas_vista_en_mes_3_5  page_mas_vista_en_mes_3_6  \\\n",
       "USER_ID                                                         \n",
       "6574                             0                          0   \n",
       "2639                             0                          0   \n",
       "3898                             0                          0   \n",
       "7996                             0                          1   \n",
       "6111                             0                          0   \n",
       "\n",
       "         page_mas_vista_en_mes_3_7  page_mas_vista_en_mes_3_8  \\\n",
       "USER_ID                                                         \n",
       "6574                             0                          1   \n",
       "2639                             1                          0   \n",
       "3898                             1                          1   \n",
       "7996                             0                          0   \n",
       "6111                             1                          0   \n",
       "\n",
       "         convirtio_en_mes_1  convirtio_en_mes_2  convirtio_en_mes_3  \\\n",
       "USER_ID                                                               \n",
       "6574                      0                   0                   0   \n",
       "2639                      0                   0                   0   \n",
       "3898                      0                   0                   0   \n",
       "7996                      0                   0                   0   \n",
       "6111                      0                   0                   0   \n",
       "\n",
       "         convirtio_multiple_en_mes_1  convirtio_multiple_en_mes_2  \\\n",
       "USER_ID                                                             \n",
       "6574                               0                            0   \n",
       "2639                               0                            0   \n",
       "3898                               0                            0   \n",
       "7996                               0                            0   \n",
       "6111                               0                            0   \n",
       "\n",
       "         convirtio_multiple_en_mes_3  \n",
       "USER_ID                               \n",
       "6574                               0  \n",
       "2639                               0  \n",
       "3898                               0  \n",
       "7996                               0  \n",
       "6111                               0  \n",
       "\n",
       "[5 rows x 37 columns]"
      ]
     },
     "execution_count": 42,
     "metadata": {},
     "output_type": "execute_result"
    }
   ],
   "source": [
    "df_binary.head()"
   ]
  },
  {
   "cell_type": "code",
   "execution_count": 44,
   "metadata": {},
   "outputs": [],
   "source": [
    "df_binary[\"convirtio\"] = train[\"convirtio\"]"
   ]
  },
  {
   "cell_type": "code",
   "execution_count": 45,
   "metadata": {},
   "outputs": [],
   "source": [
    "df_binary.to_pickle(\"../data/train_codificado.pkl\")"
   ]
  },
  {
   "cell_type": "code",
   "execution_count": 26,
   "metadata": {},
   "outputs": [],
   "source": [
    "pred = pd.read_pickle(\"../data/prediccion_completo.pkl\")"
   ]
  },
  {
   "cell_type": "code",
   "execution_count": 27,
   "metadata": {},
   "outputs": [],
   "source": [
    "df_binary_pred = encoder.transform(pred)\n",
    "\n"
   ]
  },
  {
   "cell_type": "code",
   "execution_count": 41,
   "metadata": {},
   "outputs": [],
   "source": [
    "df_binary_pred.to_pickle(\"../data/prediccion_codificado.pkl\")"
   ]
  },
  {
   "cell_type": "code",
   "execution_count": null,
   "metadata": {},
   "outputs": [],
   "source": []
  }
 ],
 "metadata": {
  "kernelspec": {
   "display_name": "Python 3",
   "language": "python",
   "name": "python3"
  },
  "language_info": {
   "codemirror_mode": {
    "name": "ipython",
    "version": 3
   },
   "file_extension": ".py",
   "mimetype": "text/x-python",
   "name": "python",
   "nbconvert_exporter": "python",
   "pygments_lexer": "ipython3",
   "version": "3.6.8"
  }
 },
 "nbformat": 4,
 "nbformat_minor": 2
}
