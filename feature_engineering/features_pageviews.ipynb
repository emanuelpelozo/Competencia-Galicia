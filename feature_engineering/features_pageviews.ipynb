{
 "cells": [
  {
   "cell_type": "code",
   "execution_count": 1,
   "metadata": {},
   "outputs": [],
   "source": [
    "import pandas as pd\n",
    "import numpy as np"
   ]
  },
  {
   "cell_type": "markdown",
   "metadata": {},
   "source": [
    "## Features engineering de pageviews"
   ]
  },
  {
   "cell_type": "markdown",
   "metadata": {},
   "source": [
    "### Carga de datos"
   ]
  },
  {
   "cell_type": "code",
   "execution_count": 2,
   "metadata": {},
   "outputs": [],
   "source": [
    "pageviews = pd.read_pickle(\"../data/pageviews_total_formateado.pkl\")"
   ]
  },
  {
   "cell_type": "markdown",
   "metadata": {},
   "source": [
    "---"
   ]
  },
  {
   "cell_type": "markdown",
   "metadata": {},
   "source": [
    "### Cargo features generados hasta el momento\n"
   ]
  },
  {
   "cell_type": "code",
   "execution_count": 3,
   "metadata": {},
   "outputs": [],
   "source": [
    "# Trimestre 2 - 3 - 4 para los que tengo datos anteriores\n",
    "CANT_TRIMESTRES = 4"
   ]
  },
  {
   "cell_type": "code",
   "execution_count": 4,
   "metadata": {},
   "outputs": [],
   "source": [
    "ventanas = {}\n",
    "vent_no_encontradas =[]"
   ]
  },
  {
   "cell_type": "code",
   "execution_count": 5,
   "metadata": {},
   "outputs": [
    {
     "name": "stdout",
     "output_type": "stream",
     "text": [
      "Cargando features\n"
     ]
    }
   ],
   "source": [
    "print(\"Cargando features\")\n",
    "for ventana_nro in range(1,CANT_TRIMESTRES) : #Trimestres del 1 al 3\n",
    "    try:\n",
    "        ventanas[ventana_nro] = pd.read_csv(\"../data/features/ventana_{}_pageviews.csv\".format(ventana_nro),\n",
    "                                            dtype = {\"USER_ID\":\"category\"},index_col=0)\n",
    "        \n",
    "    except FileNotFoundError:\n",
    "        print(\"No se encontraron los features, se generarán los dataframe requeridos\")\n",
    "        vent_no_encontradas.append(ventana_nro)\n",
    "    continue\n",
    "    \n",
    "for ventana_nro in vent_no_encontradas:    \n",
    "    ##Recolecto los features del trimestre anterior al que quiero predecir\n",
    "    condicion = pageviews[\"trimestre\"] == (ventana_nro)\n",
    "    \n",
    "    ventanas[ventana_nro] = pageviews.loc[condicion][\"USER_ID\"] \\\n",
    "        .drop_duplicates().to_frame().set_index(\"USER_ID\").copy()"
   ]
  },
  {
   "cell_type": "markdown",
   "metadata": {},
   "source": [
    "### Set para predecir"
   ]
  },
  {
   "cell_type": "code",
   "execution_count": 6,
   "metadata": {},
   "outputs": [],
   "source": [
    "ventana_predecir = {}"
   ]
  },
  {
   "cell_type": "code",
   "execution_count": 7,
   "metadata": {},
   "outputs": [
    {
     "name": "stdout",
     "output_type": "stream",
     "text": [
      "Cargando features para predecir\n"
     ]
    }
   ],
   "source": [
    "try:\n",
    "    print(\"Cargando features para predecir\")\n",
    "    ventana_predecir[4] = pd.read_csv(\"../data/features/predecir_pageviews.csv\")\n",
    "except FileNotFoundError:\n",
    "    print(\"No se encontro el feature deseado, se generara el dataframe requerido\")\n",
    "    ventana_predecir[4] = pd.read_csv(\"../data/users.csv\", dtype = {\"USER_ID\":\"category\"})\n",
    "    ventana_predecir[4].set_index(\"USER_ID\",inplace = True)"
   ]
  },
  {
   "cell_type": "markdown",
   "metadata": {},
   "source": [
    "---"
   ]
  },
  {
   "cell_type": "markdown",
   "metadata": {},
   "source": [
    "### Diccionario de features"
   ]
  },
  {
   "cell_type": "code",
   "execution_count": 8,
   "metadata": {},
   "outputs": [],
   "source": [
    "features = {}"
   ]
  },
  {
   "cell_type": "code",
   "execution_count": 9,
   "metadata": {},
   "outputs": [],
   "source": [
    "features_ya_generados = {}\n",
    "\n",
    "for ventana_nro in range (1, CANT_TRIMESTRES):\n",
    "    \n",
    "    features_ya_generados[ventana_nro] = list(ventanas[ventana_nro].columns.values)\n",
    "    \n",
    "features_ya_generados[4] = list(ventana_predecir[4].columns.values)\n"
   ]
  },
  {
   "cell_type": "markdown",
   "metadata": {},
   "source": [
    "\n",
    "---"
   ]
  },
  {
   "cell_type": "markdown",
   "metadata": {},
   "source": [
    "### Creación de features"
   ]
  },
  {
   "cell_type": "markdown",
   "metadata": {},
   "source": [
    "#### Cantidad de paginas vista por un usuario en todo el trimestre"
   ]
  },
  {
   "cell_type": "code",
   "execution_count": 10,
   "metadata": {},
   "outputs": [],
   "source": [
    "def cantidad_de_paginas_vistas(dataframe):\n",
    "    return dataframe.groupby(\"USER_ID\").agg({\"FEC_EVENT\":\"count\"})\\\n",
    "                    .rename(columns = {\"FEC_EVENT\":\"cantidad_paginas_vistas_trimestre\"})"
   ]
  },
  {
   "cell_type": "code",
   "execution_count": 11,
   "metadata": {},
   "outputs": [],
   "source": [
    "features[\"cantidad_paginas_vistas_trimestre\"] = (cantidad_de_paginas_vistas,[\"cantidad_paginas_vistas_trimestre\"])"
   ]
  },
  {
   "cell_type": "markdown",
   "metadata": {},
   "source": [
    "#### Cantidad de paginas vista dentro de cada mes dentro del trimestre"
   ]
  },
  {
   "cell_type": "code",
   "execution_count": 12,
   "metadata": {},
   "outputs": [],
   "source": [
    "def cantidad_paginas_vistas_por_mes(dataframe):\n",
    "    \n",
    "    vistas_por_mes = dataframe.groupby([\"USER_ID\",\"mes\"]).agg({\"trimestre\":\"count\"})\n",
    "    vistas_por_mes = vistas_por_mes.unstack().droplevel(level = 0, axis = 1)\n",
    "    \n",
    "    \n",
    "    cantidad_meses = len(vistas_por_mes.columns)\n",
    "    nuevas_columnas = [x for x in range(1,cantidad_meses+1)]\n",
    "    vistas_por_mes.columns = nuevas_columnas    #transformo todos los meses en un rango 1-3\n",
    "    \n",
    "    for mes in range(1,cantidad_meses + 1):\n",
    "        if mes not in list(vistas_por_mes.columns.values):\n",
    "            vistas_por_mes.insert(dia,dia,0)\n",
    "            \n",
    "    vistas_por_mes.columns = [\"cant_paginas_vistas_en_mes_{}\".format(mes) for mes in range(1,4)]\n",
    "        \n",
    "    \n",
    "    return vistas_por_mes"
   ]
  },
  {
   "cell_type": "code",
   "execution_count": 13,
   "metadata": {},
   "outputs": [],
   "source": [
    "columnas_generadas = [\"cant_paginas_vistas_en_mes_{}\".format(mes) for mes in range(1,4)]\n",
    "features[\"cant_paginas_vistas_por_mes\"] = (cantidad_paginas_vistas_por_mes,columnas_generadas) "
   ]
  },
  {
   "cell_type": "markdown",
   "metadata": {},
   "source": [
    "---"
   ]
  },
  {
   "cell_type": "markdown",
   "metadata": {},
   "source": [
    "## Generacion de features"
   ]
  },
  {
   "cell_type": "code",
   "execution_count": 14,
   "metadata": {},
   "outputs": [],
   "source": [
    "def generar_feature_en_ventanas(dataframe, generador_feature, destino, nro_ventana):\n",
    "    \"\"\" \n",
    "    Esta funcion calcula un feature para un trimestre o ventana en especifico, lo une con los ya calculados\n",
    "    y lo guarda en el diccionario 'destino'.    \n",
    "    dataframe: dataframe de datos de donde se calcularan los features, en este caso pageviews\n",
    "    generador_feature: funcion que calculara el feature y devolvera su resultado\n",
    "    destino: diccionario que contiene las ventanas de features calculados\n",
    "    \"\"\"\n",
    "    dataframe = dataframe.loc[dataframe[\"trimestre\"] == nro_ventana]\n",
    "    feature = generador_feature(dataframe)\n",
    "    destino[nro_ventana] = destino[nro_ventana].merge(feature, left_index = True, right_index= True, how = 'left')"
   ]
  },
  {
   "cell_type": "markdown",
   "metadata": {},
   "source": [
    "### Genero los features\n"
   ]
  },
  {
   "cell_type": "code",
   "execution_count": 15,
   "metadata": {},
   "outputs": [],
   "source": [
    "#Posicion dentro del diccionario de features que ocupa la lista de columnas generadas por el mismo\n",
    "POS_COLUMNAS_DEL_FEATURE = 1  \n",
    "#Posicion dentro del diccionario de features que ocupa la funcion que lo genera.\n",
    "POS_FUNCION_DEL_FEATURE = 0\n",
    "\n",
    "def generar_features_faltantes(dataframe,destino,nro_ventana):\n",
    "    \"\"\"\n",
    "    Funcion para generar los features de cada trimestre, si solo si no se encuentran generados,\n",
    "    evita la repeticion de calculo de features si estos ya se encuentran generados.\n",
    "    \n",
    "    dataframe: Dataframe a partir de cual se calcularan los features.\n",
    "    destino: Diccionario de ventanas para los que calcular los features.\n",
    "    nro_ventana: Numero de ventana a partir de la cual se calculan los features.\n",
    "    \"\"\"\n",
    "    \n",
    "    for nombre_feature in features:    \n",
    "        #Obtengo los nombres de las columnas generadas por la funcion que calcula el feature\n",
    "        #Una funcion puede devolver mas de una columna por lo que obtengo una lista de valores\n",
    "        columnas_generadas = features[nombre_feature][POS_COLUMNAS_DEL_FEATURE] \n",
    "        feature_ya_generado = False\n",
    "        \n",
    "        for columna in columnas_generadas: \n",
    "            \n",
    "            #Verifico si los features ya fueron generados o no\n",
    "            if columna in features_ya_generados[nro_ventana]: \n",
    "                feature_ya_generado = True\n",
    "                break\n",
    "    \n",
    "        if feature_ya_generado:\n",
    "            continue\n",
    "\n",
    "        #Si no fueron generados, los genero y actualizo el listado:    \n",
    "        generar_feature_en_ventanas(dataframe, features[nombre_feature][POS_FUNCION_DEL_FEATURE], destino,nro_ventana)                              \n",
    "        features_ya_generados[nro_ventana].extend(features[nombre_feature][POS_COLUMNAS_DEL_FEATURE])"
   ]
  },
  {
   "cell_type": "code",
   "execution_count": 16,
   "metadata": {},
   "outputs": [],
   "source": [
    "for ventana_nro in range(1, CANT_TRIMESTRES ):\n",
    "    generar_features_faltantes(pageviews, ventanas, ventana_nro)\n",
    "\n",
    "generar_features_faltantes(pageviews, ventana_predecir,4)    "
   ]
  },
  {
   "cell_type": "code",
   "execution_count": 17,
   "metadata": {},
   "outputs": [
    {
     "data": {
      "text/html": [
       "<div>\n",
       "<style scoped>\n",
       "    .dataframe tbody tr th:only-of-type {\n",
       "        vertical-align: middle;\n",
       "    }\n",
       "\n",
       "    .dataframe tbody tr th {\n",
       "        vertical-align: top;\n",
       "    }\n",
       "\n",
       "    .dataframe thead th {\n",
       "        text-align: right;\n",
       "    }\n",
       "</style>\n",
       "<table border=\"1\" class=\"dataframe\">\n",
       "  <thead>\n",
       "    <tr style=\"text-align: right;\">\n",
       "      <th></th>\n",
       "      <th>cantidad_paginas_vistas_trimestre</th>\n",
       "      <th>cant_paginas_vistas_en_mes_1</th>\n",
       "      <th>cant_paginas_vistas_en_mes_2</th>\n",
       "      <th>cant_paginas_vistas_en_mes_3</th>\n",
       "    </tr>\n",
       "    <tr>\n",
       "      <th>USER_ID</th>\n",
       "      <th></th>\n",
       "      <th></th>\n",
       "      <th></th>\n",
       "      <th></th>\n",
       "    </tr>\n",
       "  </thead>\n",
       "  <tbody>\n",
       "    <tr>\n",
       "      <th>7237</th>\n",
       "      <td>862</td>\n",
       "      <td>373.0</td>\n",
       "      <td>290.0</td>\n",
       "      <td>199.0</td>\n",
       "    </tr>\n",
       "    <tr>\n",
       "      <th>4913</th>\n",
       "      <td>1350</td>\n",
       "      <td>582.0</td>\n",
       "      <td>362.0</td>\n",
       "      <td>406.0</td>\n",
       "    </tr>\n",
       "    <tr>\n",
       "      <th>9796</th>\n",
       "      <td>736</td>\n",
       "      <td>196.0</td>\n",
       "      <td>204.0</td>\n",
       "      <td>336.0</td>\n",
       "    </tr>\n",
       "    <tr>\n",
       "      <th>9428</th>\n",
       "      <td>1006</td>\n",
       "      <td>262.0</td>\n",
       "      <td>142.0</td>\n",
       "      <td>602.0</td>\n",
       "    </tr>\n",
       "    <tr>\n",
       "      <th>4719</th>\n",
       "      <td>721</td>\n",
       "      <td>197.0</td>\n",
       "      <td>271.0</td>\n",
       "      <td>253.0</td>\n",
       "    </tr>\n",
       "  </tbody>\n",
       "</table>\n",
       "</div>"
      ],
      "text/plain": [
       "         cantidad_paginas_vistas_trimestre  cant_paginas_vistas_en_mes_1  \\\n",
       "USER_ID                                                                    \n",
       "7237                                   862                         373.0   \n",
       "4913                                  1350                         582.0   \n",
       "9796                                   736                         196.0   \n",
       "9428                                  1006                         262.0   \n",
       "4719                                   721                         197.0   \n",
       "\n",
       "         cant_paginas_vistas_en_mes_2  cant_paginas_vistas_en_mes_3  \n",
       "USER_ID                                                              \n",
       "7237                            290.0                         199.0  \n",
       "4913                            362.0                         406.0  \n",
       "9796                            204.0                         336.0  \n",
       "9428                            142.0                         602.0  \n",
       "4719                            271.0                         253.0  "
      ]
     },
     "execution_count": 17,
     "metadata": {},
     "output_type": "execute_result"
    }
   ],
   "source": [
    "ventanas[1].head()"
   ]
  },
  {
   "cell_type": "markdown",
   "metadata": {},
   "source": [
    "### Guardado"
   ]
  },
  {
   "cell_type": "code",
   "execution_count": 18,
   "metadata": {},
   "outputs": [],
   "source": [
    "for ventana_nro in range(1, CANT_TRIMESTRES ):\n",
    "    ventanas[ventana_nro].to_csv(\"../data/features/ventana_{}_pageviews.csv\".format(ventana_nro))\n",
    "\n",
    "ventana_predecir[4].to_csv(\"../data/features/predecir_pageviews.csv\")"
   ]
  },
  {
   "cell_type": "code",
   "execution_count": null,
   "metadata": {},
   "outputs": [],
   "source": [
    "\n"
   ]
  }
 ],
 "metadata": {
  "kernelspec": {
   "display_name": "Python 3",
   "language": "python",
   "name": "python3"
  },
  "language_info": {
   "codemirror_mode": {
    "name": "ipython",
    "version": 3
   },
   "file_extension": ".py",
   "mimetype": "text/x-python",
   "name": "python",
   "nbconvert_exporter": "python",
   "pygments_lexer": "ipython3",
   "version": "3.6.8"
  }
 },
 "nbformat": 4,
 "nbformat_minor": 2
}
