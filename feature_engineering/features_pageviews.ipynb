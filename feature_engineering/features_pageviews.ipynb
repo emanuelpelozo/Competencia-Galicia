{
 "cells": [
  {
   "cell_type": "code",
   "execution_count": 1,
   "metadata": {},
   "outputs": [],
   "source": [
    "import pandas as pd\n",
    "import numpy as np"
   ]
  },
  {
   "cell_type": "markdown",
   "metadata": {},
   "source": [
    "## Features engineering de pageviews"
   ]
  },
  {
   "cell_type": "markdown",
   "metadata": {},
   "source": [
    "### Carga de datos"
   ]
  },
  {
   "cell_type": "code",
   "execution_count": 2,
   "metadata": {},
   "outputs": [],
   "source": [
    "pageviews = pd.read_pickle(\"../data/pageviews_total_formateado.pkl\")"
   ]
  },
  {
   "cell_type": "markdown",
   "metadata": {},
   "source": [
    "---"
   ]
  },
  {
   "cell_type": "markdown",
   "metadata": {},
   "source": [
    "### Cargo features generados hasta el momento\n"
   ]
  },
  {
   "cell_type": "code",
   "execution_count": 3,
   "metadata": {},
   "outputs": [],
   "source": [
    "# Trimestre 2 - 3 - 4 para los que tengo datos anteriores\n",
    "CANT_TRIMESTRES = 4"
   ]
  },
  {
   "cell_type": "code",
   "execution_count": 4,
   "metadata": {},
   "outputs": [],
   "source": [
    "ventanas = {}\n",
    "vent_no_encontradas =[]"
   ]
  },
  {
   "cell_type": "code",
   "execution_count": 5,
   "metadata": {},
   "outputs": [
    {
     "name": "stdout",
     "output_type": "stream",
     "text": [
      "Cargando features\n",
      "No se encontraron los features, se generarán los dataframe requeridos\n",
      "No se encontraron los features, se generarán los dataframe requeridos\n",
      "No se encontraron los features, se generarán los dataframe requeridos\n"
     ]
    }
   ],
   "source": [
    "print(\"Cargando features\")\n",
    "for ventana_nro in range(1,CANT_TRIMESTRES) : #Trimestres del 1 al 3\n",
    "    try:\n",
    "        ventanas[ventana_nro] = pd.read_csv(\"../data/features/ventana_{}_pageviews.csv\".format(ventana_nro), index_col=0)\n",
    "    except FileNotFoundError:\n",
    "        print(\"No se encontraron los features, se generarán los dataframe requeridos\")\n",
    "        vent_no_encontradas.append(ventana_nro)\n",
    "    continue\n",
    "    \n",
    "for ventana_nro in vent_no_encontradas:    \n",
    "    ##Recolecto los features del trimestre anterior al que quiero predecir\n",
    "    condicion = pageviews[\"trimestre\"] == (ventana_nro)\n",
    "    \n",
    "    ventanas[ventana_nro] = pageviews.loc[condicion][\"USER_ID\"] \\\n",
    "        .drop_duplicates().to_frame().set_index(\"USER_ID\").copy()"
   ]
  },
  {
   "cell_type": "markdown",
   "metadata": {},
   "source": [
    "### Set para predecir"
   ]
  },
  {
   "cell_type": "code",
   "execution_count": 6,
   "metadata": {},
   "outputs": [],
   "source": [
    "ventana_predecir = {}"
   ]
  },
  {
   "cell_type": "code",
   "execution_count": 7,
   "metadata": {},
   "outputs": [
    {
     "name": "stdout",
     "output_type": "stream",
     "text": [
      "Cargando features para predecir\n",
      "No se encontro el feature deseado, se generara el dataframe requerido\n"
     ]
    }
   ],
   "source": [
    "try:\n",
    "    print(\"Cargando features para predecir\")\n",
    "    ventana_predecir = pd.read_csv(\"../data/features/ventana_4_pageviews.csv\")\n",
    "except FileNotFoundError:\n",
    "    print(\"No se encontro el feature deseado, se generara el dataframe requerido\")\n",
    "    ventana_predecir[4] = pd.read_csv(\"../data/users.csv\", dtype = {\"USER_ID\":\"category\"})\n",
    "    ventana_predecir[4].set_index(\"USER_ID\",inplace = True)"
   ]
  },
  {
   "cell_type": "markdown",
   "metadata": {},
   "source": [
    "---"
   ]
  },
  {
   "cell_type": "markdown",
   "metadata": {},
   "source": [
    "### Diccionario de features"
   ]
  },
  {
   "cell_type": "code",
   "execution_count": 8,
   "metadata": {},
   "outputs": [],
   "source": [
    "features = {}"
   ]
  },
  {
   "cell_type": "code",
   "execution_count": 9,
   "metadata": {},
   "outputs": [],
   "source": [
    "features_ya_generados = {}\n",
    "\n",
    "for ventana_nro in range (1, CANT_TRIMESTRES):\n",
    "    \n",
    "    features_ya_generados[ventana_nro] = list(ventanas[ventana_nro].columns.values)\n",
    "    \n",
    "features_ya_generados[4] = list(ventana_predecir[4].columns.values)\n"
   ]
  },
  {
   "cell_type": "markdown",
   "metadata": {},
   "source": [
    "\n",
    "---"
   ]
  },
  {
   "cell_type": "markdown",
   "metadata": {},
   "source": [
    "### Creación de features"
   ]
  },
  {
   "cell_type": "code",
   "execution_count": 10,
   "metadata": {},
   "outputs": [],
   "source": [
    "def cantidad_de_paginas_vistas(dataframe):\n",
    "    return dataframe.groupby(\"USER_ID\").agg({\"FEC_EVENT\":\"count\"})\\\n",
    "                    .rename(columns = {\"FEC_EVENT\":\"cantidad_paginas_vistas_trimestre\"})"
   ]
  },
  {
   "cell_type": "code",
   "execution_count": 11,
   "metadata": {},
   "outputs": [],
   "source": [
    "features[\"cantidad_paginas_vistas_trimestre\"] = (cantidad_de_paginas_vistas,[\"cantidad_paginas_vistas_trimestre\"])"
   ]
  },
  {
   "cell_type": "markdown",
   "metadata": {},
   "source": [
    "---"
   ]
  },
  {
   "cell_type": "markdown",
   "metadata": {},
   "source": [
    "## Generacion de features"
   ]
  },
  {
   "cell_type": "code",
   "execution_count": 18,
   "metadata": {},
   "outputs": [],
   "source": [
    "def generar_feature_en_ventanas(dataframe, generador_feature, destino, nro_ventana):\n",
    "    \"\"\" \n",
    "    Esta funcion calcula un feature para un trimestre o ventana en especifico, lo une con los ya calculados\n",
    "    y lo guarda en el diccionario 'destino'.    \n",
    "    dataframe: dataframe de datos de donde se calcularan los features, en este caso pageviews\n",
    "    generador_feature: funcion que calculara el feature y devolvera su resultado\n",
    "    destino: diccionario que contiene las ventanas de features calculados\n",
    "    \"\"\"\n",
    "    dataframe = dataframe.loc[dataframe[\"trimestre\"] == nro_ventana]\n",
    "    feature = generador_feature(dataframe)\n",
    "    destino[nro_ventana] = destino[nro_ventana].merge(feature, left_index = True, right_index= True, how = 'left')"
   ]
  },
  {
   "cell_type": "markdown",
   "metadata": {},
   "source": [
    "### Genero los features\n"
   ]
  },
  {
   "cell_type": "code",
   "execution_count": 13,
   "metadata": {},
   "outputs": [],
   "source": [
    "#Posicion dentro del diccionario de features que ocupa la lista de columnas generadas por el mismo\n",
    "POS_COLUMNAS_DEL_FEATURE = 1  \n",
    "#Posicion dentro del diccionario de features que ocupa la funcion que lo genera.\n",
    "POS_FUNCION_DEL_FEATURE = 0\n",
    "\n",
    "def generar_features_faltantes(dataframe,destino,nro_ventana):\n",
    "    \"\"\"\n",
    "    \n",
    "    \"\"\"\n",
    "    \n",
    "    for nombre_feature in features:    \n",
    "        #Obtengo los nombres de las columnas generadas por la funcion que calcula el feature\n",
    "        #Una funcion puede devolver mas de un feature por lo que obtengo una lista de valores\n",
    "        columnas_generadas = features[nombre_feature][POS_COLUMNAS_DEL_FEATURE] \n",
    "        feature_ya_generado = False\n",
    "        \n",
    "        for columna in columnas_generadas: #Verifico si los features ya fueron generados o no\n",
    "            \n",
    "            if columna in features_ya_generados[nro_ventana]: \n",
    "                feature_ya_generado = True\n",
    "                break\n",
    "    \n",
    "        if feature_ya_generado:\n",
    "            continue\n",
    "\n",
    "        #Si no fueron generados, los genero:    \n",
    "        generar_feature_en_ventanas(dataframe, features[nombre_feature][POS_FUNCION_DEL_FEATURE], destino,nro_ventana)\n",
    "                                \n",
    "        features_ya_generados[nro_ventana].extend(features[nombre_feature][POS_COLUMNAS_DEL_FEATURE])"
   ]
  },
  {
   "cell_type": "code",
   "execution_count": 19,
   "metadata": {},
   "outputs": [],
   "source": [
    "for ventana_nro in range(1, CANT_TRIMESTRES ):\n",
    "    generar_features_faltantes(pageviews, ventanas, ventana_nro)\n",
    "\n",
    "generar_features_faltantes(pageviews, ventana_predecir,4)    "
   ]
  },
  {
   "cell_type": "markdown",
   "metadata": {},
   "source": [
    "### Guardado"
   ]
  },
  {
   "cell_type": "code",
   "execution_count": 25,
   "metadata": {},
   "outputs": [],
   "source": [
    "for ventana_nro in range(1, CANT_TRIMESTRES ):\n",
    "    ventanas[ventana_nro].to_csv(\"../data/features/ventana_{}_pageviews.csv\".format(ventana_nro))\n",
    "\n",
    "ventana_predecir[4].to_csv(\"../data/features/predecir_pageviews.csv\")"
   ]
  },
  {
   "cell_type": "code",
   "execution_count": null,
   "metadata": {},
   "outputs": [],
   "source": [
    "\n"
   ]
  }
 ],
 "metadata": {
  "kernelspec": {
   "display_name": "Python 3",
   "language": "python",
   "name": "python3"
  },
  "language_info": {
   "codemirror_mode": {
    "name": "ipython",
    "version": 3
   },
   "file_extension": ".py",
   "mimetype": "text/x-python",
   "name": "python",
   "nbconvert_exporter": "python",
   "pygments_lexer": "ipython3",
   "version": "3.6.8"
  }
 },
 "nbformat": 4,
 "nbformat_minor": 2
}
