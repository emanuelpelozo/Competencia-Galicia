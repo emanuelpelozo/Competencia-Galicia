{
 "cells": [
  {
   "cell_type": "code",
   "execution_count": 1,
   "metadata": {},
   "outputs": [],
   "source": [
    "import pandas as pd\n",
    "import numpy as np\n"
   ]
  },
  {
   "cell_type": "markdown",
   "metadata": {},
   "source": [
    "## Features engineering de pageviews"
   ]
  },
  {
   "cell_type": "markdown",
   "metadata": {},
   "source": [
    "### Carga de datos"
   ]
  },
  {
   "cell_type": "code",
   "execution_count": 2,
   "metadata": {},
   "outputs": [],
   "source": [
    "data = pd.read_pickle(\"../data/pageviews_total_formateado.pkl\")"
   ]
  },
  {
   "cell_type": "markdown",
   "metadata": {},
   "source": [
    "---"
   ]
  },
  {
   "cell_type": "markdown",
   "metadata": {},
   "source": [
    "### Funciones auxiliares"
   ]
  },
  {
   "cell_type": "markdown",
   "metadata": {},
   "source": [
    "#### Creacion de ventanas iniciales"
   ]
  },
  {
   "cell_type": "code",
   "execution_count": 3,
   "metadata": {},
   "outputs": [],
   "source": [
    "def generar_dataframes_ventana(numero_ventana,dataframe):\n",
    "    \n",
    "    if numero_ventana == 4 :   #Para la ventana 4 se necesitan los 11 mil usuarios existentes\n",
    "        df = pd.read_pickle(\"../data/users.pkl\")\n",
    "        df.set_index(\"USER_ID\",inplace = True)\n",
    "    \n",
    "    else:    \n",
    "        condicion = dataframe[\"trimestre\"] == numero_ventana\n",
    "        df = dataframe[condicion][\"USER_ID\"].drop_duplicates().to_frame().set_index(\"USER_ID\").copy()\n",
    "\n",
    "    return df.sort_index()\n",
    "    "
   ]
  },
  {
   "cell_type": "markdown",
   "metadata": {},
   "source": [
    "#### Generacion de features"
   ]
  },
  {
   "cell_type": "code",
   "execution_count": 4,
   "metadata": {},
   "outputs": [],
   "source": [
    "def feature_ya_generado(nombre_feature, trimestre):\n",
    "    \"\"\"Corrobora si un feature ya fue generado \"\"\"\n",
    "    \n",
    "    #Obtengo las columnas que genera ese feature\n",
    "    columnas = DATOS_FEATURES[nombre_feature][POS_COLUMNAS_DEL_FEATURE]\n",
    "    for columna in columnas:\n",
    "        if columna in FEATURES_YA_GENERADOS[trimestre]:\n",
    "            return True\n",
    "    return False"
   ]
  },
  {
   "cell_type": "code",
   "execution_count": 5,
   "metadata": {},
   "outputs": [],
   "source": [
    "def generar_feature_en_ventana(dataframe,trimestre, nombre_feature, destino):\n",
    "    \"\"\"Genera un feature en la ventana correspondiente, con los tipos de datos correspondientes\"\"\"\n",
    "    \n",
    "    #Calculo el feature\n",
    "    funcion_feature = FUNCIONES_FEATURES[nombre_feature]\n",
    "    dataframe = funcion_feature( dataframe[dataframe[\"trimestre\"] == trimestre] )\n",
    "\n",
    "    #Uno los features nuevos con los viejos\n",
    "    dataframe = destino[trimestre].merge(dataframe, left_index = True, right_index= True, how = 'left')\n",
    "    \n",
    "    #Rello los nans, si es que los hubiera\n",
    "    dataframe = dar_formato_al_feature_nuevo(dataframe,nombre_feature)\n",
    "    \n",
    "    destino[trimestre] = dataframe"
   ]
  },
  {
   "cell_type": "code",
   "execution_count": 6,
   "metadata": {},
   "outputs": [],
   "source": [
    "def dar_formato_al_feature_nuevo(dataframe, nombre_feature):\n",
    "    \"\"\"Rellena los Nans de un dataframe con features nuevos\"\"\"\n",
    "    \n",
    "    \n",
    "    #Datos para rellenar los Nan\n",
    "    columnas = DATOS_FEATURES[nombre_feature][POS_COLUMNAS_DEL_FEATURE]\n",
    "    tipo_dato= DATOS_FEATURES[nombre_feature][POS_TIPO_DATO]\n",
    "    valor_nan = DATOS_FEATURES[nombre_feature][POS_DATO_NAN]\n",
    "    \n",
    "    dataframe.fillna(valor_nan, inplace = True)\n",
    "    dataframe[columnas] = dataframe[columnas].astype(tipo_dato)\n",
    "    \n",
    "    return dataframe\n",
    "    "
   ]
  },
  {
   "cell_type": "code",
   "execution_count": 7,
   "metadata": {},
   "outputs": [],
   "source": [
    "def generar_features_faltantes(dataframe,destino,trimestre):\n",
    "    \"\"\"\n",
    "    Funcion para generar los features faltantes para un trimestre, \n",
    "    evita la repeticion de calculo de features si estos ya se encuentran generados.\n",
    "    \n",
    "    dataframe: Dataframe a partir de cual se calcularan los features.\n",
    "    destino: Diccionario de ventanas para los que calcular los features.\n",
    "    trimestre: Numero de ventana a partir de la cual se calculan los features.\n",
    "    \"\"\"\n",
    "    \n",
    "    for nombre_feature in FUNCIONES_FEATURES:    \n",
    "        if feature_ya_generado(nombre_feature, trimestre):\n",
    "            continue\n",
    "\n",
    "        #Si no fueron generados, los genero y actualizo el listado:   \n",
    "        generar_feature_en_ventana(dataframe,trimestre, nombre_feature, destino)   \n",
    "        \n",
    "        #Agrego las columnas nuevas al diccionario\n",
    "        columnas_generadas = DATOS_FEATURES[nombre_feature][POS_COLUMNAS_DEL_FEATURE]\n",
    "        FEATURES_YA_GENERADOS[trimestre].extend(columnas_generadas)"
   ]
  },
  {
   "cell_type": "markdown",
   "metadata": {},
   "source": [
    "----"
   ]
  },
  {
   "cell_type": "markdown",
   "metadata": {},
   "source": [
    "----"
   ]
  },
  {
   "cell_type": "markdown",
   "metadata": {},
   "source": [
    "### Cargo features generados hasta el momento\n"
   ]
  },
  {
   "cell_type": "code",
   "execution_count": 8,
   "metadata": {},
   "outputs": [],
   "source": [
    "# Trimestre 2 - 3 - 4 para los que tengo datos anteriores\n",
    "CANT_TRIMESTRES = 4"
   ]
  },
  {
   "cell_type": "code",
   "execution_count": 9,
   "metadata": {},
   "outputs": [],
   "source": [
    "TRIMESTRES = {}\n",
    "trim_no_encontrados =[]"
   ]
  },
  {
   "cell_type": "code",
   "execution_count": 10,
   "metadata": {},
   "outputs": [
    {
     "name": "stdout",
     "output_type": "stream",
     "text": [
      "Cargando features\n"
     ]
    }
   ],
   "source": [
    "print(\"Cargando features\")\n",
    "for ventana_nro in range(1,CANT_TRIMESTRES) : #Trimestres del 1 al 3\n",
    "    try:\n",
    "        TRIMESTRES[ventana_nro] = pd.read_pickle(\"../data/features/ventana_{}_pageviews.pkl\".format(ventana_nro))\n",
    "        \n",
    "    except FileNotFoundError:\n",
    "        print(\"No se encontraron los features, se generarán los dataframe requeridos\")\n",
    "        trim_no_encontrados.append(ventana_nro)\n",
    "    continue\n",
    "    \n",
    "for ventana_nro in trim_no_encontrados:    \n",
    "    TRIMESTRES[ventana_nro] = generar_dataframes_ventana(ventana_nro,data)"
   ]
  },
  {
   "cell_type": "markdown",
   "metadata": {},
   "source": [
    "### Set para predecir"
   ]
  },
  {
   "cell_type": "code",
   "execution_count": 11,
   "metadata": {},
   "outputs": [
    {
     "name": "stdout",
     "output_type": "stream",
     "text": [
      "Cargando features para predecir\n"
     ]
    }
   ],
   "source": [
    "try:\n",
    "    print(\"Cargando features para predecir\")\n",
    "    TRIMESTRES[4] = pd.read_pickle(\"../data/features/predecir_pageviews.pkl\")\n",
    "except FileNotFoundError:\n",
    "    print(\"No se encontro el feature deseado, se generara el dataframe requerido\")\n",
    "    TRIMESTRES[4] = generar_dataframes_ventana(4,data)"
   ]
  },
  {
   "cell_type": "markdown",
   "metadata": {},
   "source": [
    "---"
   ]
  },
  {
   "cell_type": "markdown",
   "metadata": {},
   "source": [
    "### Diccionario de features"
   ]
  },
  {
   "cell_type": "code",
   "execution_count": 12,
   "metadata": {},
   "outputs": [],
   "source": [
    "#Posicion dentro del diccionario de features que ocupa la lista de columnas generadas por el mismo\n",
    "POS_COLUMNAS_DEL_FEATURE = 0\n",
    "POS_TIPO_DATO = 1\n",
    "POS_DATO_NAN = 2"
   ]
  },
  {
   "cell_type": "code",
   "execution_count": 13,
   "metadata": {},
   "outputs": [],
   "source": [
    "# Clave = nombre_feature : Valor = funcion\n",
    "FUNCIONES_FEATURES = {}\n",
    "# Clave = nombre_feature : Valor = (columnas,tipo_dato,valor_nan)\n",
    "DATOS_FEATURES = {}"
   ]
  },
  {
   "cell_type": "code",
   "execution_count": 14,
   "metadata": {},
   "outputs": [],
   "source": [
    "FEATURES_YA_GENERADOS = {}\n",
    "\n",
    "for ventana_nro in range (1, CANT_TRIMESTRES + 1):\n",
    "    \n",
    "    FEATURES_YA_GENERADOS[ventana_nro] = list(TRIMESTRES[ventana_nro].columns.values)"
   ]
  },
  {
   "cell_type": "markdown",
   "metadata": {},
   "source": [
    "---"
   ]
  },
  {
   "cell_type": "markdown",
   "metadata": {},
   "source": [
    "\n",
    "---"
   ]
  },
  {
   "cell_type": "markdown",
   "metadata": {},
   "source": [
    "## Creación de features"
   ]
  },
  {
   "cell_type": "markdown",
   "metadata": {},
   "source": [
    "---"
   ]
  },
  {
   "cell_type": "markdown",
   "metadata": {},
   "source": [
    "#### Vistazo del dataset: __Pageviews__"
   ]
  },
  {
   "cell_type": "code",
   "execution_count": 15,
   "metadata": {},
   "outputs": [
    {
     "data": {
      "text/html": [
       "<div>\n",
       "<style scoped>\n",
       "    .dataframe tbody tr th:only-of-type {\n",
       "        vertical-align: middle;\n",
       "    }\n",
       "\n",
       "    .dataframe tbody tr th {\n",
       "        vertical-align: top;\n",
       "    }\n",
       "\n",
       "    .dataframe thead th {\n",
       "        text-align: right;\n",
       "    }\n",
       "</style>\n",
       "<table border=\"1\" class=\"dataframe\">\n",
       "  <thead>\n",
       "    <tr style=\"text-align: right;\">\n",
       "      <th></th>\n",
       "      <th>CONTENT_CATEGORY</th>\n",
       "      <th>CONTENT_CATEGORY_BOTTOM</th>\n",
       "      <th>CONTENT_CATEGORY_TOP</th>\n",
       "      <th>FEC_EVENT</th>\n",
       "      <th>ON_SITE_SEARCH_TERM</th>\n",
       "      <th>PAGE</th>\n",
       "      <th>SITE_ID</th>\n",
       "      <th>USER_ID</th>\n",
       "      <th>mes</th>\n",
       "      <th>trimestre</th>\n",
       "    </tr>\n",
       "  </thead>\n",
       "  <tbody>\n",
       "    <tr>\n",
       "      <th>0</th>\n",
       "      <td>2</td>\n",
       "      <td>2</td>\n",
       "      <td>2</td>\n",
       "      <td>2018-01-01 00:09:17</td>\n",
       "      <td>1</td>\n",
       "      <td>2</td>\n",
       "      <td>2</td>\n",
       "      <td>7237</td>\n",
       "      <td>1</td>\n",
       "      <td>1</td>\n",
       "    </tr>\n",
       "    <tr>\n",
       "      <th>1</th>\n",
       "      <td>2</td>\n",
       "      <td>2</td>\n",
       "      <td>2</td>\n",
       "      <td>2018-01-01 00:14:17</td>\n",
       "      <td>1</td>\n",
       "      <td>2</td>\n",
       "      <td>2</td>\n",
       "      <td>4913</td>\n",
       "      <td>1</td>\n",
       "      <td>1</td>\n",
       "    </tr>\n",
       "    <tr>\n",
       "      <th>2</th>\n",
       "      <td>2</td>\n",
       "      <td>2</td>\n",
       "      <td>2</td>\n",
       "      <td>2018-01-01 00:14:18</td>\n",
       "      <td>1</td>\n",
       "      <td>2</td>\n",
       "      <td>2</td>\n",
       "      <td>4913</td>\n",
       "      <td>1</td>\n",
       "      <td>1</td>\n",
       "    </tr>\n",
       "    <tr>\n",
       "      <th>3</th>\n",
       "      <td>2</td>\n",
       "      <td>2</td>\n",
       "      <td>2</td>\n",
       "      <td>2018-01-01 00:14:26</td>\n",
       "      <td>1</td>\n",
       "      <td>3</td>\n",
       "      <td>3</td>\n",
       "      <td>4913</td>\n",
       "      <td>1</td>\n",
       "      <td>1</td>\n",
       "    </tr>\n",
       "    <tr>\n",
       "      <th>4</th>\n",
       "      <td>2</td>\n",
       "      <td>2</td>\n",
       "      <td>2</td>\n",
       "      <td>2018-01-01 00:14:32</td>\n",
       "      <td>1</td>\n",
       "      <td>20</td>\n",
       "      <td>3</td>\n",
       "      <td>4913</td>\n",
       "      <td>1</td>\n",
       "      <td>1</td>\n",
       "    </tr>\n",
       "  </tbody>\n",
       "</table>\n",
       "</div>"
      ],
      "text/plain": [
       "   CONTENT_CATEGORY  CONTENT_CATEGORY_BOTTOM  CONTENT_CATEGORY_TOP  \\\n",
       "0                 2                        2                     2   \n",
       "1                 2                        2                     2   \n",
       "2                 2                        2                     2   \n",
       "3                 2                        2                     2   \n",
       "4                 2                        2                     2   \n",
       "\n",
       "            FEC_EVENT  ON_SITE_SEARCH_TERM  PAGE  SITE_ID  USER_ID  mes  \\\n",
       "0 2018-01-01 00:09:17                    1     2        2     7237    1   \n",
       "1 2018-01-01 00:14:17                    1     2        2     4913    1   \n",
       "2 2018-01-01 00:14:18                    1     2        2     4913    1   \n",
       "3 2018-01-01 00:14:26                    1     3        3     4913    1   \n",
       "4 2018-01-01 00:14:32                    1    20        3     4913    1   \n",
       "\n",
       "   trimestre  \n",
       "0          1  \n",
       "1          1  \n",
       "2          1  \n",
       "3          1  \n",
       "4          1  "
      ]
     },
     "execution_count": 15,
     "metadata": {},
     "output_type": "execute_result"
    }
   ],
   "source": [
    "data.head()"
   ]
  },
  {
   "cell_type": "markdown",
   "metadata": {},
   "source": [
    "### Funciones auxiliares"
   ]
  },
  {
   "cell_type": "markdown",
   "metadata": {},
   "source": [
    "#### Funcion para rellenar datos de un mes para el que no haya datos"
   ]
  },
  {
   "cell_type": "code",
   "execution_count": 16,
   "metadata": {},
   "outputs": [],
   "source": [
    "def rellenar_columnas_multilevel_faltantes(dataframe,prefijo_columna, dato_nan):\n",
    "    \"\"\"prefijo_columna:   nombre de la columna de la que se calcularon los datos.\n",
    "       dato_nan:          dato para rellenar los nan.\n",
    "       inicio_multilevel: posicion(int) dentro de las columnas donde inicia la seccion a rellenar.\n",
    "       Devuelve el nombre de las columnas en el orden correcto\"\"\"\n",
    "    \n",
    "    for mes in range(1,4):\n",
    "        \n",
    "        try:            #si no existe el mes, lo creo\n",
    "            nombre_col = prefijo_columna+\"{}\".format(mes)\n",
    "            dataframe[nombre_col] = dataframe[nombre_col].fillna(dato_nan)\n",
    "  \n",
    "        except KeyError:\n",
    "            dataframe[nombre_col] = -1\n",
    "            \n",
    "    return [(prefijo_columna+\"{}\".format(mes)) for mes in range(1,4)]\n",
    "    "
   ]
  },
  {
   "cell_type": "markdown",
   "metadata": {},
   "source": [
    "---"
   ]
  },
  {
   "cell_type": "markdown",
   "metadata": {},
   "source": [
    "#### Cantidad de paginas vista por un usuario en todo el trimestre"
   ]
  },
  {
   "cell_type": "code",
   "execution_count": 17,
   "metadata": {},
   "outputs": [],
   "source": [
    "nombre = \"cantidad paginas vistas\""
   ]
  },
  {
   "cell_type": "code",
   "execution_count": 18,
   "metadata": {},
   "outputs": [],
   "source": [
    "def cantidad_de_paginas_vistas(dataframe):\n",
    "    \n",
    "    feature = dataframe.groupby(\"USER_ID\").agg({\"FEC_EVENT\":\"count\"})\\\n",
    "                        .rename(columns = {\"FEC_EVENT\":\"cantidad_paginas_vistas_trimestre\"}) \n",
    "    return feature"
   ]
  },
  {
   "cell_type": "code",
   "execution_count": 19,
   "metadata": {},
   "outputs": [],
   "source": [
    "FUNCIONES_FEATURES[nombre] = cantidad_de_paginas_vistas"
   ]
  },
  {
   "cell_type": "code",
   "execution_count": 20,
   "metadata": {},
   "outputs": [],
   "source": [
    "columnas_generadas = [\"cantidad_paginas_vistas_trimestre\"] #lista\n",
    "tipo_dato = \"int64\"\n",
    "dato_nan = 0\n",
    "\n",
    "DATOS_FEATURES[nombre] = (columnas_generadas, tipo_dato, dato_nan)"
   ]
  },
  {
   "cell_type": "markdown",
   "metadata": {},
   "source": [
    "---"
   ]
  },
  {
   "cell_type": "markdown",
   "metadata": {},
   "source": [
    "#### Cantidad de paginas vista en cada mes dentro del trimestre"
   ]
  },
  {
   "cell_type": "code",
   "execution_count": 21,
   "metadata": {},
   "outputs": [],
   "source": [
    "nombre = \"cantidad paginas vistas mes\""
   ]
  },
  {
   "cell_type": "code",
   "execution_count": 22,
   "metadata": {},
   "outputs": [],
   "source": [
    "def cantidad_paginas_vistas_por_mes(dataframe):\n",
    "    \n",
    "    vistas_por_mes = dataframe.groupby([\"USER_ID\",\"mes\"]).agg({\"trimestre\":\"count\"})\n",
    "    vistas_por_mes.reset_index(inplace = True)\n",
    "    vistas_por_mes = vistas_por_mes.pivot(index = \"USER_ID\", columns = \"mes\", values = \"trimestre\")\n",
    "    \n",
    "    vistas_por_mes.columns = [\"cant_paginas_vistas_en_mes_{}\".format(mes) for mes in range(1,4)]\n",
    "\n",
    "    return vistas_por_mes"
   ]
  },
  {
   "cell_type": "code",
   "execution_count": 23,
   "metadata": {},
   "outputs": [],
   "source": [
    "FUNCIONES_FEATURES[nombre] = cantidad_paginas_vistas_por_mes"
   ]
  },
  {
   "cell_type": "code",
   "execution_count": 24,
   "metadata": {},
   "outputs": [],
   "source": [
    "columnas_generadas = [\"cant_paginas_vistas_en_mes_{}\".format(mes) for mes in range(1,4)]\n",
    "tipo_dato = \"int64\"\n",
    "dato_nan = 0\n",
    "\n",
    "DATOS_FEATURES[nombre] = (columnas_generadas,tipo_dato,dato_nan) "
   ]
  },
  {
   "cell_type": "markdown",
   "metadata": {},
   "source": [
    "---"
   ]
  },
  {
   "cell_type": "markdown",
   "metadata": {},
   "source": [
    "#### Page mas vista cada mes"
   ]
  },
  {
   "cell_type": "code",
   "execution_count": 25,
   "metadata": {},
   "outputs": [],
   "source": [
    "nombre = \"page mas vista mes\""
   ]
  },
  {
   "cell_type": "code",
   "execution_count": 26,
   "metadata": {},
   "outputs": [],
   "source": [
    "def page_mas_vista_cada_mes(dataframe):\n",
    "    \n",
    "    feature = dataframe.groupby(['USER_ID','mes','PAGE']).agg({'trimestre':'count'})\n",
    "    index = feature.groupby(['USER_ID','mes'])['trimestre'].transform(max) == feature['trimestre']\n",
    "    feature = feature[index]\n",
    "    \n",
    "    #Elimino duplicados\n",
    "    feature.reset_index(inplace=True)\n",
    "    feature = feature.drop_duplicates(subset=['USER_ID','mes'])  \n",
    "       \n",
    "    \n",
    "    #Cambio la forma del dataframe -> indice = USER_ID, columnas = \"meses (1,2,3), valores = \"pagina\"\n",
    "    feature = feature.pivot(index = \"USER_ID\",columns = \"mes\", values = [\"PAGE\"])\n",
    "    \n",
    "    feature.columns = [x for x in range(1,4)]\n",
    "    feature.columns = [(\"page_top_en_mes_{}\".format(mes)) for mes in feature.columns.values]\n",
    "    \n",
    "    \n",
    "    nombres_col = rellenar_columnas_multilevel_faltantes(feature,\"page_top_en_mes_\",-1)\n",
    "    \n",
    "    return feature[nombres_col]"
   ]
  },
  {
   "cell_type": "markdown",
   "metadata": {},
   "source": [
    "#### Funcion vieja"
   ]
  },
  {
   "cell_type": "markdown",
   "metadata": {},
   "source": [
    "def page_mas_vista_cada_mes(dataframe):\n",
    "    \n",
    "    feature = dataframe.groupby(['USER_ID','mes','PAGE']).agg({'trimestre':'count'})\n",
    "    index = feature.groupby(['USER_ID','mes'])['trimestre'].transform(max) == feature['trimestre']\n",
    "    feature = feature[index]\n",
    "    \n",
    "    #Elimino duplicados\n",
    "    feature.reset_index(inplace=True)\n",
    "    feature = feature.drop_duplicates(subset=['USER_ID','mes'])  \n",
    "    \n",
    "    \n",
    "    #Cambio la forma del dataframe -> indice = USER_ID, columnas = \"meses (1,2,3), valores = \"pagina\"\n",
    "    feature = feature.pivot(index = \"USER_ID\",columns = \"mes\", values = \"PAGE\")\n",
    "        \n",
    "    \n",
    "    #lleno los meses vacios con -1\n",
    "    feature.columns = [x for x in range(1,4)]\n",
    "    for mes in range(1,4):\n",
    "        try:            #si no existe el mes, lo creo\n",
    "            \n",
    "            feature[mes] = feature[mes].fillna(-1)\n",
    "        except KeyError:\n",
    "            feature.insert(mes,mes,-1)\n",
    "\n",
    "                \n",
    "    feature.columns = [\"page_mas_vista_en_mes_{}\".format(mes) for mes in range(1,4)]\n",
    "    \n",
    "    return feature"
   ]
  },
  {
   "cell_type": "code",
   "execution_count": 27,
   "metadata": {},
   "outputs": [],
   "source": [
    "FUNCIONES_FEATURES[nombre] = page_mas_vista_cada_mes"
   ]
  },
  {
   "cell_type": "code",
   "execution_count": 28,
   "metadata": {},
   "outputs": [],
   "source": [
    "columnas_generadas = [\"page_top_en_mes_{}\".format(mes) for mes in range(1,4)]\n",
    "tipo_dato = \"int16\"\n",
    "dato_nan = -1\n",
    "\n",
    "DATOS_FEATURES[nombre]=(columnas_generadas, tipo_dato, dato_nan)"
   ]
  },
  {
   "cell_type": "markdown",
   "metadata": {},
   "source": [
    "### PAGEs importantes vistas en cuatrimestre"
   ]
  },
  {
   "cell_type": "code",
   "execution_count": 29,
   "metadata": {},
   "outputs": [],
   "source": [
    "nombre=\"PAGEs importantes vistas en cuatri\""
   ]
  },
  {
   "cell_type": "code",
   "execution_count": 30,
   "metadata": {},
   "outputs": [],
   "source": [
    "PAGEs_importantes=[  41,  110,  109,  108,    2,  285,    3,  286,  345,   27,    5,\n",
    "              57,  287,   23,   20,    4,   40,   21,   26,   65,   69,   42,\n",
    "              32,   85,   58,   48,   99,   24,   61,   82,    1,   64,   81,\n",
    "              59,  140,  296,   60,  182,    6,  153,   39,  146,   14,  186,\n",
    "             187, 1259,   45,  161,  321,  369]  #Obtenidas mediante importancia de features de un Random Forest"
   ]
  },
  {
   "cell_type": "code",
   "execution_count": 31,
   "metadata": {},
   "outputs": [],
   "source": [
    "def pages_importantes_vistas_cuatrimestre(dataframe):\n",
    "    \n",
    "    feature = pd.crosstab(dataframe.USER_ID,dataframe.PAGE)\n",
    "    feature = feature.reindex(PAGEs_importantes).fillna(0).astype(int) \n",
    "       \n",
    "    feature.columns = [(\"PAGE_{}\".format(x)) for x in PAGEs_importantes]\n",
    "    \n",
    "    return feature"
   ]
  },
  {
   "cell_type": "code",
   "execution_count": 32,
   "metadata": {},
   "outputs": [],
   "source": [
    "FUNCIONES_FEATURES[nombre] = pages_importantes_vistas_cuatrimestre"
   ]
  },
  {
   "cell_type": "code",
   "execution_count": 33,
   "metadata": {},
   "outputs": [],
   "source": [
    "columnas_generadas = [(\"PAGE_{}\".format(x)) for x in PAGEs_importantes]\n",
    "tipo_dato = \"int16\"\n",
    "dato_nan = 0\n",
    "\n",
    "DATOS_FEATURES[nombre]=(columnas_generadas, tipo_dato, dato_nan)"
   ]
  },
  {
   "cell_type": "markdown",
   "metadata": {},
   "source": [
    "#### Cantidad de vistas de la pagina top en cada mes"
   ]
  },
  {
   "cell_type": "code",
   "execution_count": 34,
   "metadata": {},
   "outputs": [],
   "source": [
    "nombre = \"vistas pagina top mes\""
   ]
  },
  {
   "cell_type": "code",
   "execution_count": 35,
   "metadata": {},
   "outputs": [],
   "source": [
    "def vistas_pagina_top_por_mes(dataframe):\n",
    "    \n",
    "    feature = dataframe.groupby(['USER_ID','mes','PAGE']).agg({'trimestre':'count'})\n",
    "    index = feature.groupby(['USER_ID','mes'])['trimestre'].transform(max) == feature['trimestre']\n",
    "    feature = feature[index]\n",
    "    \n",
    "    #Elimino duplicados\n",
    "    feature.reset_index(inplace=True)\n",
    "    feature = feature.drop_duplicates(subset=['USER_ID','mes'])  \n",
    "       \n",
    "    \n",
    "    #Cambio la forma del dataframe -> indice = USER_ID, columnas = \"meses (1,2,3), valores = \"pagina\"\n",
    "    feature = feature.pivot(index = \"USER_ID\",columns = \"mes\", values = [\"trimestre\"])\n",
    "    \n",
    "    feature.columns = [x for x in range(1,4)]\n",
    "    feature.columns = [(\"vistas_page_top_en_mes_{}\".format(mes)) for mes in feature.columns]\n",
    "    \n",
    "    \n",
    "    nombres_col = rellenar_columnas_multilevel_faltantes(feature,\"vistas_page_top_en_mes_\",0)\n",
    "    \n",
    "    return feature"
   ]
  },
  {
   "cell_type": "code",
   "execution_count": 36,
   "metadata": {},
   "outputs": [],
   "source": [
    "FUNCIONES_FEATURES[nombre] = vistas_pagina_top_por_mes"
   ]
  },
  {
   "cell_type": "code",
   "execution_count": 37,
   "metadata": {},
   "outputs": [],
   "source": [
    "columnas_generadas = [\"vistas_page_top_en_mes_{}\".format(mes) for mes in range(1,4)]\n",
    "tipo_dato = \"int64\"\n",
    "dato_nan = 0\n",
    "\n",
    "DATOS_FEATURES[nombre]=(columnas_generadas, tipo_dato, dato_nan)"
   ]
  },
  {
   "cell_type": "markdown",
   "metadata": {},
   "source": [
    "---"
   ]
  },
  {
   "cell_type": "markdown",
   "metadata": {},
   "source": [
    "### Sitio mas visitado cada mes"
   ]
  },
  {
   "cell_type": "code",
   "execution_count": 38,
   "metadata": {},
   "outputs": [],
   "source": [
    "nombre = \"sitio mas buscado cada mes\""
   ]
  },
  {
   "cell_type": "code",
   "execution_count": 39,
   "metadata": {},
   "outputs": [],
   "source": [
    "def sitio_mas_visitado_cada_mes(dataframe):\n",
    "    \n",
    "    feature = dataframe.groupby(['USER_ID','mes','SITE_ID']).agg({'trimestre':'count'})\n",
    "    index = feature.groupby(['USER_ID','mes'])['trimestre'].transform(max) == feature['trimestre']\n",
    "    feature = feature[index]\n",
    "    \n",
    "    #Elimino duplicados\n",
    "    feature.reset_index(inplace=True)\n",
    "    feature = feature.drop_duplicates(subset=['USER_ID','mes'])  \n",
    "       \n",
    "    \n",
    "    #Cambio la forma del dataframe -> indice = USER_ID, columnas = \"meses (1,2,3), valores = \"pagina\"\n",
    "    feature = feature.pivot(index = \"USER_ID\",columns = \"mes\", values = [\"SITE_ID\"])\n",
    "    \n",
    "    feature.columns = [x for x in range(1,4)]\n",
    "    feature.columns = [(\"sitio_mas_visitado_en_mes_{}\".format(mes)) for mes in feature.columns.values]\n",
    "    nombres_col = rellenar_columnas_multilevel_faltantes(feature,\"sitio_mas_visitado_en_mes_\",-1)\n",
    "    \n",
    "    return feature[nombres_col]"
   ]
  },
  {
   "cell_type": "code",
   "execution_count": 40,
   "metadata": {},
   "outputs": [],
   "source": [
    "FUNCIONES_FEATURES[nombre] = sitio_mas_visitado_cada_mes"
   ]
  },
  {
   "cell_type": "code",
   "execution_count": 41,
   "metadata": {},
   "outputs": [],
   "source": [
    "columnas_generadas = [\"sitio_mas_visitado_en_mes_{}\".format(mes) for mes in range(1,4)]\n",
    "tipo_dato = \"int16\"\n",
    "dato_nan = -1\n",
    "\n",
    "DATOS_FEATURES[nombre]=(columnas_generadas, tipo_dato, dato_nan)"
   ]
  },
  {
   "cell_type": "markdown",
   "metadata": {},
   "source": [
    "#### Cantidad de vistas sitio mas buscado por mes"
   ]
  },
  {
   "cell_type": "code",
   "execution_count": 42,
   "metadata": {},
   "outputs": [],
   "source": [
    "nombre = \"vistas de sitio top por mes\""
   ]
  },
  {
   "cell_type": "code",
   "execution_count": 43,
   "metadata": {},
   "outputs": [],
   "source": [
    "def cantidad_vistas_sitio_top_por_mes(dataframe):\n",
    "    \n",
    "    feature = dataframe.groupby(['USER_ID','mes','SITE_ID']).agg({'trimestre':'count'})\n",
    "    index = feature.groupby(['USER_ID','mes'])['trimestre'].transform(max) == feature['trimestre']\n",
    "    feature = feature[index]\n",
    "    \n",
    "    #Elimino duplicados\n",
    "    feature.reset_index(inplace=True)\n",
    "    feature = feature.drop_duplicates(subset=['USER_ID','mes'])  \n",
    "       \n",
    "    \n",
    "    #Cambio la forma del dataframe -> indice = USER_ID, columnas = \"meses (1,2,3), valores = \"pagina\"\n",
    "    feature = feature.pivot(index = \"USER_ID\",columns = \"mes\", values = [\"trimestre\"])\n",
    "    \n",
    "    feature.columns = [x for x in range(1,4)]\n",
    "    feature.columns = [(\"vistas_site_top_mes_{}\".format(mes)) for mes in feature.columns.values]\n",
    "\n",
    "    nombres_col = rellenar_columnas_multilevel_faltantes(feature,\"vistas_site_top_mes_\",0)\n",
    "    \n",
    "    return feature[nombres_col]"
   ]
  },
  {
   "cell_type": "code",
   "execution_count": 44,
   "metadata": {},
   "outputs": [],
   "source": [
    "FUNCIONES_FEATURES[nombre] = cantidad_vistas_sitio_top_por_mes"
   ]
  },
  {
   "cell_type": "code",
   "execution_count": 45,
   "metadata": {},
   "outputs": [],
   "source": [
    "columnas_generadas = [\"vistas_site_top_mes_{}\".format(mes) for mes in range(1,4)]\n",
    "tipo_dato = \"int64\"\n",
    "dato_nan = 0\n",
    "\n",
    "DATOS_FEATURES[nombre]=(columnas_generadas, tipo_dato, dato_nan)"
   ]
  },
  {
   "cell_type": "markdown",
   "metadata": {},
   "source": [
    "---"
   ]
  },
  {
   "cell_type": "markdown",
   "metadata": {},
   "source": [
    "#### Termino mas buscado en cada mes"
   ]
  },
  {
   "cell_type": "code",
   "execution_count": 46,
   "metadata": {},
   "outputs": [],
   "source": [
    "nombre = \"termino mas buscado cada mes\""
   ]
  },
  {
   "cell_type": "code",
   "execution_count": 47,
   "metadata": {},
   "outputs": [],
   "source": [
    "def termino_mas_buscado_cada_mes(dataframe):\n",
    "    \n",
    "    feature = dataframe.groupby(['USER_ID','mes','ON_SITE_SEARCH_TERM']).agg({'trimestre':'count'})\n",
    "    index = feature.groupby(['USER_ID','mes'])['trimestre'].transform(max) == feature['trimestre']\n",
    "    feature = feature[index]\n",
    "    \n",
    "    #Elimino duplicados\n",
    "    feature.reset_index(inplace=True)\n",
    "    feature = feature.drop_duplicates(subset=['USER_ID','mes'])  \n",
    "       \n",
    "    \n",
    "    #Cambio la forma del dataframe -> indice = USER_ID, columnas = \"meses (1,2,3), valores = \"pagina\"\n",
    "    feature = feature.pivot(index = \"USER_ID\",columns = \"mes\", values = [\"ON_SITE_SEARCH_TERM\"])\n",
    "    \n",
    "    feature.columns = [x for x in range(1,4)]\n",
    "    feature.columns = [(\"termino_top_en_mes_{}\".format(mes)) for mes in feature.columns.values]\n",
    "    \n",
    "    \n",
    "    nombres_col = rellenar_columnas_multilevel_faltantes(feature,\"termino_top_en_mes_\",-1)\n",
    "    \n",
    "    return feature[nombres_col]"
   ]
  },
  {
   "cell_type": "code",
   "execution_count": 48,
   "metadata": {},
   "outputs": [],
   "source": [
    "FUNCIONES_FEATURES[nombre] = termino_mas_buscado_cada_mes"
   ]
  },
  {
   "cell_type": "code",
   "execution_count": 49,
   "metadata": {},
   "outputs": [],
   "source": [
    "columnas_generadas = [\"termino_top_en_mes_{}\".format(mes) for mes in range(1,4)]\n",
    "tipo_dato = \"int16\"\n",
    "dato_nan = -1\n",
    "\n",
    "DATOS_FEATURES[nombre]=(columnas_generadas, tipo_dato, dato_nan)"
   ]
  },
  {
   "cell_type": "markdown",
   "metadata": {},
   "source": [
    "#### Cantidad de busquedas termino mas buscado por mes"
   ]
  },
  {
   "cell_type": "code",
   "execution_count": 50,
   "metadata": {},
   "outputs": [],
   "source": [
    "nombre = \"busquedas de termino top por mes\""
   ]
  },
  {
   "cell_type": "code",
   "execution_count": 51,
   "metadata": {},
   "outputs": [],
   "source": [
    "def cantidad_busquedas_termino_top_por_mes(dataframe):\n",
    "    \n",
    "    feature = dataframe.groupby(['USER_ID','mes','ON_SITE_SEARCH_TERM']).agg({'trimestre':'count'})\n",
    "    index = feature.groupby(['USER_ID','mes'])['trimestre'].transform(max) == feature['trimestre']\n",
    "    feature = feature[index]\n",
    "    \n",
    "    #Elimino duplicados\n",
    "    feature.reset_index(inplace=True)\n",
    "    feature = feature.drop_duplicates(subset=['USER_ID','mes'])  \n",
    "       \n",
    "    \n",
    "    #Cambio la forma del dataframe -> indice = USER_ID, columnas = \"meses (1,2,3), valores = \"pagina\"\n",
    "    feature = feature.pivot(index = \"USER_ID\",columns = \"mes\", values = [\"trimestre\"])\n",
    "    \n",
    "    feature.columns = [x for x in range(1,4)]\n",
    "    feature.columns = [(\"busquedas_termino_top_mes_{}\".format(mes)) for mes in feature.columns.values]\n",
    "    \n",
    "    \n",
    "    nombres_col = rellenar_columnas_multilevel_faltantes(feature,\"busquedas_termino_top_mes_\",0)\n",
    "    \n",
    "    return feature[nombres_col]"
   ]
  },
  {
   "cell_type": "code",
   "execution_count": 52,
   "metadata": {},
   "outputs": [],
   "source": [
    "FUNCIONES_FEATURES[nombre] = cantidad_busquedas_termino_top_por_mes"
   ]
  },
  {
   "cell_type": "code",
   "execution_count": 53,
   "metadata": {},
   "outputs": [],
   "source": [
    "columnas_generadas = [\"busquedas_termino_top_mes_{}\".format(mes) for mes in range(1,4)]\n",
    "tipo_dato = \"int64\"\n",
    "dato_nan = 0\n",
    "\n",
    "DATOS_FEATURES[nombre]=(columnas_generadas, tipo_dato, dato_nan)"
   ]
  },
  {
   "cell_type": "markdown",
   "metadata": {},
   "source": [
    "---"
   ]
  },
  {
   "cell_type": "markdown",
   "metadata": {},
   "source": [
    "---"
   ]
  },
  {
   "cell_type": "markdown",
   "metadata": {},
   "source": [
    "## Generacion de features"
   ]
  },
  {
   "cell_type": "code",
   "execution_count": 54,
   "metadata": {},
   "outputs": [
    {
     "ename": "MemoryError",
     "evalue": "",
     "output_type": "error",
     "traceback": [
      "\u001b[1;31m---------------------------------------------------------------------------\u001b[0m",
      "\u001b[1;31mMemoryError\u001b[0m                               Traceback (most recent call last)",
      "\u001b[1;32m<ipython-input-54-b9182a46d1fe>\u001b[0m in \u001b[0;36m<module>\u001b[1;34m\u001b[0m\n\u001b[0;32m      1\u001b[0m \u001b[1;32mfor\u001b[0m \u001b[0mventana_nro\u001b[0m \u001b[1;32min\u001b[0m \u001b[0mrange\u001b[0m\u001b[1;33m(\u001b[0m\u001b[1;36m1\u001b[0m\u001b[1;33m,\u001b[0m \u001b[0mCANT_TRIMESTRES\u001b[0m \u001b[1;33m+\u001b[0m \u001b[1;36m1\u001b[0m\u001b[1;33m)\u001b[0m\u001b[1;33m:\u001b[0m\u001b[1;33m\u001b[0m\u001b[1;33m\u001b[0m\u001b[0m\n\u001b[1;32m----> 2\u001b[1;33m     \u001b[0mgenerar_features_faltantes\u001b[0m\u001b[1;33m(\u001b[0m\u001b[0mdata\u001b[0m\u001b[1;33m,\u001b[0m \u001b[0mTRIMESTRES\u001b[0m\u001b[1;33m,\u001b[0m \u001b[0mventana_nro\u001b[0m\u001b[1;33m)\u001b[0m\u001b[1;33m\u001b[0m\u001b[1;33m\u001b[0m\u001b[0m\n\u001b[0m",
      "\u001b[1;32m<ipython-input-7-c8e5325698b1>\u001b[0m in \u001b[0;36mgenerar_features_faltantes\u001b[1;34m(dataframe, destino, trimestre)\u001b[0m\n\u001b[0;32m     14\u001b[0m \u001b[1;33m\u001b[0m\u001b[0m\n\u001b[0;32m     15\u001b[0m         \u001b[1;31m#Si no fueron generados, los genero y actualizo el listado:\u001b[0m\u001b[1;33m\u001b[0m\u001b[1;33m\u001b[0m\u001b[1;33m\u001b[0m\u001b[0m\n\u001b[1;32m---> 16\u001b[1;33m         \u001b[0mgenerar_feature_en_ventana\u001b[0m\u001b[1;33m(\u001b[0m\u001b[0mdataframe\u001b[0m\u001b[1;33m,\u001b[0m\u001b[0mtrimestre\u001b[0m\u001b[1;33m,\u001b[0m \u001b[0mnombre_feature\u001b[0m\u001b[1;33m,\u001b[0m \u001b[0mdestino\u001b[0m\u001b[1;33m)\u001b[0m\u001b[1;33m\u001b[0m\u001b[1;33m\u001b[0m\u001b[0m\n\u001b[0m\u001b[0;32m     17\u001b[0m \u001b[1;33m\u001b[0m\u001b[0m\n\u001b[0;32m     18\u001b[0m         \u001b[1;31m#Agrego las columnas nuevas al diccionario\u001b[0m\u001b[1;33m\u001b[0m\u001b[1;33m\u001b[0m\u001b[1;33m\u001b[0m\u001b[0m\n",
      "\u001b[1;32m<ipython-input-5-f986cfb19d12>\u001b[0m in \u001b[0;36mgenerar_feature_en_ventana\u001b[1;34m(dataframe, trimestre, nombre_feature, destino)\u001b[0m\n\u001b[0;32m      4\u001b[0m     \u001b[1;31m#Calculo el feature\u001b[0m\u001b[1;33m\u001b[0m\u001b[1;33m\u001b[0m\u001b[1;33m\u001b[0m\u001b[0m\n\u001b[0;32m      5\u001b[0m     \u001b[0mfuncion_feature\u001b[0m \u001b[1;33m=\u001b[0m \u001b[0mFUNCIONES_FEATURES\u001b[0m\u001b[1;33m[\u001b[0m\u001b[0mnombre_feature\u001b[0m\u001b[1;33m]\u001b[0m\u001b[1;33m\u001b[0m\u001b[1;33m\u001b[0m\u001b[0m\n\u001b[1;32m----> 6\u001b[1;33m     \u001b[0mdataframe\u001b[0m \u001b[1;33m=\u001b[0m \u001b[0mfuncion_feature\u001b[0m\u001b[1;33m(\u001b[0m \u001b[0mdataframe\u001b[0m\u001b[1;33m[\u001b[0m\u001b[0mdataframe\u001b[0m\u001b[1;33m[\u001b[0m\u001b[1;34m\"trimestre\"\u001b[0m\u001b[1;33m]\u001b[0m \u001b[1;33m==\u001b[0m \u001b[0mtrimestre\u001b[0m\u001b[1;33m]\u001b[0m \u001b[1;33m)\u001b[0m\u001b[1;33m\u001b[0m\u001b[1;33m\u001b[0m\u001b[0m\n\u001b[0m\u001b[0;32m      7\u001b[0m \u001b[1;33m\u001b[0m\u001b[0m\n\u001b[0;32m      8\u001b[0m     \u001b[1;31m#Uno los features nuevos con los viejos\u001b[0m\u001b[1;33m\u001b[0m\u001b[1;33m\u001b[0m\u001b[1;33m\u001b[0m\u001b[0m\n",
      "\u001b[1;32m<ipython-input-31-ff527cdce9d9>\u001b[0m in \u001b[0;36mpages_importantes_vistas_cuatrimestre\u001b[1;34m(dataframe)\u001b[0m\n\u001b[0;32m      1\u001b[0m \u001b[1;32mdef\u001b[0m \u001b[0mpages_importantes_vistas_cuatrimestre\u001b[0m\u001b[1;33m(\u001b[0m\u001b[0mdataframe\u001b[0m\u001b[1;33m)\u001b[0m\u001b[1;33m:\u001b[0m\u001b[1;33m\u001b[0m\u001b[1;33m\u001b[0m\u001b[0m\n\u001b[0;32m      2\u001b[0m \u001b[1;33m\u001b[0m\u001b[0m\n\u001b[1;32m----> 3\u001b[1;33m     \u001b[0mfeature\u001b[0m \u001b[1;33m=\u001b[0m \u001b[0mpd\u001b[0m\u001b[1;33m.\u001b[0m\u001b[0mcrosstab\u001b[0m\u001b[1;33m(\u001b[0m\u001b[0mdataframe\u001b[0m\u001b[1;33m.\u001b[0m\u001b[0mUSER_ID\u001b[0m\u001b[1;33m,\u001b[0m\u001b[0mdataframe\u001b[0m\u001b[1;33m.\u001b[0m\u001b[0mPAGE\u001b[0m\u001b[1;33m)\u001b[0m\u001b[1;33m\u001b[0m\u001b[1;33m\u001b[0m\u001b[0m\n\u001b[0m\u001b[0;32m      4\u001b[0m     \u001b[0mfeature\u001b[0m \u001b[1;33m=\u001b[0m \u001b[0mfeature\u001b[0m\u001b[1;33m.\u001b[0m\u001b[0mreindex\u001b[0m\u001b[1;33m(\u001b[0m\u001b[0mPAGEs_importantes\u001b[0m\u001b[1;33m)\u001b[0m\u001b[1;33m.\u001b[0m\u001b[0mfillna\u001b[0m\u001b[1;33m(\u001b[0m\u001b[1;36m0\u001b[0m\u001b[1;33m)\u001b[0m\u001b[1;33m.\u001b[0m\u001b[0mastype\u001b[0m\u001b[1;33m(\u001b[0m\u001b[0mint\u001b[0m\u001b[1;33m)\u001b[0m\u001b[1;33m\u001b[0m\u001b[1;33m\u001b[0m\u001b[0m\n\u001b[0;32m      5\u001b[0m \u001b[1;33m\u001b[0m\u001b[0m\n",
      "\u001b[1;32mC:\\ProgramData\\Anaconda3\\lib\\site-packages\\pandas\\core\\reshape\\pivot.py\u001b[0m in \u001b[0;36mcrosstab\u001b[1;34m(index, columns, values, rownames, colnames, aggfunc, margins, margins_name, dropna, normalize)\u001b[0m\n\u001b[0;32m    519\u001b[0m     table = df.pivot_table('__dummy__', index=rownames, columns=colnames,\n\u001b[0;32m    520\u001b[0m                            \u001b[0mmargins\u001b[0m\u001b[1;33m=\u001b[0m\u001b[0mmargins\u001b[0m\u001b[1;33m,\u001b[0m \u001b[0mmargins_name\u001b[0m\u001b[1;33m=\u001b[0m\u001b[0mmargins_name\u001b[0m\u001b[1;33m,\u001b[0m\u001b[1;33m\u001b[0m\u001b[1;33m\u001b[0m\u001b[0m\n\u001b[1;32m--> 521\u001b[1;33m                            dropna=dropna, **kwargs)\n\u001b[0m\u001b[0;32m    522\u001b[0m \u001b[1;33m\u001b[0m\u001b[0m\n\u001b[0;32m    523\u001b[0m     \u001b[1;31m# Post-process\u001b[0m\u001b[1;33m\u001b[0m\u001b[1;33m\u001b[0m\u001b[1;33m\u001b[0m\u001b[0m\n",
      "\u001b[1;32mC:\\ProgramData\\Anaconda3\\lib\\site-packages\\pandas\\core\\frame.py\u001b[0m in \u001b[0;36mpivot_table\u001b[1;34m(self, values, index, columns, aggfunc, fill_value, margins, dropna, margins_name)\u001b[0m\n\u001b[0;32m   5757\u001b[0m                            \u001b[0maggfunc\u001b[0m\u001b[1;33m=\u001b[0m\u001b[0maggfunc\u001b[0m\u001b[1;33m,\u001b[0m \u001b[0mfill_value\u001b[0m\u001b[1;33m=\u001b[0m\u001b[0mfill_value\u001b[0m\u001b[1;33m,\u001b[0m\u001b[1;33m\u001b[0m\u001b[1;33m\u001b[0m\u001b[0m\n\u001b[0;32m   5758\u001b[0m                            \u001b[0mmargins\u001b[0m\u001b[1;33m=\u001b[0m\u001b[0mmargins\u001b[0m\u001b[1;33m,\u001b[0m \u001b[0mdropna\u001b[0m\u001b[1;33m=\u001b[0m\u001b[0mdropna\u001b[0m\u001b[1;33m,\u001b[0m\u001b[1;33m\u001b[0m\u001b[1;33m\u001b[0m\u001b[0m\n\u001b[1;32m-> 5759\u001b[1;33m                            margins_name=margins_name)\n\u001b[0m\u001b[0;32m   5760\u001b[0m \u001b[1;33m\u001b[0m\u001b[0m\n\u001b[0;32m   5761\u001b[0m     \u001b[1;32mdef\u001b[0m \u001b[0mstack\u001b[0m\u001b[1;33m(\u001b[0m\u001b[0mself\u001b[0m\u001b[1;33m,\u001b[0m \u001b[0mlevel\u001b[0m\u001b[1;33m=\u001b[0m\u001b[1;33m-\u001b[0m\u001b[1;36m1\u001b[0m\u001b[1;33m,\u001b[0m \u001b[0mdropna\u001b[0m\u001b[1;33m=\u001b[0m\u001b[1;32mTrue\u001b[0m\u001b[1;33m)\u001b[0m\u001b[1;33m:\u001b[0m\u001b[1;33m\u001b[0m\u001b[1;33m\u001b[0m\u001b[0m\n",
      "\u001b[1;32mC:\\ProgramData\\Anaconda3\\lib\\site-packages\\pandas\\core\\reshape\\pivot.py\u001b[0m in \u001b[0;36mpivot_table\u001b[1;34m(data, values, index, columns, aggfunc, fill_value, margins, dropna, margins_name)\u001b[0m\n\u001b[0;32m    125\u001b[0m \u001b[1;33m\u001b[0m\u001b[0m\n\u001b[0;32m    126\u001b[0m     \u001b[1;32mif\u001b[0m \u001b[0mfill_value\u001b[0m \u001b[1;32mis\u001b[0m \u001b[1;32mnot\u001b[0m \u001b[1;32mNone\u001b[0m\u001b[1;33m:\u001b[0m\u001b[1;33m\u001b[0m\u001b[1;33m\u001b[0m\u001b[0m\n\u001b[1;32m--> 127\u001b[1;33m         \u001b[0mtable\u001b[0m \u001b[1;33m=\u001b[0m \u001b[0mtable\u001b[0m\u001b[1;33m.\u001b[0m\u001b[0mfillna\u001b[0m\u001b[1;33m(\u001b[0m\u001b[0mvalue\u001b[0m\u001b[1;33m=\u001b[0m\u001b[0mfill_value\u001b[0m\u001b[1;33m,\u001b[0m \u001b[0mdowncast\u001b[0m\u001b[1;33m=\u001b[0m\u001b[1;34m'infer'\u001b[0m\u001b[1;33m)\u001b[0m\u001b[1;33m\u001b[0m\u001b[1;33m\u001b[0m\u001b[0m\n\u001b[0m\u001b[0;32m    128\u001b[0m \u001b[1;33m\u001b[0m\u001b[0m\n\u001b[0;32m    129\u001b[0m     \u001b[1;32mif\u001b[0m \u001b[0mmargins\u001b[0m\u001b[1;33m:\u001b[0m\u001b[1;33m\u001b[0m\u001b[1;33m\u001b[0m\u001b[0m\n",
      "\u001b[1;32mC:\\ProgramData\\Anaconda3\\lib\\site-packages\\pandas\\core\\frame.py\u001b[0m in \u001b[0;36mfillna\u001b[1;34m(self, value, method, axis, inplace, limit, downcast, **kwargs)\u001b[0m\n\u001b[0;32m   4032\u001b[0m                      \u001b[0mself\u001b[0m\u001b[1;33m)\u001b[0m\u001b[1;33m.\u001b[0m\u001b[0mfillna\u001b[0m\u001b[1;33m(\u001b[0m\u001b[0mvalue\u001b[0m\u001b[1;33m=\u001b[0m\u001b[0mvalue\u001b[0m\u001b[1;33m,\u001b[0m \u001b[0mmethod\u001b[0m\u001b[1;33m=\u001b[0m\u001b[0mmethod\u001b[0m\u001b[1;33m,\u001b[0m \u001b[0maxis\u001b[0m\u001b[1;33m=\u001b[0m\u001b[0maxis\u001b[0m\u001b[1;33m,\u001b[0m\u001b[1;33m\u001b[0m\u001b[1;33m\u001b[0m\u001b[0m\n\u001b[0;32m   4033\u001b[0m                                   \u001b[0minplace\u001b[0m\u001b[1;33m=\u001b[0m\u001b[0minplace\u001b[0m\u001b[1;33m,\u001b[0m \u001b[0mlimit\u001b[0m\u001b[1;33m=\u001b[0m\u001b[0mlimit\u001b[0m\u001b[1;33m,\u001b[0m\u001b[1;33m\u001b[0m\u001b[1;33m\u001b[0m\u001b[0m\n\u001b[1;32m-> 4034\u001b[1;33m                                   downcast=downcast, **kwargs)\n\u001b[0m\u001b[0;32m   4035\u001b[0m \u001b[1;33m\u001b[0m\u001b[0m\n\u001b[0;32m   4036\u001b[0m     \u001b[1;33m@\u001b[0m\u001b[0mAppender\u001b[0m\u001b[1;33m(\u001b[0m\u001b[0m_shared_docs\u001b[0m\u001b[1;33m[\u001b[0m\u001b[1;34m'replace'\u001b[0m\u001b[1;33m]\u001b[0m \u001b[1;33m%\u001b[0m \u001b[0m_shared_doc_kwargs\u001b[0m\u001b[1;33m)\u001b[0m\u001b[1;33m\u001b[0m\u001b[1;33m\u001b[0m\u001b[0m\n",
      "\u001b[1;32mC:\\ProgramData\\Anaconda3\\lib\\site-packages\\pandas\\core\\generic.py\u001b[0m in \u001b[0;36mfillna\u001b[1;34m(self, value, method, axis, inplace, limit, downcast)\u001b[0m\n\u001b[0;32m   6121\u001b[0m                 new_data = self._data.fillna(value=value, limit=limit,\n\u001b[0;32m   6122\u001b[0m                                              \u001b[0minplace\u001b[0m\u001b[1;33m=\u001b[0m\u001b[0minplace\u001b[0m\u001b[1;33m,\u001b[0m\u001b[1;33m\u001b[0m\u001b[1;33m\u001b[0m\u001b[0m\n\u001b[1;32m-> 6123\u001b[1;33m                                              downcast=downcast)\n\u001b[0m\u001b[0;32m   6124\u001b[0m             \u001b[1;32melif\u001b[0m \u001b[0misinstance\u001b[0m\u001b[1;33m(\u001b[0m\u001b[0mvalue\u001b[0m\u001b[1;33m,\u001b[0m \u001b[0mDataFrame\u001b[0m\u001b[1;33m)\u001b[0m \u001b[1;32mand\u001b[0m \u001b[0mself\u001b[0m\u001b[1;33m.\u001b[0m\u001b[0mndim\u001b[0m \u001b[1;33m==\u001b[0m \u001b[1;36m2\u001b[0m\u001b[1;33m:\u001b[0m\u001b[1;33m\u001b[0m\u001b[1;33m\u001b[0m\u001b[0m\n\u001b[0;32m   6125\u001b[0m                 \u001b[0mnew_data\u001b[0m \u001b[1;33m=\u001b[0m \u001b[0mself\u001b[0m\u001b[1;33m.\u001b[0m\u001b[0mwhere\u001b[0m\u001b[1;33m(\u001b[0m\u001b[0mself\u001b[0m\u001b[1;33m.\u001b[0m\u001b[0mnotna\u001b[0m\u001b[1;33m(\u001b[0m\u001b[1;33m)\u001b[0m\u001b[1;33m,\u001b[0m \u001b[0mvalue\u001b[0m\u001b[1;33m)\u001b[0m\u001b[1;33m\u001b[0m\u001b[1;33m\u001b[0m\u001b[0m\n",
      "\u001b[1;32mC:\\ProgramData\\Anaconda3\\lib\\site-packages\\pandas\\core\\internals\\managers.py\u001b[0m in \u001b[0;36mfillna\u001b[1;34m(self, **kwargs)\u001b[0m\n\u001b[0;32m    523\u001b[0m \u001b[1;33m\u001b[0m\u001b[0m\n\u001b[0;32m    524\u001b[0m     \u001b[1;32mdef\u001b[0m \u001b[0mfillna\u001b[0m\u001b[1;33m(\u001b[0m\u001b[0mself\u001b[0m\u001b[1;33m,\u001b[0m \u001b[1;33m**\u001b[0m\u001b[0mkwargs\u001b[0m\u001b[1;33m)\u001b[0m\u001b[1;33m:\u001b[0m\u001b[1;33m\u001b[0m\u001b[1;33m\u001b[0m\u001b[0m\n\u001b[1;32m--> 525\u001b[1;33m         \u001b[1;32mreturn\u001b[0m \u001b[0mself\u001b[0m\u001b[1;33m.\u001b[0m\u001b[0mapply\u001b[0m\u001b[1;33m(\u001b[0m\u001b[1;34m'fillna'\u001b[0m\u001b[1;33m,\u001b[0m \u001b[1;33m**\u001b[0m\u001b[0mkwargs\u001b[0m\u001b[1;33m)\u001b[0m\u001b[1;33m\u001b[0m\u001b[1;33m\u001b[0m\u001b[0m\n\u001b[0m\u001b[0;32m    526\u001b[0m \u001b[1;33m\u001b[0m\u001b[0m\n\u001b[0;32m    527\u001b[0m     \u001b[1;32mdef\u001b[0m \u001b[0mdowncast\u001b[0m\u001b[1;33m(\u001b[0m\u001b[0mself\u001b[0m\u001b[1;33m,\u001b[0m \u001b[1;33m**\u001b[0m\u001b[0mkwargs\u001b[0m\u001b[1;33m)\u001b[0m\u001b[1;33m:\u001b[0m\u001b[1;33m\u001b[0m\u001b[1;33m\u001b[0m\u001b[0m\n",
      "\u001b[1;32mC:\\ProgramData\\Anaconda3\\lib\\site-packages\\pandas\\core\\internals\\managers.py\u001b[0m in \u001b[0;36mapply\u001b[1;34m(self, f, axes, filter, do_integrity_check, consolidate, **kwargs)\u001b[0m\n\u001b[0;32m    400\u001b[0m         bm = self.__class__(result_blocks, axes or self.axes,\n\u001b[0;32m    401\u001b[0m                             do_integrity_check=do_integrity_check)\n\u001b[1;32m--> 402\u001b[1;33m         \u001b[0mbm\u001b[0m\u001b[1;33m.\u001b[0m\u001b[0m_consolidate_inplace\u001b[0m\u001b[1;33m(\u001b[0m\u001b[1;33m)\u001b[0m\u001b[1;33m\u001b[0m\u001b[1;33m\u001b[0m\u001b[0m\n\u001b[0m\u001b[0;32m    403\u001b[0m         \u001b[1;32mreturn\u001b[0m \u001b[0mbm\u001b[0m\u001b[1;33m\u001b[0m\u001b[1;33m\u001b[0m\u001b[0m\n\u001b[0;32m    404\u001b[0m \u001b[1;33m\u001b[0m\u001b[0m\n",
      "\u001b[1;32mC:\\ProgramData\\Anaconda3\\lib\\site-packages\\pandas\\core\\internals\\managers.py\u001b[0m in \u001b[0;36m_consolidate_inplace\u001b[1;34m(self)\u001b[0m\n\u001b[0;32m    927\u001b[0m     \u001b[1;32mdef\u001b[0m \u001b[0m_consolidate_inplace\u001b[0m\u001b[1;33m(\u001b[0m\u001b[0mself\u001b[0m\u001b[1;33m)\u001b[0m\u001b[1;33m:\u001b[0m\u001b[1;33m\u001b[0m\u001b[1;33m\u001b[0m\u001b[0m\n\u001b[0;32m    928\u001b[0m         \u001b[1;32mif\u001b[0m \u001b[1;32mnot\u001b[0m \u001b[0mself\u001b[0m\u001b[1;33m.\u001b[0m\u001b[0mis_consolidated\u001b[0m\u001b[1;33m(\u001b[0m\u001b[1;33m)\u001b[0m\u001b[1;33m:\u001b[0m\u001b[1;33m\u001b[0m\u001b[1;33m\u001b[0m\u001b[0m\n\u001b[1;32m--> 929\u001b[1;33m             \u001b[0mself\u001b[0m\u001b[1;33m.\u001b[0m\u001b[0mblocks\u001b[0m \u001b[1;33m=\u001b[0m \u001b[0mtuple\u001b[0m\u001b[1;33m(\u001b[0m\u001b[0m_consolidate\u001b[0m\u001b[1;33m(\u001b[0m\u001b[0mself\u001b[0m\u001b[1;33m.\u001b[0m\u001b[0mblocks\u001b[0m\u001b[1;33m)\u001b[0m\u001b[1;33m)\u001b[0m\u001b[1;33m\u001b[0m\u001b[1;33m\u001b[0m\u001b[0m\n\u001b[0m\u001b[0;32m    930\u001b[0m             \u001b[0mself\u001b[0m\u001b[1;33m.\u001b[0m\u001b[0m_is_consolidated\u001b[0m \u001b[1;33m=\u001b[0m \u001b[1;32mTrue\u001b[0m\u001b[1;33m\u001b[0m\u001b[1;33m\u001b[0m\u001b[0m\n\u001b[0;32m    931\u001b[0m             \u001b[0mself\u001b[0m\u001b[1;33m.\u001b[0m\u001b[0m_known_consolidated\u001b[0m \u001b[1;33m=\u001b[0m \u001b[1;32mTrue\u001b[0m\u001b[1;33m\u001b[0m\u001b[1;33m\u001b[0m\u001b[0m\n",
      "\u001b[1;32mC:\\ProgramData\\Anaconda3\\lib\\site-packages\\pandas\\core\\internals\\managers.py\u001b[0m in \u001b[0;36m_consolidate\u001b[1;34m(blocks)\u001b[0m\n\u001b[0;32m   1897\u001b[0m     \u001b[1;32mfor\u001b[0m \u001b[1;33m(\u001b[0m\u001b[0m_can_consolidate\u001b[0m\u001b[1;33m,\u001b[0m \u001b[0mdtype\u001b[0m\u001b[1;33m)\u001b[0m\u001b[1;33m,\u001b[0m \u001b[0mgroup_blocks\u001b[0m \u001b[1;32min\u001b[0m \u001b[0mgrouper\u001b[0m\u001b[1;33m:\u001b[0m\u001b[1;33m\u001b[0m\u001b[1;33m\u001b[0m\u001b[0m\n\u001b[0;32m   1898\u001b[0m         merged_blocks = _merge_blocks(list(group_blocks), dtype=dtype,\n\u001b[1;32m-> 1899\u001b[1;33m                                       _can_consolidate=_can_consolidate)\n\u001b[0m\u001b[0;32m   1900\u001b[0m         \u001b[0mnew_blocks\u001b[0m \u001b[1;33m=\u001b[0m \u001b[0m_extend_blocks\u001b[0m\u001b[1;33m(\u001b[0m\u001b[0mmerged_blocks\u001b[0m\u001b[1;33m,\u001b[0m \u001b[0mnew_blocks\u001b[0m\u001b[1;33m)\u001b[0m\u001b[1;33m\u001b[0m\u001b[1;33m\u001b[0m\u001b[0m\n\u001b[0;32m   1901\u001b[0m     \u001b[1;32mreturn\u001b[0m \u001b[0mnew_blocks\u001b[0m\u001b[1;33m\u001b[0m\u001b[1;33m\u001b[0m\u001b[0m\n",
      "\u001b[1;32mC:\\ProgramData\\Anaconda3\\lib\\site-packages\\pandas\\core\\internals\\blocks.py\u001b[0m in \u001b[0;36m_merge_blocks\u001b[1;34m(blocks, dtype, _can_consolidate)\u001b[0m\n\u001b[0;32m   3147\u001b[0m \u001b[1;33m\u001b[0m\u001b[0m\n\u001b[0;32m   3148\u001b[0m         \u001b[0margsort\u001b[0m \u001b[1;33m=\u001b[0m \u001b[0mnp\u001b[0m\u001b[1;33m.\u001b[0m\u001b[0margsort\u001b[0m\u001b[1;33m(\u001b[0m\u001b[0mnew_mgr_locs\u001b[0m\u001b[1;33m)\u001b[0m\u001b[1;33m\u001b[0m\u001b[1;33m\u001b[0m\u001b[0m\n\u001b[1;32m-> 3149\u001b[1;33m         \u001b[0mnew_values\u001b[0m \u001b[1;33m=\u001b[0m \u001b[0mnew_values\u001b[0m\u001b[1;33m[\u001b[0m\u001b[0margsort\u001b[0m\u001b[1;33m]\u001b[0m\u001b[1;33m\u001b[0m\u001b[1;33m\u001b[0m\u001b[0m\n\u001b[0m\u001b[0;32m   3150\u001b[0m         \u001b[0mnew_mgr_locs\u001b[0m \u001b[1;33m=\u001b[0m \u001b[0mnew_mgr_locs\u001b[0m\u001b[1;33m[\u001b[0m\u001b[0margsort\u001b[0m\u001b[1;33m]\u001b[0m\u001b[1;33m\u001b[0m\u001b[1;33m\u001b[0m\u001b[0m\n\u001b[0;32m   3151\u001b[0m \u001b[1;33m\u001b[0m\u001b[0m\n",
      "\u001b[1;31mMemoryError\u001b[0m: "
     ]
    }
   ],
   "source": [
    "for ventana_nro in range(1, CANT_TRIMESTRES + 1):\n",
    "    generar_features_faltantes(data, TRIMESTRES, ventana_nro)"
   ]
  },
  {
   "cell_type": "code",
   "execution_count": null,
   "metadata": {},
   "outputs": [],
   "source": [
    "TRIMESTRES[1].head()"
   ]
  },
  {
   "cell_type": "code",
   "execution_count": null,
   "metadata": {},
   "outputs": [],
   "source": [
    "TRIMESTRES[4].head()"
   ]
  },
  {
   "cell_type": "markdown",
   "metadata": {},
   "source": [
    "### Guardado"
   ]
  },
  {
   "cell_type": "code",
   "execution_count": 99,
   "metadata": {},
   "outputs": [],
   "source": [
    "for ventana_nro in range(1, CANT_TRIMESTRES ):\n",
    "    TRIMESTRES[ventana_nro].to_pickle(\"../data/features/ventana_{}_pageviews.pkl\".format(ventana_nro))\n",
    "\n",
    "TRIMESTRES[4].to_pickle(\"../data/features/predecir_pageviews.pkl\")"
   ]
  },
  {
   "cell_type": "markdown",
   "metadata": {},
   "source": [
    "---"
   ]
  }
 ],
 "metadata": {
  "kernelspec": {
   "display_name": "Python 3",
   "language": "python",
   "name": "python3"
  },
  "language_info": {
   "codemirror_mode": {
    "name": "ipython",
    "version": 3
   },
   "file_extension": ".py",
   "mimetype": "text/x-python",
   "name": "python",
   "nbconvert_exporter": "python",
   "pygments_lexer": "ipython3",
   "version": "3.6.8"
  }
 },
 "nbformat": 4,
 "nbformat_minor": 2
}
