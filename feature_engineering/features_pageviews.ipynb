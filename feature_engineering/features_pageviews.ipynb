{
 "cells": [
  {
   "cell_type": "code",
   "execution_count": 31,
   "metadata": {},
   "outputs": [],
   "source": [
    "import pandas as pd\n",
    "import numpy as np\n"
   ]
  },
  {
   "cell_type": "markdown",
   "metadata": {},
   "source": [
    "## Features engineering de pageviews"
   ]
  },
  {
   "cell_type": "markdown",
   "metadata": {},
   "source": [
    "### Carga de datos"
   ]
  },
  {
   "cell_type": "code",
   "execution_count": 32,
   "metadata": {},
   "outputs": [],
   "source": [
    "pageviews = pd.read_pickle(\"../data/pageviews_total_formateado.pkl\")"
   ]
  },
  {
   "cell_type": "markdown",
   "metadata": {},
   "source": [
    "---"
   ]
  },
  {
   "cell_type": "markdown",
   "metadata": {},
   "source": [
    "### Funciones auxiliares"
   ]
  },
  {
   "cell_type": "markdown",
   "metadata": {},
   "source": [
    "#### Creacion de ventanas iniciales"
   ]
  },
  {
   "cell_type": "code",
   "execution_count": 33,
   "metadata": {},
   "outputs": [],
   "source": [
    "def generar_dataframes_ventana(numero_ventana,dataframe):\n",
    "    \n",
    "    if numero_ventana == 4 :   #Para la ventana 4 se necesitan los 11 mil usuarios existentes\n",
    "        df = pd.read_csv(\"../data/users.csv\", dtype = {\"USER_ID\": \"category\"}, index_col = 0)\n",
    "    \n",
    "    else:    \n",
    "        condicion = dataframe[\"trimestre\"] == numero_ventana\n",
    "        df = dataframe[condicion][\"USER_ID\"].drop_duplicates().to_frame().set_index(\"USER_ID\").copy()\n",
    "    \n",
    "    return df.sort_index()\n",
    "    "
   ]
  },
  {
   "cell_type": "markdown",
   "metadata": {},
   "source": [
    "#### Generacion de features"
   ]
  },
  {
   "cell_type": "code",
   "execution_count": 34,
   "metadata": {},
   "outputs": [],
   "source": [
    "def feature_ya_generado(nombre_feature, trimestre):\n",
    "    \"\"\"Corrobora si un feature ya fue generado \"\"\"\n",
    "    \n",
    "    #Obtengo las columnas que genera ese feature\n",
    "    columnas = DATOS_FEATURES[nombre_feature][POS_COLUMNAS_DEL_FEATURE]\n",
    "    for columna in columnas:\n",
    "        if columna in FEATURES_YA_GENERADOS[trimestre]:\n",
    "            return True\n",
    "    return False"
   ]
  },
  {
   "cell_type": "code",
   "execution_count": 35,
   "metadata": {},
   "outputs": [],
   "source": [
    "def generar_feature_en_ventana(dataframe,trimestre, nombre_feature, destino):\n",
    "    \"\"\"Genera un feature en la ventana correspondiente, con los tipos de datos correspondientes\"\"\"\n",
    "    \n",
    "    #Calculo el feature\n",
    "    funcion_feature = FUNCIONES_FEATURES[nombre_feature]\n",
    "    dataframe = funcion_feature( dataframe[dataframe[\"trimestre\"] == trimestre] )\n",
    "    \n",
    "    #Uno los features nuevos con los viejos\n",
    "    dataframe = destino[trimestre].merge(dataframe, left_index = True, right_index= True, how = 'left')\n",
    "    \n",
    "    #Rello los nans, si es que los hubiera\n",
    "    dataframe = dar_formato_al_feature_nuevo(dataframe,nombre_feature)\n",
    "    \n",
    "    destino[trimestre] = dataframe"
   ]
  },
  {
   "cell_type": "code",
   "execution_count": 36,
   "metadata": {},
   "outputs": [],
   "source": [
    "def dar_formato_al_feature_nuevo(dataframe, nombre_feature):\n",
    "    \"\"\"Rellena los Nans de un dataframe con features nuevos\"\"\"\n",
    "    \n",
    "    \n",
    "    #Datos para rellenar los Nan\n",
    "    columnas = DATOS_FEATURES[nombre_feature][POS_COLUMNAS_DEL_FEATURE]\n",
    "    tipo_dato= DATOS_FEATURES[nombre_feature][POS_TIPO_DATO]\n",
    "    valor_nan = DATOS_FEATURES[nombre_feature][POS_DATO_NAN]\n",
    "    \n",
    "    dataframe.fillna(valor_nan, inplace = True)\n",
    "    dataframe[columnas] = dataframe[columnas].astype(tipo_dato)\n",
    "    \n",
    "    return dataframe\n",
    "    "
   ]
  },
  {
   "cell_type": "code",
   "execution_count": 37,
   "metadata": {},
   "outputs": [],
   "source": [
    "def generar_features_faltantes(dataframe,destino,trimestre):\n",
    "    \"\"\"\n",
    "    Funcion para generar los features faltantes para un trimestre, \n",
    "    evita la repeticion de calculo de features si estos ya se encuentran generados.\n",
    "    \n",
    "    dataframe: Dataframe a partir de cual se calcularan los features.\n",
    "    destino: Diccionario de ventanas para los que calcular los features.\n",
    "    trimestre: Numero de ventana a partir de la cual se calculan los features.\n",
    "    \"\"\"\n",
    "    \n",
    "    for nombre_feature in FUNCIONES_FEATURES:    \n",
    "        if feature_ya_generado(nombre_feature, trimestre):\n",
    "            continue\n",
    "\n",
    "        #Si no fueron generados, los genero y actualizo el listado:   \n",
    "        generar_feature_en_ventana(dataframe,trimestre, nombre_feature, destino)   \n",
    "        \n",
    "        #Agrego las columnas nuevas al diccionario\n",
    "        columnas_generadas = DATOS_FEATURES[nombre_feature][POS_COLUMNAS_DEL_FEATURE]\n",
    "        FEATURES_YA_GENERADOS[trimestre].extend(columnas_generadas)"
   ]
  },
  {
   "cell_type": "markdown",
   "metadata": {},
   "source": [
    "----"
   ]
  },
  {
   "cell_type": "markdown",
   "metadata": {},
   "source": [
    "----"
   ]
  },
  {
   "cell_type": "markdown",
   "metadata": {},
   "source": [
    "### Cargo features generados hasta el momento\n"
   ]
  },
  {
   "cell_type": "code",
   "execution_count": 38,
   "metadata": {},
   "outputs": [],
   "source": [
    "# Trimestre 2 - 3 - 4 para los que tengo datos anteriores\n",
    "CANT_TRIMESTRES = 4"
   ]
  },
  {
   "cell_type": "code",
   "execution_count": 39,
   "metadata": {},
   "outputs": [],
   "source": [
    "TRIMESTRES = {}\n",
    "trim_no_encontrados =[]"
   ]
  },
  {
   "cell_type": "code",
   "execution_count": 45,
   "metadata": {},
   "outputs": [
    {
     "name": "stdout",
     "output_type": "stream",
     "text": [
      "Cargando features\n"
     ]
    }
   ],
   "source": [
    "print(\"Cargando features\")\n",
    "for ventana_nro in range(1,CANT_TRIMESTRES) : #Trimestres del 1 al 3\n",
    "    try:\n",
    "        TRIMESTRES[ventana_nro] = pd.read_pickle(\"../data/features/ventana_{}_pageviews.pkl\".format(ventana_nro))\n",
    "        \n",
    "    except FileNotFoundError:\n",
    "        print(\"No se encontraron los features, se generarán los dataframe requeridos\")\n",
    "        trim_no_encontrados.append(ventana_nro)\n",
    "    continue\n",
    "    \n",
    "for ventana_nro in trim_no_encontrados:    \n",
    "    TRIMESTRES[ventana_nro] = generar_dataframes_ventana(ventana_nro,pageviews)"
   ]
  },
  {
   "cell_type": "markdown",
   "metadata": {},
   "source": [
    "### Set para predecir"
   ]
  },
  {
   "cell_type": "code",
   "execution_count": 46,
   "metadata": {},
   "outputs": [
    {
     "name": "stdout",
     "output_type": "stream",
     "text": [
      "Cargando features para predecir\n"
     ]
    }
   ],
   "source": [
    "try:\n",
    "    print(\"Cargando features para predecir\")\n",
    "    TRIMESTRES[4] = pd.read_pickle(\"../data/features/predecir_pageviews.pkl\")\n",
    "except FileNotFoundError:\n",
    "    print(\"No se encontro el feature deseado, se generara el dataframe requerido\")\n",
    "    TRIMESTRES[4] = generar_dataframes_ventana(4,pageviews)"
   ]
  },
  {
   "cell_type": "markdown",
   "metadata": {},
   "source": [
    "---"
   ]
  },
  {
   "cell_type": "markdown",
   "metadata": {},
   "source": [
    "### Diccionario de features"
   ]
  },
  {
   "cell_type": "code",
   "execution_count": 12,
   "metadata": {},
   "outputs": [],
   "source": [
    "#Posicion dentro del diccionario de features que ocupa la lista de columnas generadas por el mismo\n",
    "POS_COLUMNAS_DEL_FEATURE = 0\n",
    "POS_TIPO_DATO = 1\n",
    "POS_DATO_NAN = 2"
   ]
  },
  {
   "cell_type": "code",
   "execution_count": 13,
   "metadata": {},
   "outputs": [],
   "source": [
    "# Clave = nombre_feature : Valor = funcion\n",
    "FUNCIONES_FEATURES = {}\n",
    "# Clave = nombre_feature : Valor = (columnas,tipo_dato,valor_nan)\n",
    "DATOS_FEATURES = {}"
   ]
  },
  {
   "cell_type": "code",
   "execution_count": 14,
   "metadata": {},
   "outputs": [],
   "source": [
    "FEATURES_YA_GENERADOS = {}\n",
    "\n",
    "for ventana_nro in range (1, CANT_TRIMESTRES + 1):\n",
    "    \n",
    "    FEATURES_YA_GENERADOS[ventana_nro] = list(TRIMESTRES[ventana_nro].columns.values)"
   ]
  },
  {
   "cell_type": "markdown",
   "metadata": {},
   "source": [
    "---"
   ]
  },
  {
   "cell_type": "markdown",
   "metadata": {},
   "source": [
    "\n",
    "---"
   ]
  },
  {
   "cell_type": "markdown",
   "metadata": {},
   "source": [
    "## Creación de features"
   ]
  },
  {
   "cell_type": "markdown",
   "metadata": {},
   "source": [
    "---"
   ]
  },
  {
   "cell_type": "markdown",
   "metadata": {},
   "source": [
    "#### Cantidad de paginas vista por un usuario en todo el trimestre"
   ]
  },
  {
   "cell_type": "code",
   "execution_count": 15,
   "metadata": {},
   "outputs": [],
   "source": [
    "nombre = \"cantidad paginas vistas\""
   ]
  },
  {
   "cell_type": "code",
   "execution_count": 16,
   "metadata": {},
   "outputs": [],
   "source": [
    "def cantidad_de_paginas_vistas(dataframe):\n",
    "    \n",
    "    feature = dataframe.groupby(\"USER_ID\").agg({\"FEC_EVENT\":\"count\"})\\\n",
    "                        .rename(columns = {\"FEC_EVENT\":\"cantidad_paginas_vistas_trimestre\"}) \n",
    "    return feature"
   ]
  },
  {
   "cell_type": "code",
   "execution_count": 17,
   "metadata": {},
   "outputs": [],
   "source": [
    "FUNCIONES_FEATURES[nombre] = cantidad_de_paginas_vistas"
   ]
  },
  {
   "cell_type": "code",
   "execution_count": 18,
   "metadata": {},
   "outputs": [],
   "source": [
    "columnas_generadas = [\"cantidad_paginas_vistas_trimestre\"] #lista\n",
    "tipo_dato = \"int64\"\n",
    "dato_nan = 0\n",
    "\n",
    "DATOS_FEATURES[nombre] = (columnas_generadas, tipo_dato, dato_nan)"
   ]
  },
  {
   "cell_type": "markdown",
   "metadata": {},
   "source": [
    "---"
   ]
  },
  {
   "cell_type": "markdown",
   "metadata": {},
   "source": [
    "#### Cantidad de paginas vista dentro de cada mes dentro del trimestre"
   ]
  },
  {
   "cell_type": "code",
   "execution_count": 19,
   "metadata": {},
   "outputs": [],
   "source": [
    "nombre = \"cantidad paginas vistas mes\""
   ]
  },
  {
   "cell_type": "code",
   "execution_count": 20,
   "metadata": {},
   "outputs": [],
   "source": [
    "def cantidad_paginas_vistas_por_mes(dataframe):\n",
    "    \n",
    "    vistas_por_mes = dataframe.groupby([\"USER_ID\",\"mes\"]).agg({\"trimestre\":\"count\"})\n",
    "    vistas_por_mes.reset_index(inplace = True)\n",
    "    vistas_por_mes = vistas_por_mes.pivot(index = \"USER_ID\", columns = \"mes\", values = \"trimestre\")\n",
    "    \n",
    "    vistas_por_mes.columns = [\"cant_paginas_vistas_en_mes_{}\".format(mes) for mes in range(1,4)]\n",
    "\n",
    "    return vistas_por_mes"
   ]
  },
  {
   "cell_type": "code",
   "execution_count": 21,
   "metadata": {},
   "outputs": [],
   "source": [
    "FUNCIONES_FEATURES[nombre] = cantidad_paginas_vistas_por_mes"
   ]
  },
  {
   "cell_type": "code",
   "execution_count": 22,
   "metadata": {},
   "outputs": [],
   "source": [
    "columnas_generadas = [\"cant_paginas_vistas_en_mes_{}\".format(mes) for mes in range(1,4)]\n",
    "tipo_dato = \"int64\"\n",
    "dato_nan = 0\n",
    "\n",
    "DATOS_FEATURES[nombre] = (columnas_generadas,tipo_dato,dato_nan) "
   ]
  },
  {
   "cell_type": "markdown",
   "metadata": {},
   "source": [
    "---"
   ]
  },
  {
   "cell_type": "markdown",
   "metadata": {},
   "source": [
    "#### Page mas vista cada mes"
   ]
  },
  {
   "cell_type": "code",
   "execution_count": 23,
   "metadata": {},
   "outputs": [],
   "source": [
    "nombre = \"page mas vista mes\""
   ]
  },
  {
   "cell_type": "code",
   "execution_count": 24,
   "metadata": {},
   "outputs": [],
   "source": [
    "def page_mas_vista_cada_mes(dataframe):\n",
    "    \n",
    "    feature = dataframe.groupby(['USER_ID','mes','PAGE']).agg({'trimestre':'count'})\n",
    "    index = feature.groupby(['USER_ID','mes'])['trimestre'].transform(max) == feature['trimestre']\n",
    "    feature = feature[index]\n",
    "    \n",
    "    #Elimino duplicados\n",
    "    feature.reset_index(inplace=True)\n",
    "    feature = feature.drop_duplicates(subset=['USER_ID','mes'])  \n",
    "    \n",
    "    #Cambio la forma del dataframe -> indice = USER_ID, columnas = \"meses (1,2,3), valores = \"pagina\"\n",
    "    feature = feature.pivot(index = \"USER_ID\",columns = \"mes\", values = \"PAGE\")\n",
    "    \n",
    "    #lleno los meses vacios con -1\n",
    "    feature.columns = [x for x in range(1,4)]\n",
    "    for mes in range(1,4):\n",
    "        try:             #si no existe el mes, lo creo\n",
    "            feature[mes] = feature[mes].cat.add_categories([-1]).fillna(-1)   #agrego la categoria -1\n",
    "        except KeyError:\n",
    "            feature.insert(mes,mes,-1)\n",
    "\n",
    "                \n",
    "    feature.columns = [\"page_mas_vista_en_mes_{}\".format(mes) for mes in range(1,4)]\n",
    "    \n",
    "    return feature"
   ]
  },
  {
   "cell_type": "code",
   "execution_count": 25,
   "metadata": {},
   "outputs": [],
   "source": [
    "FUNCIONES_FEATURES[nombre] = page_mas_vista_cada_mes"
   ]
  },
  {
   "cell_type": "code",
   "execution_count": 26,
   "metadata": {},
   "outputs": [],
   "source": [
    "columnas_generadas = [\"page_mas_vista_en_mes_{}\".format(mes) for mes in range(1,4)]\n",
    "tipo_dato = \"category\"\n",
    "dato_nan = -1\n",
    "\n",
    "DATOS_FEATURES[nombre]=(columnas_generadas, tipo_dato, dato_nan)"
   ]
  },
  {
   "cell_type": "markdown",
   "metadata": {},
   "source": [
    "---"
   ]
  },
  {
   "cell_type": "markdown",
   "metadata": {},
   "source": [
    "## Generacion de features"
   ]
  },
  {
   "cell_type": "code",
   "execution_count": 27,
   "metadata": {},
   "outputs": [],
   "source": [
    "for ventana_nro in range(1, CANT_TRIMESTRES + 1):\n",
    "    generar_features_faltantes(pageviews, TRIMESTRES, ventana_nro)"
   ]
  },
  {
   "cell_type": "code",
   "execution_count": 42,
   "metadata": {},
   "outputs": [
    {
     "data": {
      "text/html": [
       "<div>\n",
       "<style scoped>\n",
       "    .dataframe tbody tr th:only-of-type {\n",
       "        vertical-align: middle;\n",
       "    }\n",
       "\n",
       "    .dataframe tbody tr th {\n",
       "        vertical-align: top;\n",
       "    }\n",
       "\n",
       "    .dataframe thead th {\n",
       "        text-align: right;\n",
       "    }\n",
       "</style>\n",
       "<table border=\"1\" class=\"dataframe\">\n",
       "  <thead>\n",
       "    <tr style=\"text-align: right;\">\n",
       "      <th></th>\n",
       "      <th>cantidad_paginas_vistas_trimestre</th>\n",
       "      <th>cant_paginas_vistas_en_mes_1</th>\n",
       "      <th>cant_paginas_vistas_en_mes_2</th>\n",
       "      <th>cant_paginas_vistas_en_mes_3</th>\n",
       "      <th>page_mas_vista_en_mes_1</th>\n",
       "      <th>page_mas_vista_en_mes_2</th>\n",
       "      <th>page_mas_vista_en_mes_3</th>\n",
       "    </tr>\n",
       "    <tr>\n",
       "      <th>USER_ID</th>\n",
       "      <th></th>\n",
       "      <th></th>\n",
       "      <th></th>\n",
       "      <th></th>\n",
       "      <th></th>\n",
       "      <th></th>\n",
       "      <th></th>\n",
       "    </tr>\n",
       "  </thead>\n",
       "  <tbody>\n",
       "    <tr>\n",
       "      <th>0</th>\n",
       "      <td>1841</td>\n",
       "      <td>710</td>\n",
       "      <td>375</td>\n",
       "      <td>756</td>\n",
       "      <td>10</td>\n",
       "      <td>10</td>\n",
       "      <td>10</td>\n",
       "    </tr>\n",
       "    <tr>\n",
       "      <th>1</th>\n",
       "      <td>623</td>\n",
       "      <td>250</td>\n",
       "      <td>192</td>\n",
       "      <td>181</td>\n",
       "      <td>10</td>\n",
       "      <td>2</td>\n",
       "      <td>10</td>\n",
       "    </tr>\n",
       "    <tr>\n",
       "      <th>10</th>\n",
       "      <td>174</td>\n",
       "      <td>74</td>\n",
       "      <td>77</td>\n",
       "      <td>23</td>\n",
       "      <td>10</td>\n",
       "      <td>10</td>\n",
       "      <td>1</td>\n",
       "    </tr>\n",
       "    <tr>\n",
       "      <th>100</th>\n",
       "      <td>904</td>\n",
       "      <td>375</td>\n",
       "      <td>206</td>\n",
       "      <td>323</td>\n",
       "      <td>2</td>\n",
       "      <td>10</td>\n",
       "      <td>10</td>\n",
       "    </tr>\n",
       "    <tr>\n",
       "      <th>1000</th>\n",
       "      <td>302</td>\n",
       "      <td>0</td>\n",
       "      <td>236</td>\n",
       "      <td>66</td>\n",
       "      <td>-1</td>\n",
       "      <td>10</td>\n",
       "      <td>3</td>\n",
       "    </tr>\n",
       "  </tbody>\n",
       "</table>\n",
       "</div>"
      ],
      "text/plain": [
       "         cantidad_paginas_vistas_trimestre  cant_paginas_vistas_en_mes_1  \\\n",
       "USER_ID                                                                    \n",
       "0                                     1841                           710   \n",
       "1                                      623                           250   \n",
       "10                                     174                            74   \n",
       "100                                    904                           375   \n",
       "1000                                   302                             0   \n",
       "\n",
       "         cant_paginas_vistas_en_mes_2  cant_paginas_vistas_en_mes_3  \\\n",
       "USER_ID                                                               \n",
       "0                                 375                           756   \n",
       "1                                 192                           181   \n",
       "10                                 77                            23   \n",
       "100                               206                           323   \n",
       "1000                              236                            66   \n",
       "\n",
       "         page_mas_vista_en_mes_1  page_mas_vista_en_mes_2  \\\n",
       "USER_ID                                                     \n",
       "0                             10                       10   \n",
       "1                             10                        2   \n",
       "10                            10                       10   \n",
       "100                            2                       10   \n",
       "1000                          -1                       10   \n",
       "\n",
       "         page_mas_vista_en_mes_3  \n",
       "USER_ID                           \n",
       "0                             10  \n",
       "1                             10  \n",
       "10                             1  \n",
       "100                           10  \n",
       "1000                           3  "
      ]
     },
     "execution_count": 42,
     "metadata": {},
     "output_type": "execute_result"
    }
   ],
   "source": [
    "TRIMESTRES[1].head()"
   ]
  },
  {
   "cell_type": "code",
   "execution_count": 43,
   "metadata": {},
   "outputs": [
    {
     "data": {
      "text/html": [
       "<div>\n",
       "<style scoped>\n",
       "    .dataframe tbody tr th:only-of-type {\n",
       "        vertical-align: middle;\n",
       "    }\n",
       "\n",
       "    .dataframe tbody tr th {\n",
       "        vertical-align: top;\n",
       "    }\n",
       "\n",
       "    .dataframe thead th {\n",
       "        text-align: right;\n",
       "    }\n",
       "</style>\n",
       "<table border=\"1\" class=\"dataframe\">\n",
       "  <thead>\n",
       "    <tr style=\"text-align: right;\">\n",
       "      <th></th>\n",
       "      <th>cantidad_paginas_vistas_trimestre</th>\n",
       "      <th>cant_paginas_vistas_en_mes_1</th>\n",
       "      <th>cant_paginas_vistas_en_mes_2</th>\n",
       "      <th>cant_paginas_vistas_en_mes_3</th>\n",
       "      <th>page_mas_vista_en_mes_1</th>\n",
       "      <th>page_mas_vista_en_mes_2</th>\n",
       "      <th>page_mas_vista_en_mes_3</th>\n",
       "    </tr>\n",
       "    <tr>\n",
       "      <th>USER_ID</th>\n",
       "      <th></th>\n",
       "      <th></th>\n",
       "      <th></th>\n",
       "      <th></th>\n",
       "      <th></th>\n",
       "      <th></th>\n",
       "      <th></th>\n",
       "    </tr>\n",
       "  </thead>\n",
       "  <tbody>\n",
       "    <tr>\n",
       "      <th>0</th>\n",
       "      <td>1519</td>\n",
       "      <td>527</td>\n",
       "      <td>490</td>\n",
       "      <td>502</td>\n",
       "      <td>2</td>\n",
       "      <td>2</td>\n",
       "      <td>2</td>\n",
       "    </tr>\n",
       "    <tr>\n",
       "      <th>1</th>\n",
       "      <td>477</td>\n",
       "      <td>138</td>\n",
       "      <td>140</td>\n",
       "      <td>199</td>\n",
       "      <td>2</td>\n",
       "      <td>2</td>\n",
       "      <td>2</td>\n",
       "    </tr>\n",
       "    <tr>\n",
       "      <th>10</th>\n",
       "      <td>21</td>\n",
       "      <td>12</td>\n",
       "      <td>2</td>\n",
       "      <td>7</td>\n",
       "      <td>2</td>\n",
       "      <td>2</td>\n",
       "      <td>2</td>\n",
       "    </tr>\n",
       "    <tr>\n",
       "      <th>100</th>\n",
       "      <td>1969</td>\n",
       "      <td>498</td>\n",
       "      <td>731</td>\n",
       "      <td>740</td>\n",
       "      <td>3</td>\n",
       "      <td>2</td>\n",
       "      <td>2</td>\n",
       "    </tr>\n",
       "    <tr>\n",
       "      <th>1000</th>\n",
       "      <td>645</td>\n",
       "      <td>215</td>\n",
       "      <td>243</td>\n",
       "      <td>187</td>\n",
       "      <td>2</td>\n",
       "      <td>2</td>\n",
       "      <td>3</td>\n",
       "    </tr>\n",
       "  </tbody>\n",
       "</table>\n",
       "</div>"
      ],
      "text/plain": [
       "         cantidad_paginas_vistas_trimestre  cant_paginas_vistas_en_mes_1  \\\n",
       "USER_ID                                                                    \n",
       "0                                     1519                           527   \n",
       "1                                      477                           138   \n",
       "10                                      21                            12   \n",
       "100                                   1969                           498   \n",
       "1000                                   645                           215   \n",
       "\n",
       "         cant_paginas_vistas_en_mes_2  cant_paginas_vistas_en_mes_3  \\\n",
       "USER_ID                                                               \n",
       "0                                 490                           502   \n",
       "1                                 140                           199   \n",
       "10                                  2                             7   \n",
       "100                               731                           740   \n",
       "1000                              243                           187   \n",
       "\n",
       "         page_mas_vista_en_mes_1  page_mas_vista_en_mes_2  \\\n",
       "USER_ID                                                     \n",
       "0                              2                        2   \n",
       "1                              2                        2   \n",
       "10                             2                        2   \n",
       "100                            3                        2   \n",
       "1000                           2                        2   \n",
       "\n",
       "         page_mas_vista_en_mes_3  \n",
       "USER_ID                           \n",
       "0                              2  \n",
       "1                              2  \n",
       "10                             2  \n",
       "100                            2  \n",
       "1000                           3  "
      ]
     },
     "execution_count": 43,
     "metadata": {},
     "output_type": "execute_result"
    }
   ],
   "source": [
    "TRIMESTRES[4].head()"
   ]
  },
  {
   "cell_type": "markdown",
   "metadata": {},
   "source": [
    "### Guardado"
   ]
  },
  {
   "cell_type": "code",
   "execution_count": 44,
   "metadata": {},
   "outputs": [],
   "source": [
    "for ventana_nro in range(1, CANT_TRIMESTRES ):\n",
    "    TRIMESTRES[ventana_nro].to_pickle(\"../data/features/ventana_{}_pageviews.pkl\".format(ventana_nro))\n",
    "\n",
    "TRIMESTRES[4].to_pickle(\"../data/features/predecir_pageviews.pkl\")"
   ]
  },
  {
   "cell_type": "markdown",
   "metadata": {},
   "source": [
    "---"
   ]
  }
 ],
 "metadata": {
  "kernelspec": {
   "display_name": "Python 3",
   "language": "python",
   "name": "python3"
  },
  "language_info": {
   "codemirror_mode": {
    "name": "ipython",
    "version": 3
   },
   "file_extension": ".py",
   "mimetype": "text/x-python",
   "name": "python",
   "nbconvert_exporter": "python",
   "pygments_lexer": "ipython3",
   "version": "3.6.8"
  }
 },
 "nbformat": 4,
 "nbformat_minor": 2
}
