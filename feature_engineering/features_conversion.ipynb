{
 "cells": [
  {
   "cell_type": "code",
   "execution_count": 1,
   "metadata": {},
   "outputs": [],
   "source": [
    "import pandas as pd\n",
    "import numpy as np"
   ]
  },
  {
   "cell_type": "markdown",
   "metadata": {},
   "source": [
    "## Features engineering de conversion"
   ]
  },
  {
   "cell_type": "markdown",
   "metadata": {},
   "source": [
    "### Carga de datos"
   ]
  },
  {
   "cell_type": "code",
   "execution_count": 2,
   "metadata": {},
   "outputs": [],
   "source": [
    "data = pd.read_pickle(\"../data/conversiones.pkl\")"
   ]
  },
  {
   "cell_type": "markdown",
   "metadata": {},
   "source": [
    "---"
   ]
  },
  {
   "cell_type": "markdown",
   "metadata": {},
   "source": [
    "### Cargo features generados hasta el momento\n"
   ]
  },
  {
   "cell_type": "code",
   "execution_count": 3,
   "metadata": {},
   "outputs": [],
   "source": [
    "# Trimestre 2 - 3 - 4 para los que tengo datos anteriores\n",
    "CANT_TRIMESTRES = 4"
   ]
  },
  {
   "cell_type": "code",
   "execution_count": 4,
   "metadata": {},
   "outputs": [],
   "source": [
    "TRIMESTRES = {}\n",
    "trim_no_encontrados =[]"
   ]
  },
  {
   "cell_type": "code",
   "execution_count": 5,
   "metadata": {},
   "outputs": [],
   "source": [
    "def generar_dataframes_ventana(numero_ventana,dataframe):\n",
    "    \n",
    "    if numero_ventana == 4 :   #Para la ventana 4 se necesitan los 11 mil usuarios existentes\n",
    "        df = pd.read_pickle(\"../data/users.pkl\")\n",
    "        df.set_index(\"USER_ID\",inplace = True)\n",
    "    \n",
    "    else:    \n",
    "        condicion = dataframe[\"trimestre\"] == numero_ventana\n",
    "        df = dataframe[condicion][\"USER_ID\"].drop_duplicates().to_frame().set_index(\"USER_ID\").copy()\n",
    "\n",
    "    return df.sort_index()\n",
    "    "
   ]
  },
  {
   "cell_type": "code",
   "execution_count": 6,
   "metadata": {},
   "outputs": [
    {
     "name": "stdout",
     "output_type": "stream",
     "text": [
      "Cargando features\n"
     ]
    }
   ],
   "source": [
    "print(\"Cargando features\")\n",
    "for ventana_nro in range(1,CANT_TRIMESTRES) : #Trimestres del 1 al 3\n",
    "    try:\n",
    "        TRIMESTRES[ventana_nro] = pd.read_pickle(\"../data/features/ventana_{}_conversion.pkl\".format(ventana_nro))\n",
    "        \n",
    "    except FileNotFoundError:\n",
    "        print(\"No se encontraron los features, se generarán los dataframe requeridos\")\n",
    "        trim_no_encontrados.append(ventana_nro)\n",
    "    continue\n",
    "    \n",
    "for ventana_nro in trim_no_encontrados:    \n",
    "    TRIMESTRES[ventana_nro] = generar_dataframes_ventana(ventana_nro,data)"
   ]
  },
  {
   "cell_type": "markdown",
   "metadata": {},
   "source": [
    "### Set para predecir"
   ]
  },
  {
   "cell_type": "code",
   "execution_count": 7,
   "metadata": {},
   "outputs": [
    {
     "name": "stdout",
     "output_type": "stream",
     "text": [
      "Cargando features para predecir\n"
     ]
    }
   ],
   "source": [
    "try:\n",
    "    print(\"Cargando features para predecir\")\n",
    "    TRIMESTRES[4] = pd.read_pickle(\"../data/features/predecir_conversion.pkl\")\n",
    "except FileNotFoundError:\n",
    "    print(\"No se encontro el feature deseado, se generara el dataframe requerido\")\n",
    "    TRIMESTRES[4] = generar_dataframes_ventana(4,data)"
   ]
  },
  {
   "cell_type": "markdown",
   "metadata": {},
   "source": [
    "---"
   ]
  },
  {
   "cell_type": "markdown",
   "metadata": {},
   "source": [
    "### Diccionario de features"
   ]
  },
  {
   "cell_type": "code",
   "execution_count": 8,
   "metadata": {},
   "outputs": [],
   "source": [
    "#Posicion dentro del diccionario de features que ocupa la lista de columnas generadas por el mismo\n",
    "POS_COLUMNAS_DEL_FEATURE = 0\n",
    "POS_TIPO_DATO = 1\n",
    "POS_DATO_NAN = 2"
   ]
  },
  {
   "cell_type": "code",
   "execution_count": 9,
   "metadata": {},
   "outputs": [],
   "source": [
    "# Clave = nombre_feature : Valor = funcion\n",
    "FUNCIONES_FEATURES = {}\n",
    "# Clave = nombre_feature : Valor = (columnas,tipo_dato,valor_nan)\n",
    "DATOS_FEATURES = {}"
   ]
  },
  {
   "cell_type": "code",
   "execution_count": 10,
   "metadata": {},
   "outputs": [],
   "source": [
    "FEATURES_YA_GENERADOS = {}\n",
    "\n",
    "for ventana_nro in range (1, CANT_TRIMESTRES + 1):\n",
    "    \n",
    "    FEATURES_YA_GENERADOS[ventana_nro] = list(TRIMESTRES[ventana_nro].columns.values)"
   ]
  },
  {
   "cell_type": "markdown",
   "metadata": {},
   "source": [
    "---"
   ]
  },
  {
   "cell_type": "markdown",
   "metadata": {},
   "source": [
    "\n",
    "---"
   ]
  },
  {
   "cell_type": "markdown",
   "metadata": {},
   "source": [
    "## Creación de features"
   ]
  },
  {
   "cell_type": "markdown",
   "metadata": {},
   "source": [
    "#### Vistazo del dataset: __Conversiones__"
   ]
  },
  {
   "cell_type": "code",
   "execution_count": 11,
   "metadata": {},
   "outputs": [
    {
     "data": {
      "text/html": [
       "<div>\n",
       "<style scoped>\n",
       "    .dataframe tbody tr th:only-of-type {\n",
       "        vertical-align: middle;\n",
       "    }\n",
       "\n",
       "    .dataframe tbody tr th {\n",
       "        vertical-align: top;\n",
       "    }\n",
       "\n",
       "    .dataframe thead th {\n",
       "        text-align: right;\n",
       "    }\n",
       "</style>\n",
       "<table border=\"1\" class=\"dataframe\">\n",
       "  <thead>\n",
       "    <tr style=\"text-align: right;\">\n",
       "      <th></th>\n",
       "      <th>mes</th>\n",
       "      <th>anio</th>\n",
       "      <th>USER_ID</th>\n",
       "      <th>trimestre</th>\n",
       "    </tr>\n",
       "  </thead>\n",
       "  <tbody>\n",
       "    <tr>\n",
       "      <th>0</th>\n",
       "      <td>1</td>\n",
       "      <td>2018</td>\n",
       "      <td>2483</td>\n",
       "      <td>1</td>\n",
       "    </tr>\n",
       "    <tr>\n",
       "      <th>1</th>\n",
       "      <td>1</td>\n",
       "      <td>2018</td>\n",
       "      <td>7088</td>\n",
       "      <td>1</td>\n",
       "    </tr>\n",
       "    <tr>\n",
       "      <th>2</th>\n",
       "      <td>1</td>\n",
       "      <td>2018</td>\n",
       "      <td>1787</td>\n",
       "      <td>1</td>\n",
       "    </tr>\n",
       "    <tr>\n",
       "      <th>3</th>\n",
       "      <td>1</td>\n",
       "      <td>2018</td>\n",
       "      <td>2085</td>\n",
       "      <td>1</td>\n",
       "    </tr>\n",
       "    <tr>\n",
       "      <th>4</th>\n",
       "      <td>1</td>\n",
       "      <td>2018</td>\n",
       "      <td>8270</td>\n",
       "      <td>1</td>\n",
       "    </tr>\n",
       "  </tbody>\n",
       "</table>\n",
       "</div>"
      ],
      "text/plain": [
       "   mes  anio USER_ID  trimestre\n",
       "0    1  2018    2483          1\n",
       "1    1  2018    7088          1\n",
       "2    1  2018    1787          1\n",
       "3    1  2018    2085          1\n",
       "4    1  2018    8270          1"
      ]
     },
     "execution_count": 11,
     "metadata": {},
     "output_type": "execute_result"
    }
   ],
   "source": [
    "data.head()"
   ]
  },
  {
   "cell_type": "markdown",
   "metadata": {},
   "source": [
    "---"
   ]
  },
  {
   "cell_type": "markdown",
   "metadata": {},
   "source": [
    "### Conviritio en trimestre"
   ]
  },
  {
   "cell_type": "code",
   "execution_count": 12,
   "metadata": {},
   "outputs": [],
   "source": [
    "nombre = \"convirtio en trimestre\""
   ]
  },
  {
   "cell_type": "code",
   "execution_count": 13,
   "metadata": {},
   "outputs": [],
   "source": [
    "def conversiones_en_trimestre(dataframe):\n",
    "    \"\"\" Para cada columna generada:\n",
    "            0-> no convirtio ese trimestre\n",
    "            1-> convirtio ese trimestre\n",
    "    \"\"\"\n",
    "    \n",
    "    conversiones_trimestre = dataframe.groupby([\"USER_ID\",\"trimestre\"]).agg({\"anio\":\"nunique\"})  \n",
    "    \n",
    "    conversiones_trimestre.reset_index(inplace = True)\n",
    "    \n",
    "    conversiones_trimestre = conversiones_trimestre.pivot(index = \"USER_ID\", columns = \"trimestre\", values = \"anio\")\n",
    "    conversiones_trimestre.columns = [\"convirtio_en_trimestre_actual\"]\n",
    "    \n",
    "\n",
    "\n",
    "    return conversiones_trimestre"
   ]
  },
  {
   "cell_type": "code",
   "execution_count": 14,
   "metadata": {},
   "outputs": [],
   "source": [
    "FUNCIONES_FEATURES[nombre] = conversiones_en_trimestre"
   ]
  },
  {
   "cell_type": "code",
   "execution_count": 15,
   "metadata": {},
   "outputs": [],
   "source": [
    "columnas_generadas = [\"convirtio_en_trimestre_actual\"]\n",
    "tipo_dato = \"int8\"\n",
    "dato_nan = 0\n",
    "\n",
    "DATOS_FEATURES[nombre] = (columnas_generadas,tipo_dato,dato_nan) "
   ]
  },
  {
   "cell_type": "code",
   "execution_count": null,
   "metadata": {},
   "outputs": [],
   "source": []
  },
  {
   "cell_type": "markdown",
   "metadata": {},
   "source": [
    "#### Conversiones a traves de los meses"
   ]
  },
  {
   "cell_type": "code",
   "execution_count": 16,
   "metadata": {},
   "outputs": [],
   "source": [
    "nombre = \"conversiones en los meses\""
   ]
  },
  {
   "cell_type": "code",
   "execution_count": 17,
   "metadata": {},
   "outputs": [],
   "source": [
    "def conversiones_en_meses(dataframe):\n",
    "    \"\"\" Para cada columna generada:\n",
    "            0-> no convirtio ese mes\n",
    "            1-> convirtio ese mes\n",
    "    \"\"\"\n",
    "    \n",
    "    conversiones_meses = dataframe.groupby([\"USER_ID\",\"mes\"]).agg({\"trimestre\":\"nunique\"})\n",
    "    conversiones_meses.reset_index(inplace = True)\n",
    "    conversiones_meses = conversiones_meses.pivot(index = \"USER_ID\", columns = \"mes\", values = \"trimestre\")\n",
    "    \n",
    "     #lleno los meses vacios con 0\n",
    "    conversiones_meses.columns = [x for x in range(1,4)]\n",
    "    for mes in range(1,4):\n",
    "        try:             #si no existe el mes, lo creo\n",
    "            conversiones_meses[mes].fillna(0) \n",
    "        except KeyError:\n",
    "            conversiones_meses.insert(mes,mes,0)\n",
    "\n",
    "    \n",
    "    conversiones_meses.columns = [\"convirtio_en_mes_{}\".format(mes) for mes in range(1,4)]\n",
    "\n",
    "    return conversiones_meses"
   ]
  },
  {
   "cell_type": "code",
   "execution_count": 18,
   "metadata": {},
   "outputs": [],
   "source": [
    "FUNCIONES_FEATURES[nombre] = conversiones_en_meses"
   ]
  },
  {
   "cell_type": "code",
   "execution_count": 19,
   "metadata": {},
   "outputs": [],
   "source": [
    "columnas_generadas = [\"convirtio_en_mes_{}\".format(mes) for mes in range(1,4)]\n",
    "tipo_dato = \"int8\"\n",
    "dato_nan = 0\n",
    "\n",
    "DATOS_FEATURES[nombre] = (columnas_generadas,tipo_dato,dato_nan) "
   ]
  },
  {
   "cell_type": "markdown",
   "metadata": {},
   "source": [
    "---"
   ]
  },
  {
   "cell_type": "markdown",
   "metadata": {},
   "source": [
    "#### ¿Convirtio mas de una vez por mes?"
   ]
  },
  {
   "cell_type": "code",
   "execution_count": 20,
   "metadata": {},
   "outputs": [],
   "source": [
    "nombre = \"conversiones multiples por mes\""
   ]
  },
  {
   "cell_type": "code",
   "execution_count": 21,
   "metadata": {},
   "outputs": [],
   "source": [
    "def conversiones_multiples_en_meses(dataframe):\n",
    "    \"\"\" Para cada columna generada:\n",
    "            0-> no convirtio multiples veces\n",
    "            1-> convirtio multiples veces\n",
    "    \"\"\"\n",
    "    \n",
    "    conversiones_meses = dataframe.groupby([\"USER_ID\",\"mes\"]).agg({\"trimestre\":\"count\"})\n",
    "    conversiones_meses.reset_index(inplace = True)\n",
    "    conversiones_meses = conversiones_meses.pivot(index = \"USER_ID\", columns = \"mes\", values = \"trimestre\")\n",
    "  \n",
    "    #lleno los meses vacios con 0\n",
    "    conversiones_meses.columns = [x for x in range(1,4)]\n",
    "    for mes in range(1,4):\n",
    "        try:             #si no existe el mes, lo creo\n",
    "            conversiones_meses[mes].fillna(0) \n",
    "        except KeyError:\n",
    "            conversiones_meses.insert(mes,mes,0)\n",
    "\n",
    "    \n",
    "    conversiones_meses.columns = [\"convirtio_multiple_en_mes_{}\".format(mes) for mes in range(1,4)]\n",
    "\n",
    "    return conversiones_meses"
   ]
  },
  {
   "cell_type": "code",
   "execution_count": 22,
   "metadata": {},
   "outputs": [],
   "source": [
    "FUNCIONES_FEATURES[nombre] = conversiones_multiples_en_meses"
   ]
  },
  {
   "cell_type": "code",
   "execution_count": 23,
   "metadata": {},
   "outputs": [],
   "source": [
    "columnas_generadas = [\"convirtio_multiple_en_mes_{}\".format(mes) for mes in range(1,4)]\n",
    "tipo_dato = \"int8\"\n",
    "dato_nan = 0\n",
    "\n",
    "DATOS_FEATURES[nombre]=(columnas_generadas, tipo_dato, dato_nan)"
   ]
  },
  {
   "cell_type": "markdown",
   "metadata": {},
   "source": [
    "---"
   ]
  },
  {
   "cell_type": "markdown",
   "metadata": {},
   "source": [
    "## Generacion de features"
   ]
  },
  {
   "cell_type": "code",
   "execution_count": 24,
   "metadata": {},
   "outputs": [],
   "source": [
    "def feature_ya_generado(nombre_feature, trimestre):\n",
    "    \"\"\"Corrobora si un feature ya fue generado \"\"\"\n",
    "    \n",
    "    #Obtengo las columnas que genera ese feature\n",
    "    columnas = DATOS_FEATURES[nombre_feature][POS_COLUMNAS_DEL_FEATURE]\n",
    "    for columna in columnas:\n",
    "        if columna in FEATURES_YA_GENERADOS[trimestre]:\n",
    "            return True\n",
    "    return False"
   ]
  },
  {
   "cell_type": "code",
   "execution_count": 25,
   "metadata": {},
   "outputs": [],
   "source": [
    "def generar_feature_en_ventana(dataframe,trimestre, nombre_feature, destino):\n",
    "    \"\"\"Genera un feature en la ventana correspondiente, con los tipos de datos correspondientes\"\"\"\n",
    "    \n",
    "    #Calculo el feature\n",
    "    funcion_feature = FUNCIONES_FEATURES[nombre_feature]\n",
    "    dataframe = funcion_feature( dataframe[dataframe[\"trimestre\"] == trimestre] )\n",
    "    \n",
    "    #Uno los features nuevos con los viejos\n",
    "    dataframe = destino[trimestre].merge(dataframe, left_index = True, right_index= True, how = 'left')\n",
    "    \n",
    "    #Rello los nans, si es que los hubiera\n",
    "    dataframe = dar_formato_al_feature_nuevo(dataframe,nombre_feature)\n",
    "    \n",
    "    destino[trimestre] = dataframe"
   ]
  },
  {
   "cell_type": "code",
   "execution_count": 26,
   "metadata": {},
   "outputs": [],
   "source": [
    "def dar_formato_al_feature_nuevo(dataframe, nombre_feature):\n",
    "    \"\"\"Rellena los Nans de un dataframe con features nuevos\"\"\"\n",
    "    \n",
    "    \n",
    "    #Datos para rellenar los Nan\n",
    "    columnas = DATOS_FEATURES[nombre_feature][POS_COLUMNAS_DEL_FEATURE]\n",
    "    tipo_dato= DATOS_FEATURES[nombre_feature][POS_TIPO_DATO]\n",
    "    valor_nan = DATOS_FEATURES[nombre_feature][POS_DATO_NAN]\n",
    "    \n",
    "    dataframe.fillna(valor_nan, inplace = True)\n",
    "    dataframe[columnas] = dataframe[columnas].astype(tipo_dato)\n",
    "    \n",
    "    return dataframe\n",
    "    "
   ]
  },
  {
   "cell_type": "code",
   "execution_count": 27,
   "metadata": {},
   "outputs": [],
   "source": [
    "def generar_features_faltantes(dataframe,destino,trimestre):\n",
    "    \"\"\"\n",
    "    Funcion para generar los features faltantes para un trimestre, \n",
    "    evita la repeticion de calculo de features si estos ya se encuentran generados.\n",
    "    \n",
    "    dataframe: Dataframe a partir de cual se calcularan los features.\n",
    "    destino: Diccionario de ventanas para los que calcular los features.\n",
    "    trimestre: Numero de ventana a partir de la cual se calculan los features.\n",
    "    \"\"\"\n",
    "    \n",
    "    for nombre_feature in FUNCIONES_FEATURES:    \n",
    "        if feature_ya_generado(nombre_feature, trimestre):\n",
    "            continue\n",
    "\n",
    "        #Si no fueron generados, los genero y actualizo el listado:   \n",
    "        generar_feature_en_ventana(dataframe,trimestre, nombre_feature, destino)   \n",
    "        \n",
    "        #Agrego las columnas nuevas al diccionario\n",
    "        columnas_generadas = DATOS_FEATURES[nombre_feature][POS_COLUMNAS_DEL_FEATURE]\n",
    "        FEATURES_YA_GENERADOS[trimestre].extend(columnas_generadas)"
   ]
  },
  {
   "cell_type": "code",
   "execution_count": 28,
   "metadata": {},
   "outputs": [],
   "source": [
    "for ventana_nro in range(1, CANT_TRIMESTRES + 1):\n",
    "    generar_features_faltantes(data, TRIMESTRES, ventana_nro)"
   ]
  },
  {
   "cell_type": "code",
   "execution_count": 29,
   "metadata": {},
   "outputs": [
    {
     "data": {
      "text/html": [
       "<div>\n",
       "<style scoped>\n",
       "    .dataframe tbody tr th:only-of-type {\n",
       "        vertical-align: middle;\n",
       "    }\n",
       "\n",
       "    .dataframe tbody tr th {\n",
       "        vertical-align: top;\n",
       "    }\n",
       "\n",
       "    .dataframe thead th {\n",
       "        text-align: right;\n",
       "    }\n",
       "</style>\n",
       "<table border=\"1\" class=\"dataframe\">\n",
       "  <thead>\n",
       "    <tr style=\"text-align: right;\">\n",
       "      <th></th>\n",
       "      <th>convirtio_en_mes_1</th>\n",
       "      <th>convirtio_en_mes_2</th>\n",
       "      <th>convirtio_en_mes_3</th>\n",
       "      <th>convirtio_multiple_en_mes_1</th>\n",
       "      <th>convirtio_multiple_en_mes_2</th>\n",
       "      <th>convirtio_multiple_en_mes_3</th>\n",
       "      <th>convirtio_en_trimestre_actual</th>\n",
       "    </tr>\n",
       "    <tr>\n",
       "      <th>USER_ID</th>\n",
       "      <th></th>\n",
       "      <th></th>\n",
       "      <th></th>\n",
       "      <th></th>\n",
       "      <th></th>\n",
       "      <th></th>\n",
       "      <th></th>\n",
       "    </tr>\n",
       "  </thead>\n",
       "  <tbody>\n",
       "    <tr>\n",
       "      <th>40</th>\n",
       "      <td>1</td>\n",
       "      <td>0</td>\n",
       "      <td>0</td>\n",
       "      <td>1</td>\n",
       "      <td>0</td>\n",
       "      <td>0</td>\n",
       "      <td>1</td>\n",
       "    </tr>\n",
       "    <tr>\n",
       "      <th>92</th>\n",
       "      <td>0</td>\n",
       "      <td>0</td>\n",
       "      <td>1</td>\n",
       "      <td>0</td>\n",
       "      <td>0</td>\n",
       "      <td>1</td>\n",
       "      <td>1</td>\n",
       "    </tr>\n",
       "    <tr>\n",
       "      <th>204</th>\n",
       "      <td>0</td>\n",
       "      <td>1</td>\n",
       "      <td>0</td>\n",
       "      <td>0</td>\n",
       "      <td>1</td>\n",
       "      <td>0</td>\n",
       "      <td>1</td>\n",
       "    </tr>\n",
       "    <tr>\n",
       "      <th>351</th>\n",
       "      <td>1</td>\n",
       "      <td>0</td>\n",
       "      <td>0</td>\n",
       "      <td>1</td>\n",
       "      <td>0</td>\n",
       "      <td>0</td>\n",
       "      <td>1</td>\n",
       "    </tr>\n",
       "    <tr>\n",
       "      <th>381</th>\n",
       "      <td>0</td>\n",
       "      <td>1</td>\n",
       "      <td>0</td>\n",
       "      <td>0</td>\n",
       "      <td>1</td>\n",
       "      <td>0</td>\n",
       "      <td>1</td>\n",
       "    </tr>\n",
       "  </tbody>\n",
       "</table>\n",
       "</div>"
      ],
      "text/plain": [
       "         convirtio_en_mes_1  convirtio_en_mes_2  convirtio_en_mes_3  \\\n",
       "USER_ID                                                               \n",
       "40                        1                   0                   0   \n",
       "92                        0                   0                   1   \n",
       "204                       0                   1                   0   \n",
       "351                       1                   0                   0   \n",
       "381                       0                   1                   0   \n",
       "\n",
       "         convirtio_multiple_en_mes_1  convirtio_multiple_en_mes_2  \\\n",
       "USER_ID                                                             \n",
       "40                                 1                            0   \n",
       "92                                 0                            0   \n",
       "204                                0                            1   \n",
       "351                                1                            0   \n",
       "381                                0                            1   \n",
       "\n",
       "         convirtio_multiple_en_mes_3  convirtio_en_trimestre_actual  \n",
       "USER_ID                                                              \n",
       "40                                 0                              1  \n",
       "92                                 1                              1  \n",
       "204                                0                              1  \n",
       "351                                0                              1  \n",
       "381                                0                              1  "
      ]
     },
     "execution_count": 29,
     "metadata": {},
     "output_type": "execute_result"
    }
   ],
   "source": [
    "TRIMESTRES[1].head()"
   ]
  },
  {
   "cell_type": "markdown",
   "metadata": {},
   "source": [
    "#### Es normal que el head tenga 0, .sum() para corroborar que no son todos 0"
   ]
  },
  {
   "cell_type": "code",
   "execution_count": 30,
   "metadata": {},
   "outputs": [
    {
     "data": {
      "text/html": [
       "<div>\n",
       "<style scoped>\n",
       "    .dataframe tbody tr th:only-of-type {\n",
       "        vertical-align: middle;\n",
       "    }\n",
       "\n",
       "    .dataframe tbody tr th {\n",
       "        vertical-align: top;\n",
       "    }\n",
       "\n",
       "    .dataframe thead th {\n",
       "        text-align: right;\n",
       "    }\n",
       "</style>\n",
       "<table border=\"1\" class=\"dataframe\">\n",
       "  <thead>\n",
       "    <tr style=\"text-align: right;\">\n",
       "      <th></th>\n",
       "      <th>convirtio_en_mes_1</th>\n",
       "      <th>convirtio_en_mes_2</th>\n",
       "      <th>convirtio_en_mes_3</th>\n",
       "      <th>convirtio_multiple_en_mes_1</th>\n",
       "      <th>convirtio_multiple_en_mes_2</th>\n",
       "      <th>convirtio_multiple_en_mes_3</th>\n",
       "      <th>convirtio_en_trimestre_actual</th>\n",
       "    </tr>\n",
       "    <tr>\n",
       "      <th>USER_ID</th>\n",
       "      <th></th>\n",
       "      <th></th>\n",
       "      <th></th>\n",
       "      <th></th>\n",
       "      <th></th>\n",
       "      <th></th>\n",
       "      <th></th>\n",
       "    </tr>\n",
       "  </thead>\n",
       "  <tbody>\n",
       "    <tr>\n",
       "      <th>0</th>\n",
       "      <td>0</td>\n",
       "      <td>0</td>\n",
       "      <td>0</td>\n",
       "      <td>0</td>\n",
       "      <td>0</td>\n",
       "      <td>0</td>\n",
       "      <td>0</td>\n",
       "    </tr>\n",
       "    <tr>\n",
       "      <th>1</th>\n",
       "      <td>0</td>\n",
       "      <td>0</td>\n",
       "      <td>0</td>\n",
       "      <td>0</td>\n",
       "      <td>0</td>\n",
       "      <td>0</td>\n",
       "      <td>0</td>\n",
       "    </tr>\n",
       "    <tr>\n",
       "      <th>2</th>\n",
       "      <td>0</td>\n",
       "      <td>0</td>\n",
       "      <td>0</td>\n",
       "      <td>0</td>\n",
       "      <td>0</td>\n",
       "      <td>0</td>\n",
       "      <td>0</td>\n",
       "    </tr>\n",
       "    <tr>\n",
       "      <th>3</th>\n",
       "      <td>0</td>\n",
       "      <td>0</td>\n",
       "      <td>0</td>\n",
       "      <td>0</td>\n",
       "      <td>0</td>\n",
       "      <td>0</td>\n",
       "      <td>0</td>\n",
       "    </tr>\n",
       "    <tr>\n",
       "      <th>4</th>\n",
       "      <td>0</td>\n",
       "      <td>0</td>\n",
       "      <td>0</td>\n",
       "      <td>0</td>\n",
       "      <td>0</td>\n",
       "      <td>0</td>\n",
       "      <td>0</td>\n",
       "    </tr>\n",
       "  </tbody>\n",
       "</table>\n",
       "</div>"
      ],
      "text/plain": [
       "         convirtio_en_mes_1  convirtio_en_mes_2  convirtio_en_mes_3  \\\n",
       "USER_ID                                                               \n",
       "0                         0                   0                   0   \n",
       "1                         0                   0                   0   \n",
       "2                         0                   0                   0   \n",
       "3                         0                   0                   0   \n",
       "4                         0                   0                   0   \n",
       "\n",
       "         convirtio_multiple_en_mes_1  convirtio_multiple_en_mes_2  \\\n",
       "USER_ID                                                             \n",
       "0                                  0                            0   \n",
       "1                                  0                            0   \n",
       "2                                  0                            0   \n",
       "3                                  0                            0   \n",
       "4                                  0                            0   \n",
       "\n",
       "         convirtio_multiple_en_mes_3  convirtio_en_trimestre_actual  \n",
       "USER_ID                                                              \n",
       "0                                  0                              0  \n",
       "1                                  0                              0  \n",
       "2                                  0                              0  \n",
       "3                                  0                              0  \n",
       "4                                  0                              0  "
      ]
     },
     "execution_count": 30,
     "metadata": {},
     "output_type": "execute_result"
    }
   ],
   "source": [
    "TRIMESTRES[4].head()"
   ]
  },
  {
   "cell_type": "code",
   "execution_count": 31,
   "metadata": {},
   "outputs": [
    {
     "data": {
      "text/plain": [
       "convirtio_en_mes_1               186\n",
       "convirtio_en_mes_2               166\n",
       "convirtio_en_mes_3               101\n",
       "convirtio_multiple_en_mes_1      210\n",
       "convirtio_multiple_en_mes_2      184\n",
       "convirtio_multiple_en_mes_3      115\n",
       "convirtio_en_trimestre_actual    391\n",
       "dtype: int64"
      ]
     },
     "execution_count": 31,
     "metadata": {},
     "output_type": "execute_result"
    }
   ],
   "source": [
    "TRIMESTRES[4].sum()"
   ]
  },
  {
   "cell_type": "markdown",
   "metadata": {},
   "source": [
    "##### No son todos 0"
   ]
  },
  {
   "cell_type": "markdown",
   "metadata": {},
   "source": [
    "### Guardado"
   ]
  },
  {
   "cell_type": "code",
   "execution_count": 32,
   "metadata": {},
   "outputs": [],
   "source": [
    "for ventana_nro in range(1, CANT_TRIMESTRES ):\n",
    "    TRIMESTRES[ventana_nro].to_pickle(\"../data/features/ventana_{}_conversion.pkl\".format(ventana_nro))\n",
    "\n",
    "TRIMESTRES[4].to_pickle(\"../data/features/predecir_conversion.pkl\")"
   ]
  },
  {
   "cell_type": "code",
   "execution_count": null,
   "metadata": {},
   "outputs": [],
   "source": []
  }
 ],
 "metadata": {
  "kernelspec": {
   "display_name": "Python 3",
   "language": "python",
   "name": "python3"
  },
  "language_info": {
   "codemirror_mode": {
    "name": "ipython",
    "version": 3
   },
   "file_extension": ".py",
   "mimetype": "text/x-python",
   "name": "python",
   "nbconvert_exporter": "python",
   "pygments_lexer": "ipython3",
   "version": "3.6.8"
  }
 },
 "nbformat": 4,
 "nbformat_minor": 2
}
