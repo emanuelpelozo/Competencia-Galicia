{
 "cells": [
  {
   "cell_type": "code",
   "execution_count": 1,
   "metadata": {},
   "outputs": [],
   "source": [
    "import pandas as pd\n",
    "import numpy as np\n",
    "import matplotlib.pyplot as plt\n",
    "\n",
    "# metrics\n",
    "from sklearn.metrics import roc_auc_score\n",
    "from sklearn.model_selection import train_test_split, cross_val_score\n",
    "\n",
    "#Random Forest\n",
    "from sklearn.ensemble import RandomForestClassifier"
   ]
  },
  {
   "cell_type": "markdown",
   "metadata": {},
   "source": [
    "## Entrenamiento"
   ]
  },
  {
   "cell_type": "code",
   "execution_count": 2,
   "metadata": {},
   "outputs": [],
   "source": [
    "train=pd.read_pickle(\"../data/train_completo.pkl\")#,dtype=tipos_conv)"
   ]
  },
  {
   "cell_type": "code",
   "execution_count": 3,
   "metadata": {},
   "outputs": [
    {
     "data": {
      "text/html": [
       "<div>\n",
       "<style scoped>\n",
       "    .dataframe tbody tr th:only-of-type {\n",
       "        vertical-align: middle;\n",
       "    }\n",
       "\n",
       "    .dataframe tbody tr th {\n",
       "        vertical-align: top;\n",
       "    }\n",
       "\n",
       "    .dataframe thead th {\n",
       "        text-align: right;\n",
       "    }\n",
       "</style>\n",
       "<table border=\"1\" class=\"dataframe\">\n",
       "  <thead>\n",
       "    <tr style=\"text-align: right;\">\n",
       "      <th></th>\n",
       "      <th>cantidad_paginas_vistas_trimestre</th>\n",
       "      <th>cant_paginas_vistas_en_mes_1</th>\n",
       "      <th>cant_paginas_vistas_en_mes_2</th>\n",
       "      <th>cant_paginas_vistas_en_mes_3</th>\n",
       "      <th>page_mas_vista_en_mes_1_0</th>\n",
       "      <th>page_mas_vista_en_mes_1_1</th>\n",
       "      <th>page_mas_vista_en_mes_1_2</th>\n",
       "      <th>page_mas_vista_en_mes_1_3</th>\n",
       "      <th>page_mas_vista_en_mes_1_4</th>\n",
       "      <th>page_mas_vista_en_mes_1_5</th>\n",
       "      <th>...</th>\n",
       "      <th>page_mas_vista_en_mes_3_7</th>\n",
       "      <th>convirtio_en_mes_1</th>\n",
       "      <th>convirtio_en_mes_2</th>\n",
       "      <th>convirtio_en_mes_3</th>\n",
       "      <th>convirtio_multiple_en_mes_1</th>\n",
       "      <th>convirtio_multiple_en_mes_2</th>\n",
       "      <th>convirtio_multiple_en_mes_3</th>\n",
       "      <th>cant_vistas_no_md_trimestre</th>\n",
       "      <th>cant_vistas_md_trimestre</th>\n",
       "      <th>convirtio</th>\n",
       "    </tr>\n",
       "    <tr>\n",
       "      <th>USER_ID</th>\n",
       "      <th></th>\n",
       "      <th></th>\n",
       "      <th></th>\n",
       "      <th></th>\n",
       "      <th></th>\n",
       "      <th></th>\n",
       "      <th></th>\n",
       "      <th></th>\n",
       "      <th></th>\n",
       "      <th></th>\n",
       "      <th></th>\n",
       "      <th></th>\n",
       "      <th></th>\n",
       "      <th></th>\n",
       "      <th></th>\n",
       "      <th></th>\n",
       "      <th></th>\n",
       "      <th></th>\n",
       "      <th></th>\n",
       "      <th></th>\n",
       "      <th></th>\n",
       "    </tr>\n",
       "  </thead>\n",
       "  <tbody>\n",
       "    <tr>\n",
       "      <th>6574</th>\n",
       "      <td>1841</td>\n",
       "      <td>710</td>\n",
       "      <td>375</td>\n",
       "      <td>756</td>\n",
       "      <td>0</td>\n",
       "      <td>0</td>\n",
       "      <td>0</td>\n",
       "      <td>0</td>\n",
       "      <td>0</td>\n",
       "      <td>0</td>\n",
       "      <td>...</td>\n",
       "      <td>1</td>\n",
       "      <td>0</td>\n",
       "      <td>0</td>\n",
       "      <td>0</td>\n",
       "      <td>0</td>\n",
       "      <td>0</td>\n",
       "      <td>0</td>\n",
       "      <td>0</td>\n",
       "      <td>190</td>\n",
       "      <td>0</td>\n",
       "    </tr>\n",
       "    <tr>\n",
       "      <th>2639</th>\n",
       "      <td>623</td>\n",
       "      <td>250</td>\n",
       "      <td>192</td>\n",
       "      <td>181</td>\n",
       "      <td>0</td>\n",
       "      <td>0</td>\n",
       "      <td>0</td>\n",
       "      <td>0</td>\n",
       "      <td>0</td>\n",
       "      <td>0</td>\n",
       "      <td>...</td>\n",
       "      <td>1</td>\n",
       "      <td>0</td>\n",
       "      <td>0</td>\n",
       "      <td>0</td>\n",
       "      <td>0</td>\n",
       "      <td>0</td>\n",
       "      <td>0</td>\n",
       "      <td>2</td>\n",
       "      <td>51</td>\n",
       "      <td>0</td>\n",
       "    </tr>\n",
       "    <tr>\n",
       "      <th>3898</th>\n",
       "      <td>419</td>\n",
       "      <td>127</td>\n",
       "      <td>78</td>\n",
       "      <td>214</td>\n",
       "      <td>0</td>\n",
       "      <td>0</td>\n",
       "      <td>0</td>\n",
       "      <td>0</td>\n",
       "      <td>0</td>\n",
       "      <td>0</td>\n",
       "      <td>...</td>\n",
       "      <td>0</td>\n",
       "      <td>0</td>\n",
       "      <td>0</td>\n",
       "      <td>0</td>\n",
       "      <td>0</td>\n",
       "      <td>0</td>\n",
       "      <td>0</td>\n",
       "      <td>21</td>\n",
       "      <td>26</td>\n",
       "      <td>0</td>\n",
       "    </tr>\n",
       "    <tr>\n",
       "      <th>7996</th>\n",
       "      <td>346</td>\n",
       "      <td>117</td>\n",
       "      <td>118</td>\n",
       "      <td>111</td>\n",
       "      <td>0</td>\n",
       "      <td>0</td>\n",
       "      <td>0</td>\n",
       "      <td>0</td>\n",
       "      <td>0</td>\n",
       "      <td>0</td>\n",
       "      <td>...</td>\n",
       "      <td>0</td>\n",
       "      <td>0</td>\n",
       "      <td>0</td>\n",
       "      <td>0</td>\n",
       "      <td>0</td>\n",
       "      <td>0</td>\n",
       "      <td>0</td>\n",
       "      <td>0</td>\n",
       "      <td>80</td>\n",
       "      <td>0</td>\n",
       "    </tr>\n",
       "    <tr>\n",
       "      <th>6111</th>\n",
       "      <td>1281</td>\n",
       "      <td>311</td>\n",
       "      <td>191</td>\n",
       "      <td>779</td>\n",
       "      <td>0</td>\n",
       "      <td>0</td>\n",
       "      <td>0</td>\n",
       "      <td>0</td>\n",
       "      <td>0</td>\n",
       "      <td>0</td>\n",
       "      <td>...</td>\n",
       "      <td>1</td>\n",
       "      <td>0</td>\n",
       "      <td>0</td>\n",
       "      <td>0</td>\n",
       "      <td>0</td>\n",
       "      <td>0</td>\n",
       "      <td>0</td>\n",
       "      <td>155</td>\n",
       "      <td>3</td>\n",
       "      <td>0</td>\n",
       "    </tr>\n",
       "  </tbody>\n",
       "</table>\n",
       "<p>5 rows × 37 columns</p>\n",
       "</div>"
      ],
      "text/plain": [
       "         cantidad_paginas_vistas_trimestre  cant_paginas_vistas_en_mes_1  \\\n",
       "USER_ID                                                                    \n",
       "6574                                  1841                           710   \n",
       "2639                                   623                           250   \n",
       "3898                                   419                           127   \n",
       "7996                                   346                           117   \n",
       "6111                                  1281                           311   \n",
       "\n",
       "         cant_paginas_vistas_en_mes_2  cant_paginas_vistas_en_mes_3  \\\n",
       "USER_ID                                                               \n",
       "6574                              375                           756   \n",
       "2639                              192                           181   \n",
       "3898                               78                           214   \n",
       "7996                              118                           111   \n",
       "6111                              191                           779   \n",
       "\n",
       "         page_mas_vista_en_mes_1_0  page_mas_vista_en_mes_1_1  \\\n",
       "USER_ID                                                         \n",
       "6574                             0                          0   \n",
       "2639                             0                          0   \n",
       "3898                             0                          0   \n",
       "7996                             0                          0   \n",
       "6111                             0                          0   \n",
       "\n",
       "         page_mas_vista_en_mes_1_2  page_mas_vista_en_mes_1_3  \\\n",
       "USER_ID                                                         \n",
       "6574                             0                          0   \n",
       "2639                             0                          0   \n",
       "3898                             0                          0   \n",
       "7996                             0                          0   \n",
       "6111                             0                          0   \n",
       "\n",
       "         page_mas_vista_en_mes_1_4  page_mas_vista_en_mes_1_5  ...  \\\n",
       "USER_ID                                                        ...   \n",
       "6574                             0                          0  ...   \n",
       "2639                             0                          0  ...   \n",
       "3898                             0                          0  ...   \n",
       "7996                             0                          0  ...   \n",
       "6111                             0                          0  ...   \n",
       "\n",
       "         page_mas_vista_en_mes_3_7  convirtio_en_mes_1  convirtio_en_mes_2  \\\n",
       "USER_ID                                                                      \n",
       "6574                             1                   0                   0   \n",
       "2639                             1                   0                   0   \n",
       "3898                             0                   0                   0   \n",
       "7996                             0                   0                   0   \n",
       "6111                             1                   0                   0   \n",
       "\n",
       "         convirtio_en_mes_3  convirtio_multiple_en_mes_1  \\\n",
       "USER_ID                                                    \n",
       "6574                      0                            0   \n",
       "2639                      0                            0   \n",
       "3898                      0                            0   \n",
       "7996                      0                            0   \n",
       "6111                      0                            0   \n",
       "\n",
       "         convirtio_multiple_en_mes_2  convirtio_multiple_en_mes_3  \\\n",
       "USER_ID                                                             \n",
       "6574                               0                            0   \n",
       "2639                               0                            0   \n",
       "3898                               0                            0   \n",
       "7996                               0                            0   \n",
       "6111                               0                            0   \n",
       "\n",
       "         cant_vistas_no_md_trimestre  cant_vistas_md_trimestre  convirtio  \n",
       "USER_ID                                                                    \n",
       "6574                               0                       190          0  \n",
       "2639                               2                        51          0  \n",
       "3898                              21                        26          0  \n",
       "7996                               0                        80          0  \n",
       "6111                             155                         3          0  \n",
       "\n",
       "[5 rows x 37 columns]"
      ]
     },
     "execution_count": 3,
     "metadata": {},
     "output_type": "execute_result"
    }
   ],
   "source": [
    "train.head()"
   ]
  },
  {
   "cell_type": "code",
   "execution_count": 4,
   "metadata": {},
   "outputs": [],
   "source": [
    "pred = pd.read_pickle(\"../data/prediccion_completo.pkl\")\n",
    "pred.sort_index(inplace = True)"
   ]
  },
  {
   "cell_type": "code",
   "execution_count": 5,
   "metadata": {},
   "outputs": [],
   "source": [
    "RANDOM_SEED = 12\n",
    "TEST_SIZE_PERCENT = 0.2"
   ]
  },
  {
   "cell_type": "code",
   "execution_count": 6,
   "metadata": {},
   "outputs": [],
   "source": [
    "y = train['convirtio']\n",
    "X = train.drop(axis=1, labels=['convirtio'])\n",
    "\n",
    "X_train, X_test, y_train, y_test = train_test_split(X, y, test_size=TEST_SIZE_PERCENT, random_state=RANDOM_SEED)\n",
    "\n",
    "feature_list = list(X.columns)"
   ]
  },
  {
   "cell_type": "code",
   "execution_count": 7,
   "metadata": {},
   "outputs": [],
   "source": [
    "modelo = RandomForestClassifier(n_estimators=1000, max_depth=6, random_state=RANDOM_SEED)"
   ]
  },
  {
   "cell_type": "code",
   "execution_count": 51,
   "metadata": {},
   "outputs": [
    {
     "data": {
      "text/plain": [
       "RandomForestClassifier(bootstrap=True, class_weight=None, criterion='gini',\n",
       "                       max_depth=6, max_features='auto', max_leaf_nodes=None,\n",
       "                       min_impurity_decrease=0.0, min_impurity_split=None,\n",
       "                       min_samples_leaf=1, min_samples_split=2,\n",
       "                       min_weight_fraction_leaf=0.0, n_estimators=1000,\n",
       "                       n_jobs=None, oob_score=False, random_state=12, verbose=0,\n",
       "                       warm_start=False)"
      ]
     },
     "execution_count": 51,
     "metadata": {},
     "output_type": "execute_result"
    }
   ],
   "source": [
    "# Training\n",
    "modelo.fit(X_train, y_train)"
   ]
  },
  {
   "cell_type": "code",
   "execution_count": 52,
   "metadata": {},
   "outputs": [],
   "source": [
    "# Predict value\n",
    "pred_test = modelo.predict_proba(X_test)"
   ]
  },
  {
   "cell_type": "code",
   "execution_count": 53,
   "metadata": {},
   "outputs": [
    {
     "data": {
      "text/plain": [
       "0.900261143013399"
      ]
     },
     "execution_count": 53,
     "metadata": {},
     "output_type": "execute_result"
    }
   ],
   "source": [
    "y_test_predictd = pred_test[:, 1]\n",
    "roc_auc_score(y_test, y_test_predictd)"
   ]
  },
  {
   "cell_type": "code",
   "execution_count": 54,
   "metadata": {},
   "outputs": [
    {
     "data": {
      "text/plain": [
       "0.6557236654296318"
      ]
     },
     "execution_count": 54,
     "metadata": {},
     "output_type": "execute_result"
    }
   ],
   "source": [
    "modelo.score(X_test, y_test)"
   ]
  },
  {
   "cell_type": "code",
   "execution_count": 59,
   "metadata": {},
   "outputs": [
    {
     "data": {
      "text/plain": [
       "array([0.82222222, 0.74222222, 0.82222222, 0.8       , 0.73333333])"
      ]
     },
     "execution_count": 59,
     "metadata": {},
     "output_type": "execute_result"
    }
   ],
   "source": [
    "cross_val_score(modelo, X, Y, cv=5)"
   ]
  },
  {
   "cell_type": "markdown",
   "metadata": {},
   "source": [
    "### Predecir competencia"
   ]
  },
  {
   "cell_type": "code",
   "execution_count": 13,
   "metadata": {},
   "outputs": [],
   "source": [
    "prediccion = modelo.predict_proba(pred)"
   ]
  },
  {
   "cell_type": "code",
   "execution_count": 14,
   "metadata": {},
   "outputs": [],
   "source": [
    "prediccion =  pd.DataFrame(prediccion)[1].to_frame()"
   ]
  },
  {
   "cell_type": "code",
   "execution_count": 15,
   "metadata": {},
   "outputs": [],
   "source": [
    "submit = pd.read_csv(\"../data/sampleSubmission.csv\", index_col = 0)"
   ]
  },
  {
   "cell_type": "code",
   "execution_count": 16,
   "metadata": {},
   "outputs": [],
   "source": [
    "submit[\"pred\"] = prediccion[1]"
   ]
  },
  {
   "cell_type": "code",
   "execution_count": 17,
   "metadata": {},
   "outputs": [],
   "source": [
    "submit[\"SCORE\"] = submit[\"pred\"]"
   ]
  },
  {
   "cell_type": "code",
   "execution_count": 18,
   "metadata": {},
   "outputs": [],
   "source": [
    "submit.drop(\"pred\", axis = 1, inplace = True)"
   ]
  },
  {
   "cell_type": "code",
   "execution_count": 19,
   "metadata": {},
   "outputs": [],
   "source": [
    "submit.to_csv('../data/submit_random_forest.csv')"
   ]
  },
  {
   "cell_type": "code",
   "execution_count": 20,
   "metadata": {},
   "outputs": [],
   "source": [
    "#modelo.save_model(\"modelo1_xgb\")"
   ]
  },
  {
   "cell_type": "code",
   "execution_count": 21,
   "metadata": {
    "scrolled": true
   },
   "outputs": [
    {
     "name": "stdout",
     "output_type": "stream",
     "text": [
      "Variable: cant_paginas_vistas_en_mes_3 Importance: 0.1102279\n",
      "Variable: cantidad_paginas_vistas_trimestre Importance: 0.1082128\n",
      "Variable: cant_paginas_vistas_en_mes_2 Importance: 0.0920275\n",
      "Variable: cant_vistas_no_md_trimestre Importance: 0.0780189\n",
      "Variable: cant_paginas_vistas_en_mes_1 Importance: 0.077906\n",
      "Variable: convirtio_en_mes_3   Importance: 0.0769202\n",
      "Variable: convirtio_multiple_en_mes_3 Importance: 0.0751514\n",
      "Variable: cant_vistas_md_trimestre Importance: 0.0603841\n",
      "Variable: convirtio_en_mes_2   Importance: 0.049324\n",
      "Variable: convirtio_multiple_en_mes_2 Importance: 0.048579\n",
      "Variable: convirtio_multiple_en_mes_1 Importance: 0.0344391\n",
      "Variable: convirtio_en_mes_1   Importance: 0.0307212\n",
      "Variable: page_mas_vista_en_mes_2_3 Importance: 0.0171086\n",
      "Variable: page_mas_vista_en_mes_3_4 Importance: 0.0160487\n",
      "Variable: page_mas_vista_en_mes_1_3 Importance: 0.0137888\n",
      "Variable: page_mas_vista_en_mes_2_5 Importance: 0.0110891\n",
      "Variable: page_mas_vista_en_mes_1_5 Importance: 0.0107536\n",
      "Variable: page_mas_vista_en_mes_2_7 Importance: 0.01058\n",
      "Variable: page_mas_vista_en_mes_1_7 Importance: 0.0096145\n",
      "Variable: page_mas_vista_en_mes_1_6 Importance: 0.009382\n",
      "Variable: page_mas_vista_en_mes_2_4 Importance: 0.0077952\n",
      "Variable: page_mas_vista_en_mes_2_6 Importance: 0.0075822\n",
      "Variable: page_mas_vista_en_mes_3_5 Importance: 0.0075054\n",
      "Variable: page_mas_vista_en_mes_3_7 Importance: 0.0069573\n",
      "Variable: page_mas_vista_en_mes_3_6 Importance: 0.0063449\n",
      "Variable: page_mas_vista_en_mes_1_1 Importance: 0.0056014\n",
      "Variable: page_mas_vista_en_mes_3_2 Importance: 0.0038115\n",
      "Variable: page_mas_vista_en_mes_1_4 Importance: 0.0034941\n",
      "Variable: page_mas_vista_en_mes_2_2 Importance: 0.003009\n",
      "Variable: page_mas_vista_en_mes_3_3 Importance: 0.0027903\n",
      "Variable: page_mas_vista_en_mes_2_1 Importance: 0.002679\n",
      "Variable: page_mas_vista_en_mes_3_1 Importance: 0.0013083\n",
      "Variable: page_mas_vista_en_mes_1_2 Importance: 0.0008439\n",
      "Variable: page_mas_vista_en_mes_1_0 Importance: 0.0\n",
      "Variable: page_mas_vista_en_mes_2_0 Importance: 0.0\n",
      "Variable: page_mas_vista_en_mes_3_0 Importance: 0.0\n"
     ]
    }
   ],
   "source": [
    "# Get numerical feature importances\n",
    "importances = list(modelo.feature_importances_)\n",
    "\n",
    "# List of tuples with variable and importance\n",
    "feature_importances = [(feature, round(importance, 7)) for feature, importance in zip(feature_list, importances)]\n",
    "\n",
    "# Sort the feature importances by most important first\n",
    "feature_importances = sorted(feature_importances, key = lambda x: x[1], reverse = True)\n",
    "\n",
    "# Print out the feature and importances \n",
    "[print('Variable: {:20} Importance: {}'.format(*pair)) for pair in feature_importances];"
   ]
  },
  {
   "cell_type": "code",
   "execution_count": 24,
   "metadata": {},
   "outputs": [],
   "source": [
    "#modelo.plot_importance(modelo)"
   ]
  },
  {
   "cell_type": "markdown",
   "metadata": {},
   "source": [
    "### Entrenando con todo"
   ]
  },
  {
   "cell_type": "code",
   "execution_count": 25,
   "metadata": {},
   "outputs": [
    {
     "data": {
      "text/plain": [
       "RandomForestClassifier(bootstrap=True, class_weight=None, criterion='gini',\n",
       "                       max_depth=6, max_features='auto', max_leaf_nodes=None,\n",
       "                       min_impurity_decrease=0.0, min_impurity_split=None,\n",
       "                       min_samples_leaf=1, min_samples_split=2,\n",
       "                       min_weight_fraction_leaf=0.0, n_estimators=1000,\n",
       "                       n_jobs=None, oob_score=False, random_state=12, verbose=0,\n",
       "                       warm_start=False)"
      ]
     },
     "execution_count": 25,
     "metadata": {},
     "output_type": "execute_result"
    }
   ],
   "source": [
    "modelo.fit(X, y)\n"
   ]
  },
  {
   "cell_type": "code",
   "execution_count": 26,
   "metadata": {},
   "outputs": [],
   "source": [
    "prediccion = modelo.predict_proba(pred)"
   ]
  },
  {
   "cell_type": "code",
   "execution_count": 27,
   "metadata": {},
   "outputs": [],
   "source": [
    "prediccion =  pd.DataFrame(prediccion)[1].to_frame()"
   ]
  },
  {
   "cell_type": "code",
   "execution_count": 28,
   "metadata": {},
   "outputs": [],
   "source": [
    "submit = pd.read_csv(\"../data/sampleSubmission.csv\", index_col = 0)"
   ]
  },
  {
   "cell_type": "code",
   "execution_count": 29,
   "metadata": {},
   "outputs": [],
   "source": [
    "submit[\"pred\"] = prediccion[1]"
   ]
  },
  {
   "cell_type": "code",
   "execution_count": 30,
   "metadata": {},
   "outputs": [],
   "source": [
    "submit[\"SCORE\"] = submit[\"pred\"]"
   ]
  },
  {
   "cell_type": "code",
   "execution_count": 31,
   "metadata": {},
   "outputs": [],
   "source": [
    "submit.drop(\"pred\", axis = 1, inplace = True)"
   ]
  },
  {
   "cell_type": "code",
   "execution_count": 33,
   "metadata": {},
   "outputs": [],
   "source": [
    "submit.to_csv('../data/submit_random_forest_completo.csv')"
   ]
  },
  {
   "cell_type": "code",
   "execution_count": 73,
   "metadata": {},
   "outputs": [],
   "source": [
    "#modelo.save_model(\"modelo_random_forest_completo\")"
   ]
  },
  {
   "cell_type": "code",
   "execution_count": 34,
   "metadata": {},
   "outputs": [
    {
     "name": "stdout",
     "output_type": "stream",
     "text": [
      "Variable: cant_paginas_vistas_en_mes_3 Importance: 0.1079688\n",
      "Variable: cantidad_paginas_vistas_trimestre Importance: 0.1060226\n",
      "Variable: cant_paginas_vistas_en_mes_2 Importance: 0.0899168\n",
      "Variable: convirtio_multiple_en_mes_3 Importance: 0.0739362\n",
      "Variable: cant_paginas_vistas_en_mes_1 Importance: 0.0732951\n",
      "Variable: convirtio_en_mes_3   Importance: 0.0701736\n",
      "Variable: cant_vistas_no_md_trimestre Importance: 0.0695148\n",
      "Variable: convirtio_multiple_en_mes_1 Importance: 0.0542205\n",
      "Variable: cant_vistas_md_trimestre Importance: 0.0521217\n",
      "Variable: convirtio_multiple_en_mes_2 Importance: 0.0496575\n",
      "Variable: convirtio_en_mes_1   Importance: 0.0479368\n",
      "Variable: convirtio_en_mes_2   Importance: 0.047746\n",
      "Variable: page_mas_vista_en_mes_2_3 Importance: 0.0182946\n",
      "Variable: page_mas_vista_en_mes_1_3 Importance: 0.0165384\n",
      "Variable: page_mas_vista_en_mes_3_4 Importance: 0.0160979\n",
      "Variable: page_mas_vista_en_mes_2_7 Importance: 0.0121777\n",
      "Variable: page_mas_vista_en_mes_1_6 Importance: 0.0111889\n",
      "Variable: page_mas_vista_en_mes_1_5 Importance: 0.0105501\n",
      "Variable: page_mas_vista_en_mes_2_5 Importance: 0.0099462\n",
      "Variable: page_mas_vista_en_mes_1_7 Importance: 0.0088666\n",
      "Variable: page_mas_vista_en_mes_2_6 Importance: 0.0073088\n",
      "Variable: page_mas_vista_en_mes_3_5 Importance: 0.006914\n",
      "Variable: page_mas_vista_en_mes_2_4 Importance: 0.0067475\n",
      "Variable: page_mas_vista_en_mes_3_6 Importance: 0.0064597\n",
      "Variable: page_mas_vista_en_mes_3_7 Importance: 0.0061426\n",
      "Variable: page_mas_vista_en_mes_1_1 Importance: 0.0038557\n",
      "Variable: page_mas_vista_en_mes_3_3 Importance: 0.0037527\n",
      "Variable: page_mas_vista_en_mes_1_4 Importance: 0.0034449\n",
      "Variable: page_mas_vista_en_mes_3_2 Importance: 0.0028512\n",
      "Variable: page_mas_vista_en_mes_2_2 Importance: 0.0023921\n",
      "Variable: page_mas_vista_en_mes_2_1 Importance: 0.0017461\n",
      "Variable: page_mas_vista_en_mes_3_1 Importance: 0.0016158\n",
      "Variable: page_mas_vista_en_mes_1_2 Importance: 0.0005981\n",
      "Variable: page_mas_vista_en_mes_1_0 Importance: 0.0\n",
      "Variable: page_mas_vista_en_mes_2_0 Importance: 0.0\n",
      "Variable: page_mas_vista_en_mes_3_0 Importance: 0.0\n"
     ]
    }
   ],
   "source": [
    "# Get numerical feature importances\n",
    "importances = list(modelo.feature_importances_)\n",
    "\n",
    "# List of tuples with variable and importance\n",
    "feature_importances = [(feature, round(importance, 7)) for feature, importance in zip(feature_list, importances)]\n",
    "\n",
    "# Sort the feature importances by most important first\n",
    "feature_importances = sorted(feature_importances, key = lambda x: x[1], reverse = True)\n",
    "\n",
    "# Print out the feature and importances \n",
    "[print('Variable: {:20} Importance: {}'.format(*pair)) for pair in feature_importances];"
   ]
  },
  {
   "cell_type": "code",
   "execution_count": 39,
   "metadata": {},
   "outputs": [
    {
     "data": {
      "text/plain": [
       "<matplotlib.axes._subplots.AxesSubplot at 0xd169f0>"
      ]
     },
     "execution_count": 39,
     "metadata": {},
     "output_type": "execute_result"
    },
    {
     "data": {
      "image/png": "[encoded data removed]",
      "text/plain": [
       "<Figure size 432x288 with 1 Axes>"
      ]
     },
     "metadata": {
      "needs_background": "light"
     },
     "output_type": "display_data"
    }
   ],
   "source": [
    "feat_importances = pd.Series(modelo.feature_importances_, index=X.columns)\n",
    "feat_importances.nlargest(20).plot(kind='barh')"
   ]
  },
  {
   "cell_type": "markdown",
   "metadata": {},
   "source": [
    "---"
   ]
  },
  {
   "cell_type": "markdown",
   "metadata": {},
   "source": [
    "---"
   ]
  },
  {
   "cell_type": "markdown",
   "metadata": {},
   "source": [
    "### Binary encoding"
   ]
  },
  {
   "cell_type": "code",
   "execution_count": 2,
   "metadata": {},
   "outputs": [],
   "source": [
    "train=pd.read_pickle(\"../data/train_codificado.pkl\")#,dtype=tipos_conv)"
   ]
  },
  {
   "cell_type": "code",
   "execution_count": 60,
   "metadata": {},
   "outputs": [],
   "source": [
    "pred = pd.read_pickle(\"../data/prediccion_codificado.pkl\")\n",
    "pred.sort_index(inplace = True)"
   ]
  },
  {
   "cell_type": "code",
   "execution_count": 4,
   "metadata": {},
   "outputs": [],
   "source": [
    "RANDOM_SEED = 12\n",
    "TEST_SIZE_PERCENT = 0.2"
   ]
  },
  {
   "cell_type": "code",
   "execution_count": 5,
   "metadata": {},
   "outputs": [],
   "source": [
    "y = train['convirtio']\n",
    "X = train.drop(axis=1, labels=['convirtio'])\n",
    "\n",
    "X_train, X_test, y_train, y_test = train_test_split(X, y, test_size=TEST_SIZE_PERCENT, random_state=RANDOM_SEED)\n",
    "\n",
    "feature_list = list(X.columns)"
   ]
  },
  {
   "cell_type": "code",
   "execution_count": 6,
   "metadata": {},
   "outputs": [],
   "source": [
    "modelo = xgb.XGBClassifier(learning_rate=0.05, n_estimators=130, max_depth=3,\n",
    " min_child_weight=5, gamma=0.3, subsample=0.7, colsample_bytree=0.6, reg_alpha =0.1,seed=RANDOM_SEED)"
   ]
  },
  {
   "cell_type": "code",
   "execution_count": 8,
   "metadata": {},
   "outputs": [
    {
     "data": {
      "text/plain": [
       "XGBClassifier(base_score=0.5, booster='gbtree', colsample_bylevel=1,\n",
       "              colsample_bynode=1, colsample_bytree=0.6, gamma=0.3,\n",
       "              learning_rate=0.05, max_delta_step=0, max_depth=3,\n",
       "              min_child_weight=5, missing=None, n_estimators=130, n_jobs=1,\n",
       "              nthread=None, objective='binary:logistic', random_state=0,\n",
       "              reg_alpha=0.1, reg_lambda=1, scale_pos_weight=1, seed=12,\n",
       "              silent=None, subsample=0.7, verbosity=1)"
      ]
     },
     "execution_count": 8,
     "metadata": {},
     "output_type": "execute_result"
    }
   ],
   "source": [
    "# Training\n",
    "modelo.fit(X_train, y_train)"
   ]
  },
  {
   "cell_type": "code",
   "execution_count": 9,
   "metadata": {},
   "outputs": [],
   "source": [
    "# Predict value\n",
    "pred_test = modelo.predict_proba(X_test)"
   ]
  },
  {
   "cell_type": "code",
   "execution_count": 10,
   "metadata": {},
   "outputs": [
    {
     "data": {
      "text/plain": [
       "0.8807752255947499"
      ]
     },
     "execution_count": 10,
     "metadata": {},
     "output_type": "execute_result"
    }
   ],
   "source": [
    "y_test_predictd = pred_test[:, 1]\n",
    "roc_auc_score(y_test, y_test_predictd)"
   ]
  },
  {
   "cell_type": "code",
   "execution_count": 11,
   "metadata": {},
   "outputs": [
    {
     "data": {
      "text/plain": [
       "0.9848701113331431"
      ]
     },
     "execution_count": 11,
     "metadata": {},
     "output_type": "execute_result"
    }
   ],
   "source": [
    "modelo.score(X_test, y_test)"
   ]
  },
  {
   "cell_type": "markdown",
   "metadata": {},
   "source": [
    "### Predecir competencia"
   ]
  },
  {
   "cell_type": "code",
   "execution_count": 61,
   "metadata": {},
   "outputs": [],
   "source": [
    "prediccion = modelo.predict_proba(pred)"
   ]
  },
  {
   "cell_type": "code",
   "execution_count": 62,
   "metadata": {},
   "outputs": [],
   "source": [
    "prediccion =  pd.DataFrame(prediccion)[1].to_frame()"
   ]
  },
  {
   "cell_type": "code",
   "execution_count": 63,
   "metadata": {},
   "outputs": [],
   "source": [
    "submit = pd.read_csv(\"../data/sampleSubmission.csv\", index_col = 0)"
   ]
  },
  {
   "cell_type": "code",
   "execution_count": 64,
   "metadata": {},
   "outputs": [],
   "source": [
    "submit[\"pred\"] = prediccion[1]"
   ]
  },
  {
   "cell_type": "code",
   "execution_count": 65,
   "metadata": {},
   "outputs": [],
   "source": [
    "submit[\"SCORE\"] = submit[\"pred\"]"
   ]
  },
  {
   "cell_type": "code",
   "execution_count": 66,
   "metadata": {},
   "outputs": [],
   "source": [
    "submit.drop(\"pred\", axis = 1, inplace = True)"
   ]
  },
  {
   "cell_type": "code",
   "execution_count": 68,
   "metadata": {},
   "outputs": [
    {
     "data": {
      "text/plain": [
       "<matplotlib.axes._subplots.AxesSubplot at 0xefa670>"
      ]
     },
     "execution_count": 68,
     "metadata": {},
     "output_type": "execute_result"
    },
    {
     "data": {
      "image/png": "[encoded data removed]",
      "text/plain": [
       "<Figure size 432x288 with 1 Axes>"
      ]
     },
     "metadata": {
      "needs_background": "light"
     },
     "output_type": "display_data"
    }
   ],
   "source": [
    "submit['SCORE'].plot(kind='hist')"
   ]
  },
  {
   "cell_type": "code",
   "execution_count": 69,
   "metadata": {},
   "outputs": [],
   "source": [
    "submit.to_csv('../data/submit_random_forest_codificado.csv')"
   ]
  },
  {
   "cell_type": "code",
   "execution_count": 70,
   "metadata": {},
   "outputs": [],
   "source": [
    "#modelo.save_model(\"modelo1_xgb_codificado\")"
   ]
  },
  {
   "cell_type": "code",
   "execution_count": 71,
   "metadata": {},
   "outputs": [
    {
     "name": "stdout",
     "output_type": "stream",
     "text": [
      "Variable: cantidad_paginas_vistas_trimestre Importance: 0.1713081\n",
      "Variable: cant_paginas_vistas_en_mes_3 Importance: 0.1557786\n",
      "Variable: cant_paginas_vistas_en_mes_2 Importance: 0.1310222\n",
      "Variable: cant_paginas_vistas_en_mes_1 Importance: 0.1236926\n",
      "Variable: page_mas_vista_en_mes_2_3 Importance: 0.0613651\n",
      "Variable: cant_vistas_md_trimestre Importance: 0.0584804\n",
      "Variable: page_mas_vista_en_mes_3_4 Importance: 0.0502743\n",
      "Variable: page_mas_vista_en_mes_1_3 Importance: 0.0469419\n",
      "Variable: cant_vistas_no_md_trimestre Importance: 0.0452346\n",
      "Variable: page_mas_vista_en_mes_2_7 Importance: 0.0325832\n",
      "Variable: page_mas_vista_en_mes_1_5 Importance: 0.0240237\n",
      "Variable: page_mas_vista_en_mes_1_6 Importance: 0.0135583\n",
      "Variable: page_mas_vista_en_mes_3_7 Importance: 0.0101424\n",
      "Variable: page_mas_vista_en_mes_3_5 Importance: 0.0087006\n",
      "Variable: page_mas_vista_en_mes_1_7 Importance: 0.0074018\n",
      "Variable: page_mas_vista_en_mes_3_6 Importance: 0.0066862\n",
      "Variable: convirtio_multiple_en_mes_2 Importance: 0.0064078\n",
      "Variable: page_mas_vista_en_mes_2_6 Importance: 0.0060816\n",
      "Variable: page_mas_vista_en_mes_2_5 Importance: 0.0058725\n",
      "Variable: convirtio_en_mes_2   Importance: 0.0058008\n",
      "Variable: convirtio_en_mes_3   Importance: 0.0048791\n",
      "Variable: convirtio_multiple_en_mes_3 Importance: 0.004863\n",
      "Variable: page_mas_vista_en_mes_3_3 Importance: 0.0041882\n",
      "Variable: convirtio_multiple_en_mes_1 Importance: 0.0040124\n",
      "Variable: convirtio_en_mes_1   Importance: 0.0033184\n",
      "Variable: page_mas_vista_en_mes_2_4 Importance: 0.0025458\n",
      "Variable: page_mas_vista_en_mes_2_2 Importance: 0.0012876\n",
      "Variable: page_mas_vista_en_mes_3_2 Importance: 0.0007379\n",
      "Variable: page_mas_vista_en_mes_2_1 Importance: 0.000681\n",
      "Variable: page_mas_vista_en_mes_1_4 Importance: 0.000661\n",
      "Variable: page_mas_vista_en_mes_3_1 Importance: 0.0005996\n",
      "Variable: page_mas_vista_en_mes_1_1 Importance: 0.0004456\n",
      "Variable: page_mas_vista_en_mes_1_2 Importance: 0.0004236\n",
      "Variable: page_mas_vista_en_mes_1_0 Importance: 0.0\n",
      "Variable: page_mas_vista_en_mes_2_0 Importance: 0.0\n",
      "Variable: page_mas_vista_en_mes_3_0 Importance: 0.0\n"
     ]
    }
   ],
   "source": [
    "# Get numerical feature importances\n",
    "importances = list(modelo.feature_importances_)\n",
    "\n",
    "# List of tuples with variable and importance\n",
    "feature_importances = [(feature, round(importance, 7)) for feature, importance in zip(feature_list, importances)]\n",
    "\n",
    "# Sort the feature importances by most important first\n",
    "feature_importances = sorted(feature_importances, key = lambda x: x[1], reverse = True)\n",
    "\n",
    "# Print out the feature and importances \n",
    "[print('Variable: {:20} Importance: {}'.format(*pair)) for pair in feature_importances];"
   ]
  },
  {
   "cell_type": "code",
   "execution_count": 72,
   "metadata": {},
   "outputs": [
    {
     "data": {
      "text/plain": [
       "<matplotlib.axes._subplots.AxesSubplot at 0xf51550>"
      ]
     },
     "execution_count": 72,
     "metadata": {},
     "output_type": "execute_result"
    },
    {
     "data": {
      "image/png": "[encoded data removed]",
      "text/plain": [
       "<Figure size 432x288 with 1 Axes>"
      ]
     },
     "metadata": {
      "needs_background": "light"
     },
     "output_type": "display_data"
    }
   ],
   "source": [
    "feat_importances = pd.Series(modelo.feature_importances_, index=X.columns)\n",
    "feat_importances.nlargest(20).plot(kind='barh')"
   ]
  },
  {
   "cell_type": "code",
   "execution_count": null,
   "metadata": {},
   "outputs": [],
   "source": []
  }
 ],
 "metadata": {
  "kernelspec": {
   "display_name": "Python 3",
   "language": "python",
   "name": "python3"
  },
  "language_info": {
   "codemirror_mode": {
    "name": "ipython",
    "version": 3
   },
   "file_extension": ".py",
   "mimetype": "text/x-python",
   "name": "python",
   "nbconvert_exporter": "python",
   "pygments_lexer": "ipython3",
   "version": "3.6.8"
  }
 },
 "nbformat": 4,
 "nbformat_minor": 2
}
