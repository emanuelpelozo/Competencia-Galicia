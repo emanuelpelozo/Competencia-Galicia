{
 "cells": [
  {
   "cell_type": "code",
   "execution_count": 67,
   "metadata": {},
   "outputs": [],
   "source": [
    "import numpy as np\n",
    "import pandas as pd\n",
    "from sklearn.preprocessing import StandardScaler\n",
    "from sklearn.model_selection import train_test_split\n",
    "from keras import Sequential\n",
    "from keras.layers import Dense, Dropout\n",
    "from sklearn.metrics import roc_auc_score\n"
   ]
  },
  {
   "cell_type": "code",
   "execution_count": 68,
   "metadata": {},
   "outputs": [],
   "source": [
    "train = pd.read_pickle(\"../data/train_reducido_codificado.pkl\")\n",
    "pred = pd.read_pickle(\"../data/prediccion_reducido_codificado.pkl\")"
   ]
  },
  {
   "cell_type": "code",
   "execution_count": 69,
   "metadata": {},
   "outputs": [],
   "source": [
    "X= train.drop(\"convirtio\", axis = 1)\n",
    "y= train[\"convirtio\"]"
   ]
  },
  {
   "cell_type": "code",
   "execution_count": 70,
   "metadata": {},
   "outputs": [],
   "source": [
    "sc = StandardScaler()\n",
    "X = sc.fit_transform(X)\n"
   ]
  },
  {
   "cell_type": "code",
   "execution_count": 71,
   "metadata": {},
   "outputs": [],
   "source": [
    "X_train, X_test, y_train, y_test = train_test_split(X, y, test_size=0.3)"
   ]
  },
  {
   "cell_type": "code",
   "execution_count": 72,
   "metadata": {},
   "outputs": [],
   "source": [
    "dimension = X.shape"
   ]
  },
  {
   "cell_type": "markdown",
   "metadata": {},
   "source": [
    "classifier = Sequential()\n",
    "#First Hidden Layer\n",
    "classifier.add(Dense(32, activation='relu', kernel_initializer='random_normal', input_dim=dimension[1]))\n",
    "\n",
    "#Second  Hidden Layer\n",
    "classifier.add(Dense(4, activation='relu', kernel_initializer='random_normal'))\n",
    "\n",
    "#Output Layer\n",
    "classifier.add(Dense(1, activation='sigmoid', kernel_initializer='random_normal'))"
   ]
  },
  {
   "cell_type": "code",
   "execution_count": 89,
   "metadata": {},
   "outputs": [
    {
     "name": "stdout",
     "output_type": "stream",
     "text": [
      "Epoch 1/50\n",
      "24519/24519 [==============================] - 1s 51us/step - loss: 0.2198 - acc: 0.9471\n",
      "Epoch 2/50\n",
      "24519/24519 [==============================] - 0s 20us/step - loss: 0.1622 - acc: 0.9661\n",
      "Epoch 3/50\n",
      "24519/24519 [==============================] - 0s 20us/step - loss: 0.1571 - acc: 0.9666\n",
      "Epoch 4/50\n",
      "24519/24519 [==============================] - 0s 18us/step - loss: 0.1482 - acc: 0.9671\n",
      "Epoch 5/50\n",
      "24519/24519 [==============================] - 0s 19us/step - loss: 0.1445 - acc: 0.9669\n",
      "Epoch 6/50\n",
      "24519/24519 [==============================] - 0s 19us/step - loss: 0.1455 - acc: 0.9670\n",
      "Epoch 7/50\n",
      "24519/24519 [==============================] - 0s 19us/step - loss: 0.1442 - acc: 0.9675\n",
      "Epoch 8/50\n",
      "24519/24519 [==============================] - 0s 19us/step - loss: 0.1403 - acc: 0.9676\n",
      "Epoch 9/50\n",
      "24519/24519 [==============================] - 0s 18us/step - loss: 0.1409 - acc: 0.9670\n",
      "Epoch 10/50\n",
      "24519/24519 [==============================] - 0s 19us/step - loss: 0.1380 - acc: 0.9675\n",
      "Epoch 11/50\n",
      "24519/24519 [==============================] - 0s 19us/step - loss: 0.1386 - acc: 0.9675\n",
      "Epoch 12/50\n",
      "24519/24519 [==============================] - 0s 18us/step - loss: 0.1374 - acc: 0.9677\n",
      "Epoch 13/50\n",
      "24519/24519 [==============================] - 0s 18us/step - loss: 0.1377 - acc: 0.9676\n",
      "Epoch 14/50\n",
      "24519/24519 [==============================] - 0s 19us/step - loss: 0.1365 - acc: 0.9675\n",
      "Epoch 15/50\n",
      "24519/24519 [==============================] - 0s 20us/step - loss: 0.1357 - acc: 0.9676\n",
      "Epoch 16/50\n",
      "24519/24519 [==============================] - 0s 19us/step - loss: 0.1351 - acc: 0.9676\n",
      "Epoch 17/50\n",
      "24519/24519 [==============================] - 0s 20us/step - loss: 0.1342 - acc: 0.9676\n",
      "Epoch 18/50\n",
      "24519/24519 [==============================] - 0s 20us/step - loss: 0.1331 - acc: 0.9674\n",
      "Epoch 19/50\n",
      "24519/24519 [==============================] - 0s 19us/step - loss: 0.1347 - acc: 0.9676\n",
      "Epoch 20/50\n",
      "24519/24519 [==============================] - 0s 20us/step - loss: 0.1340 - acc: 0.9677\n",
      "Epoch 21/50\n",
      "24519/24519 [==============================] - 1s 23us/step - loss: 0.1345 - acc: 0.9676\n",
      "Epoch 22/50\n",
      "24519/24519 [==============================] - 1s 22us/step - loss: 0.1329 - acc: 0.9677\n",
      "Epoch 23/50\n",
      "24519/24519 [==============================] - 1s 22us/step - loss: 0.1326 - acc: 0.9677\n",
      "Epoch 24/50\n",
      "24519/24519 [==============================] - 0s 19us/step - loss: 0.1306 - acc: 0.9676\n",
      "Epoch 25/50\n",
      "24519/24519 [==============================] - 0s 19us/step - loss: 0.1320 - acc: 0.9676\n",
      "Epoch 26/50\n",
      "24519/24519 [==============================] - 1s 21us/step - loss: 0.1324 - acc: 0.9677\n",
      "Epoch 27/50\n",
      "24519/24519 [==============================] - 0s 20us/step - loss: 0.1321 - acc: 0.9677\n",
      "Epoch 28/50\n",
      "24519/24519 [==============================] - 0s 19us/step - loss: 0.1326 - acc: 0.9676\n",
      "Epoch 29/50\n",
      "24519/24519 [==============================] - 1s 22us/step - loss: 0.1314 - acc: 0.9676\n",
      "Epoch 30/50\n",
      "24519/24519 [==============================] - 1s 21us/step - loss: 0.1312 - acc: 0.9675\n",
      "Epoch 31/50\n",
      "24519/24519 [==============================] - 1s 21us/step - loss: 0.1307 - acc: 0.9675\n",
      "Epoch 32/50\n",
      "24519/24519 [==============================] - 0s 19us/step - loss: 0.1309 - acc: 0.9677\n",
      "Epoch 33/50\n",
      "24519/24519 [==============================] - 0s 19us/step - loss: 0.1313 - acc: 0.9676\n",
      "Epoch 34/50\n",
      "24519/24519 [==============================] - 0s 18us/step - loss: 0.1305 - acc: 0.9677\n",
      "Epoch 35/50\n",
      "24519/24519 [==============================] - 1s 22us/step - loss: 0.1304 - acc: 0.9676\n",
      "Epoch 36/50\n",
      "24519/24519 [==============================] - 0s 20us/step - loss: 0.1304 - acc: 0.9677\n",
      "Epoch 37/50\n",
      "24519/24519 [==============================] - 0s 19us/step - loss: 0.1307 - acc: 0.9677\n",
      "Epoch 38/50\n",
      "24519/24519 [==============================] - 0s 20us/step - loss: 0.1302 - acc: 0.9676\n",
      "Epoch 39/50\n",
      "24519/24519 [==============================] - 0s 20us/step - loss: 0.1306 - acc: 0.9677\n",
      "Epoch 40/50\n",
      "24519/24519 [==============================] - 0s 19us/step - loss: 0.1296 - acc: 0.9676\n",
      "Epoch 41/50\n",
      "24519/24519 [==============================] - 0s 20us/step - loss: 0.1289 - acc: 0.9677\n",
      "Epoch 42/50\n",
      "24519/24519 [==============================] - 0s 20us/step - loss: 0.1290 - acc: 0.9679\n",
      "Epoch 43/50\n",
      "24519/24519 [==============================] - 0s 19us/step - loss: 0.1293 - acc: 0.9675\n",
      "Epoch 44/50\n",
      "24519/24519 [==============================] - 0s 19us/step - loss: 0.1287 - acc: 0.9675\n",
      "Epoch 45/50\n",
      "24519/24519 [==============================] - 0s 20us/step - loss: 0.1291 - acc: 0.9675\n",
      "Epoch 46/50\n",
      "24519/24519 [==============================] - 0s 20us/step - loss: 0.1287 - acc: 0.9676\n",
      "Epoch 47/50\n",
      "24519/24519 [==============================] - 1s 20us/step - loss: 0.1293 - acc: 0.9676\n",
      "Epoch 48/50\n",
      "24519/24519 [==============================] - 0s 19us/step - loss: 0.1289 - acc: 0.9677\n",
      "Epoch 49/50\n",
      "24519/24519 [==============================] - 0s 20us/step - loss: 0.1282 - acc: 0.9675\n",
      "Epoch 50/50\n",
      "24519/24519 [==============================] - 0s 20us/step - loss: 0.1282 - acc: 0.9675\n"
     ]
    },
    {
     "data": {
      "text/plain": [
       "<keras.callbacks.History at 0x7f5067b8f6d8>"
      ]
     },
     "execution_count": 89,
     "metadata": {},
     "output_type": "execute_result"
    }
   ],
   "source": [
    "model = Sequential()\n",
    "model.add(Dense(64, input_dim=dimension[1], activation='relu'))\n",
    "model.add(Dropout(0.5))\n",
    "model.add(Dense(64, activation='relu'))\n",
    "model.add(Dropout(0.5))\n",
    "model.add(Dense(1, activation='sigmoid'))\n",
    "\n",
    "model.compile(loss='binary_crossentropy',\n",
    "              optimizer='Adam',\n",
    "              metrics=['accuracy'])\n",
    "\n",
    "model.fit(X_train, y_train,\n",
    "          epochs=50,\n",
    "          batch_size=128)\n"
   ]
  },
  {
   "cell_type": "code",
   "execution_count": 90,
   "metadata": {},
   "outputs": [
    {
     "name": "stdout",
     "output_type": "stream",
     "text": [
      "10509/10509 [==============================] - 0s 30us/step\n"
     ]
    }
   ],
   "source": [
    "score = model.evaluate(X_test, y_test, batch_size=128)"
   ]
  },
  {
   "cell_type": "code",
   "execution_count": 91,
   "metadata": {},
   "outputs": [
    {
     "data": {
      "text/plain": [
       "[0.1391142849090018, 0.9653630221771439]"
      ]
     },
     "execution_count": 91,
     "metadata": {},
     "output_type": "execute_result"
    }
   ],
   "source": [
    "score"
   ]
  },
  {
   "cell_type": "code",
   "execution_count": 92,
   "metadata": {},
   "outputs": [],
   "source": [
    "y_pred= model.predict(X_test)\n",
    "#y_pred =(y_pred>0.5)"
   ]
  },
  {
   "cell_type": "code",
   "execution_count": 93,
   "metadata": {},
   "outputs": [
    {
     "data": {
      "text/plain": [
       "0.7038785142900471"
      ]
     },
     "execution_count": 93,
     "metadata": {},
     "output_type": "execute_result"
    }
   ],
   "source": [
    "y_test_predictd = y_pred\n",
    "roc_auc_score(y_test, y_test_predictd)"
   ]
  },
  {
   "cell_type": "markdown",
   "metadata": {},
   "source": [
    "### Prediccion competencia"
   ]
  },
  {
   "cell_type": "code",
   "execution_count": 95,
   "metadata": {},
   "outputs": [],
   "source": [
    "pred = sc.transform(pred)"
   ]
  },
  {
   "cell_type": "code",
   "execution_count": 97,
   "metadata": {},
   "outputs": [],
   "source": [
    "prediccion = model.predict_proba(pred)"
   ]
  },
  {
   "cell_type": "code",
   "execution_count": 100,
   "metadata": {},
   "outputs": [],
   "source": [
    "prediccion =  pd.DataFrame(prediccion)"
   ]
  },
  {
   "cell_type": "code",
   "execution_count": 102,
   "metadata": {},
   "outputs": [],
   "source": [
    "submit = pd.read_csv(\"../data/sampleSubmission.csv\", index_col = 0)"
   ]
  },
  {
   "cell_type": "code",
   "execution_count": 105,
   "metadata": {},
   "outputs": [],
   "source": [
    "submit[\"pred\"] = prediccion[0]"
   ]
  },
  {
   "cell_type": "code",
   "execution_count": 106,
   "metadata": {},
   "outputs": [],
   "source": [
    "submit[\"SCORE\"] = submit[\"pred\"]"
   ]
  },
  {
   "cell_type": "code",
   "execution_count": 108,
   "metadata": {},
   "outputs": [],
   "source": [
    "submit.drop(\"pred\", axis = 1, inplace = True)"
   ]
  },
  {
   "cell_type": "code",
   "execution_count": 109,
   "metadata": {},
   "outputs": [],
   "source": [
    "submit.to_csv('../data/submit_keras_codificado.csv')"
   ]
  },
  {
   "cell_type": "code",
   "execution_count": 40,
   "metadata": {},
   "outputs": [],
   "source": [
    "modelo.save_model(\"modelo1_keras_codificado.bin\")"
   ]
  }
 ],
 "metadata": {
  "kernelspec": {
   "display_name": "Python 3",
   "language": "python",
   "name": "python3"
  },
  "language_info": {
   "codemirror_mode": {
    "name": "ipython",
    "version": 3
   },
   "file_extension": ".py",
   "mimetype": "text/x-python",
   "name": "python",
   "nbconvert_exporter": "python",
   "pygments_lexer": "ipython3",
   "version": "3.6.8"
  }
 },
 "nbformat": 4,
 "nbformat_minor": 2
}
