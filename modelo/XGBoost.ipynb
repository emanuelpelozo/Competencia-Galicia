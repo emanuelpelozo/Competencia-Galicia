{
 "cells": [
  {
   "cell_type": "code",
   "execution_count": 13,
   "metadata": {},
   "outputs": [],
   "source": [
    "import pandas as pd\n",
    "import numpy as np\n",
    "import matplotlib.pyplot as plt\n",
    "\n",
    "# metrics\n",
    "from sklearn.metrics import roc_auc_score\n",
    "from sklearn.model_selection import train_test_split, cross_val_score\n",
    "\n",
    "#xgb\n",
    "import xgboost as xgb"
   ]
  },
  {
   "cell_type": "markdown",
   "metadata": {},
   "source": [
    "## Entrenamiento"
   ]
  },
  {
   "cell_type": "code",
   "execution_count": 14,
   "metadata": {},
   "outputs": [],
   "source": [
    "train=pd.read_pickle(\"../data/train_completo.pkl\")#,dtype=tipos_conv)"
   ]
  },
  {
   "cell_type": "code",
   "execution_count": 15,
   "metadata": {},
   "outputs": [],
   "source": [
    "pred = pd.read_pickle(\"../data/prediccion_completo.pkl\")\n",
    "pred.sort_index(inplace = True)"
   ]
  },
  {
   "cell_type": "code",
   "execution_count": 16,
   "metadata": {},
   "outputs": [],
   "source": [
    "RANDOM_SEED = 12\n",
    "TEST_SIZE_PERCENT = 0.2"
   ]
  },
  {
   "cell_type": "code",
   "execution_count": 17,
   "metadata": {},
   "outputs": [],
   "source": [
    "y = train['convirtio']\n",
    "X = train.drop(axis=1, labels=['convirtio'])\n",
    "\n",
    "X_train, X_test, y_train, y_test = train_test_split(X, y, test_size=TEST_SIZE_PERCENT, random_state=RANDOM_SEED)\n",
    "\n",
    "feature_list = list(X.columns)"
   ]
  },
  {
   "cell_type": "code",
   "execution_count": 18,
   "metadata": {},
   "outputs": [],
   "source": [
    "modelo = xgb.XGBClassifier(learning_rate=0.05, n_estimators=130, max_depth=3,\n",
    " min_child_weight=5, gamma=0.3, subsample=0.7, colsample_bytree=0.6, reg_alpha =0.1,seed=RANDOM_SEED)"
   ]
  },
  {
   "cell_type": "code",
   "execution_count": 19,
   "metadata": {},
   "outputs": [
    {
     "data": {
      "text/plain": [
       "XGBClassifier(base_score=0.5, booster='gbtree', colsample_bylevel=1,\n",
       "              colsample_bynode=1, colsample_bytree=0.6, gamma=0.3,\n",
       "              learning_rate=0.05, max_delta_step=0, max_depth=3,\n",
       "              min_child_weight=5, missing=None, n_estimators=130, n_jobs=1,\n",
       "              nthread=None, objective='binary:logistic', random_state=0,\n",
       "              reg_alpha=0.1, reg_lambda=1, scale_pos_weight=1, seed=12,\n",
       "              silent=None, subsample=0.7, verbosity=1)"
      ]
     },
     "execution_count": 19,
     "metadata": {},
     "output_type": "execute_result"
    }
   ],
   "source": [
    "# Training\n",
    "modelo.fit(X_train, y_train)"
   ]
  },
  {
   "cell_type": "code",
   "execution_count": 20,
   "metadata": {},
   "outputs": [],
   "source": [
    "# Predict value\n",
    "pred_test = modelo.predict_proba(X_test)"
   ]
  },
  {
   "cell_type": "code",
   "execution_count": 21,
   "metadata": {},
   "outputs": [
    {
     "data": {
      "text/plain": [
       "0.7149338528177868"
      ]
     },
     "execution_count": 21,
     "metadata": {},
     "output_type": "execute_result"
    }
   ],
   "source": [
    "y_test_predictd = pred_test[:, 1]\n",
    "roc_auc_score(y_test, y_test_predictd)"
   ]
  },
  {
   "cell_type": "code",
   "execution_count": 22,
   "metadata": {},
   "outputs": [
    {
     "data": {
      "text/plain": [
       "0.9667427918926634"
      ]
     },
     "execution_count": 22,
     "metadata": {},
     "output_type": "execute_result"
    }
   ],
   "source": [
    "modelo.score(X_test, y_test)"
   ]
  },
  {
   "cell_type": "markdown",
   "metadata": {},
   "source": [
    "### Predecir competencia"
   ]
  },
  {
   "cell_type": "code",
   "execution_count": 37,
   "metadata": {},
   "outputs": [],
   "source": [
    "prediccion = modelo.predict_proba(pred)"
   ]
  },
  {
   "cell_type": "code",
   "execution_count": 38,
   "metadata": {},
   "outputs": [],
   "source": [
    "prediccion =  pd.DataFrame(prediccion)[1].to_frame()"
   ]
  },
  {
   "cell_type": "code",
   "execution_count": 47,
   "metadata": {},
   "outputs": [],
   "source": [
    "submit = pd.read_csv(\"../data/sampleSubmission.csv\", index_col = 0)"
   ]
  },
  {
   "cell_type": "code",
   "execution_count": 48,
   "metadata": {},
   "outputs": [],
   "source": [
    "submit[\"pred\"] = prediccion[1]"
   ]
  },
  {
   "cell_type": "code",
   "execution_count": 49,
   "metadata": {},
   "outputs": [],
   "source": [
    "submit[\"SCORE\"] = submit[\"pred\"]"
   ]
  },
  {
   "cell_type": "code",
   "execution_count": 52,
   "metadata": {},
   "outputs": [],
   "source": [
    "submit.drop(\"pred\", axis = 1, inplace = True)"
   ]
  },
  {
   "cell_type": "code",
   "execution_count": 54,
   "metadata": {},
   "outputs": [],
   "source": [
    "submit.to_csv('../data/submit_xgb1.csv')"
   ]
  },
  {
   "cell_type": "code",
   "execution_count": 55,
   "metadata": {},
   "outputs": [],
   "source": [
    "modelo.save_model(\"modelo1_xgb\")"
   ]
  },
  {
   "cell_type": "code",
   "execution_count": 56,
   "metadata": {},
   "outputs": [
    {
     "name": "stdout",
     "output_type": "stream",
     "text": [
      "Variable: convirtio_en_mes_3   Importance: 0.14674590528011322\n",
      "Variable: convirtio_multiple_en_mes_3 Importance: 0.14297929406166077\n",
      "Variable: convirtio_en_mes_2   Importance: 0.13624359667301178\n",
      "Variable: convirtio_multiple_en_mes_2 Importance: 0.09728570282459259\n",
      "Variable: convirtio_en_mes_1   Importance: 0.09682449698448181\n",
      "Variable: convirtio_multiple_en_mes_1 Importance: 0.08815179765224457\n",
      "Variable: cant_paginas_vistas_en_mes_3 Importance: 0.06747189909219742\n",
      "Variable: cantidad_paginas_vistas_trimestre Importance: 0.04919759929180145\n",
      "Variable: cant_paginas_vistas_en_mes_2 Importance: 0.04373659938573837\n",
      "Variable: page_mas_vista_en_mes_1 Importance: 0.04039499908685684\n",
      "Variable: cant_paginas_vistas_en_mes_1 Importance: 0.036765001714229584\n",
      "Variable: page_mas_vista_en_mes_3 Importance: 0.03228599950671196\n",
      "Variable: page_mas_vista_en_mes_2 Importance: 0.021917300298810005\n"
     ]
    }
   ],
   "source": [
    "# Get numerical feature importances\n",
    "importances = list(modelo.feature_importances_)\n",
    "\n",
    "# List of tuples with variable and importance\n",
    "feature_importances = [(feature, round(importance, 7)) for feature, importance in zip(feature_list, importances)]\n",
    "\n",
    "# Sort the feature importances by most important first\n",
    "feature_importances = sorted(feature_importances, key = lambda x: x[1], reverse = True)\n",
    "\n",
    "# Print out the feature and importances \n",
    "[print('Variable: {:20} Importance: {}'.format(*pair)) for pair in feature_importances];"
   ]
  },
  {
   "cell_type": "code",
   "execution_count": 63,
   "metadata": {},
   "outputs": [
    {
     "data": {
      "text/plain": [
       "<matplotlib.axes._subplots.AxesSubplot at 0x7f5d347fada0>"
      ]
     },
     "execution_count": 63,
     "metadata": {},
     "output_type": "execute_result"
    },
    {
     "data": {
      "image/png": "[encoded data removed]",
      "text/plain": [
       "<Figure size 432x288 with 1 Axes>"
      ]
     },
     "metadata": {
      "needs_background": "light"
     },
     "output_type": "display_data"
    }
   ],
   "source": [
    "xgb.plot_importance(modelo)"
   ]
  },
  {
   "cell_type": "markdown",
   "metadata": {},
   "source": [
    "### Entrenando con todo"
   ]
  },
  {
   "cell_type": "code",
   "execution_count": 64,
   "metadata": {},
   "outputs": [
    {
     "data": {
      "text/plain": [
       "XGBClassifier(base_score=0.5, booster='gbtree', colsample_bylevel=1,\n",
       "              colsample_bynode=1, colsample_bytree=0.6, gamma=0.3,\n",
       "              learning_rate=0.05, max_delta_step=0, max_depth=3,\n",
       "              min_child_weight=5, missing=None, n_estimators=130, n_jobs=1,\n",
       "              nthread=None, objective='binary:logistic', random_state=0,\n",
       "              reg_alpha=0.1, reg_lambda=1, scale_pos_weight=1, seed=12,\n",
       "              silent=None, subsample=0.7, verbosity=1)"
      ]
     },
     "execution_count": 64,
     "metadata": {},
     "output_type": "execute_result"
    }
   ],
   "source": [
    "modelo.fit(X, y)\n"
   ]
  },
  {
   "cell_type": "code",
   "execution_count": 65,
   "metadata": {},
   "outputs": [],
   "source": [
    "prediccion = modelo.predict_proba(pred)"
   ]
  },
  {
   "cell_type": "code",
   "execution_count": 66,
   "metadata": {},
   "outputs": [],
   "source": [
    "prediccion =  pd.DataFrame(prediccion)[1].to_frame()"
   ]
  },
  {
   "cell_type": "code",
   "execution_count": 67,
   "metadata": {},
   "outputs": [],
   "source": [
    "submit = pd.read_csv(\"../data/sampleSubmission.csv\", index_col = 0)"
   ]
  },
  {
   "cell_type": "code",
   "execution_count": 68,
   "metadata": {},
   "outputs": [],
   "source": [
    "submit[\"pred\"] = prediccion[1]"
   ]
  },
  {
   "cell_type": "code",
   "execution_count": 69,
   "metadata": {},
   "outputs": [],
   "source": [
    "submit[\"SCORE\"] = submit[\"pred\"]"
   ]
  },
  {
   "cell_type": "code",
   "execution_count": 70,
   "metadata": {},
   "outputs": [],
   "source": [
    "submit.drop(\"pred\", axis = 1, inplace = True)"
   ]
  },
  {
   "cell_type": "code",
   "execution_count": 72,
   "metadata": {},
   "outputs": [],
   "source": [
    "submit.to_csv('../data/submit_xgb_completo.csv')"
   ]
  },
  {
   "cell_type": "code",
   "execution_count": 73,
   "metadata": {},
   "outputs": [],
   "source": [
    "modelo.save_model(\"modelo_xgb_completo\")"
   ]
  },
  {
   "cell_type": "code",
   "execution_count": 74,
   "metadata": {},
   "outputs": [
    {
     "name": "stdout",
     "output_type": "stream",
     "text": [
      "Variable: convirtio_multiple_en_mes_2 Importance: 0.15557439625263214\n",
      "Variable: convirtio_multiple_en_mes_3 Importance: 0.1500099003314972\n",
      "Variable: convirtio_en_mes_3   Importance: 0.1391575038433075\n",
      "Variable: convirtio_en_mes_2   Importance: 0.1127488985657692\n",
      "Variable: convirtio_en_mes_1   Importance: 0.10570280253887177\n",
      "Variable: convirtio_multiple_en_mes_1 Importance: 0.10157670080661774\n",
      "Variable: cant_paginas_vistas_en_mes_3 Importance: 0.055962201207876205\n",
      "Variable: cantidad_paginas_vistas_trimestre Importance: 0.0426178015768528\n",
      "Variable: cant_paginas_vistas_en_mes_1 Importance: 0.031894098967313766\n",
      "Variable: cant_paginas_vistas_en_mes_2 Importance: 0.02951589971780777\n",
      "Variable: page_mas_vista_en_mes_1 Importance: 0.027621200308203697\n",
      "Variable: page_mas_vista_en_mes_3 Importance: 0.026491999626159668\n",
      "Variable: page_mas_vista_en_mes_2 Importance: 0.02112649939954281\n"
     ]
    }
   ],
   "source": [
    "# Get numerical feature importances\n",
    "importances = list(modelo.feature_importances_)\n",
    "\n",
    "# List of tuples with variable and importance\n",
    "feature_importances = [(feature, round(importance, 7)) for feature, importance in zip(feature_list, importances)]\n",
    "\n",
    "# Sort the feature importances by most important first\n",
    "feature_importances = sorted(feature_importances, key = lambda x: x[1], reverse = True)\n",
    "\n",
    "# Print out the feature and importances \n",
    "[print('Variable: {:20} Importance: {}'.format(*pair)) for pair in feature_importances];"
   ]
  },
  {
   "cell_type": "code",
   "execution_count": 75,
   "metadata": {},
   "outputs": [
    {
     "data": {
      "text/plain": [
       "<matplotlib.axes._subplots.AxesSubplot at 0x7f5d347fa630>"
      ]
     },
     "execution_count": 75,
     "metadata": {},
     "output_type": "execute_result"
    },
    {
     "data": {
      "image/png": "[encoded data removed]",
      "text/plain": [
       "<Figure size 432x288 with 1 Axes>"
      ]
     },
     "metadata": {
      "needs_background": "light"
     },
     "output_type": "display_data"
    }
   ],
   "source": [
    "xgb.plot_importance(modelo)"
   ]
  },
  {
   "cell_type": "markdown",
   "metadata": {},
   "source": [
    "---"
   ]
  },
  {
   "cell_type": "markdown",
   "metadata": {},
   "source": [
    "---"
   ]
  },
  {
   "cell_type": "markdown",
   "metadata": {},
   "source": [
    "### Binary encoding"
   ]
  },
  {
   "cell_type": "code",
   "execution_count": 23,
   "metadata": {},
   "outputs": [],
   "source": [
    "train=pd.read_pickle(\"../data/train_codificado.pkl\")#,dtype=tipos_conv)"
   ]
  },
  {
   "cell_type": "code",
   "execution_count": 24,
   "metadata": {},
   "outputs": [],
   "source": [
    "pred = pd.read_pickle(\"../data/prediccion_codificado.pkl\")\n",
    "pred.sort_index(inplace = True)"
   ]
  },
  {
   "cell_type": "code",
   "execution_count": 25,
   "metadata": {},
   "outputs": [],
   "source": [
    "RANDOM_SEED = 12\n",
    "TEST_SIZE_PERCENT = 0.2"
   ]
  },
  {
   "cell_type": "code",
   "execution_count": 26,
   "metadata": {},
   "outputs": [],
   "source": [
    "y = train['convirtio']\n",
    "X = train.drop(axis=1, labels=['convirtio'])\n",
    "\n",
    "X_train, X_test, y_train, y_test = train_test_split(X, y, test_size=TEST_SIZE_PERCENT, random_state=RANDOM_SEED)\n",
    "\n",
    "feature_list = list(X.columns)"
   ]
  },
  {
   "cell_type": "code",
   "execution_count": 27,
   "metadata": {},
   "outputs": [],
   "source": [
    "modelo = xgb.XGBClassifier(learning_rate=0.05, n_estimators=130, max_depth=3,\n",
    " min_child_weight=5, gamma=0.3, subsample=0.7, colsample_bytree=0.6, reg_alpha =0.1,seed=RANDOM_SEED)"
   ]
  },
  {
   "cell_type": "code",
   "execution_count": 28,
   "metadata": {},
   "outputs": [
    {
     "data": {
      "text/plain": [
       "XGBClassifier(base_score=0.5, booster='gbtree', colsample_bylevel=1,\n",
       "              colsample_bynode=1, colsample_bytree=0.6, gamma=0.3,\n",
       "              learning_rate=0.05, max_delta_step=0, max_depth=3,\n",
       "              min_child_weight=5, missing=None, n_estimators=130, n_jobs=1,\n",
       "              nthread=None, objective='binary:logistic', random_state=0,\n",
       "              reg_alpha=0.1, reg_lambda=1, scale_pos_weight=1, seed=12,\n",
       "              silent=None, subsample=0.7, verbosity=1)"
      ]
     },
     "execution_count": 28,
     "metadata": {},
     "output_type": "execute_result"
    }
   ],
   "source": [
    "# Training\n",
    "modelo.fit(X_train, y_train)"
   ]
  },
  {
   "cell_type": "code",
   "execution_count": 29,
   "metadata": {},
   "outputs": [],
   "source": [
    "# Predict value\n",
    "pred_test = modelo.predict_proba(X_test)"
   ]
  },
  {
   "cell_type": "code",
   "execution_count": 30,
   "metadata": {},
   "outputs": [
    {
     "data": {
      "text/plain": [
       "0.7161700895088373"
      ]
     },
     "execution_count": 30,
     "metadata": {},
     "output_type": "execute_result"
    }
   ],
   "source": [
    "y_test_predictd = pred_test[:, 1]\n",
    "roc_auc_score(y_test, y_test_predictd)"
   ]
  },
  {
   "cell_type": "code",
   "execution_count": 31,
   "metadata": {},
   "outputs": [
    {
     "data": {
      "text/plain": [
       "0.9667427918926634"
      ]
     },
     "execution_count": 31,
     "metadata": {},
     "output_type": "execute_result"
    }
   ],
   "source": [
    "modelo.score(X_test, y_test)"
   ]
  },
  {
   "cell_type": "code",
   "execution_count": 32,
   "metadata": {},
   "outputs": [
    {
     "data": {
      "text/plain": [
       "XGBClassifier(base_score=0.5, booster='gbtree', colsample_bylevel=1,\n",
       "              colsample_bynode=1, colsample_bytree=0.6, gamma=0.3,\n",
       "              learning_rate=0.05, max_delta_step=0, max_depth=3,\n",
       "              min_child_weight=5, missing=None, n_estimators=130, n_jobs=1,\n",
       "              nthread=None, objective='binary:logistic', random_state=0,\n",
       "              reg_alpha=0.1, reg_lambda=1, scale_pos_weight=1, seed=12,\n",
       "              silent=None, subsample=0.7, verbosity=1)"
      ]
     },
     "execution_count": 32,
     "metadata": {},
     "output_type": "execute_result"
    }
   ],
   "source": [
    "modelo.fit(X, y)"
   ]
  },
  {
   "cell_type": "markdown",
   "metadata": {},
   "source": [
    "### Predecir competencia"
   ]
  },
  {
   "cell_type": "code",
   "execution_count": 33,
   "metadata": {},
   "outputs": [],
   "source": [
    "prediccion = modelo.predict_proba(pred)"
   ]
  },
  {
   "cell_type": "code",
   "execution_count": 34,
   "metadata": {},
   "outputs": [],
   "source": [
    "prediccion =  pd.DataFrame(prediccion)[1].to_frame()"
   ]
  },
  {
   "cell_type": "code",
   "execution_count": 35,
   "metadata": {},
   "outputs": [],
   "source": [
    "submit = pd.read_csv(\"../data/sampleSubmission.csv\", index_col = 0)"
   ]
  },
  {
   "cell_type": "code",
   "execution_count": 36,
   "metadata": {},
   "outputs": [],
   "source": [
    "submit[\"pred\"] = prediccion[1]"
   ]
  },
  {
   "cell_type": "code",
   "execution_count": 37,
   "metadata": {},
   "outputs": [],
   "source": [
    "submit[\"SCORE\"] = submit[\"pred\"]"
   ]
  },
  {
   "cell_type": "code",
   "execution_count": 38,
   "metadata": {},
   "outputs": [],
   "source": [
    "submit.drop(\"pred\", axis = 1, inplace = True)"
   ]
  },
  {
   "cell_type": "code",
   "execution_count": 39,
   "metadata": {},
   "outputs": [],
   "source": [
    "submit.to_csv('../data/submit_xgb_codificado.csv')"
   ]
  },
  {
   "cell_type": "code",
   "execution_count": 40,
   "metadata": {},
   "outputs": [],
   "source": [
    "modelo.save_model(\"modelo1_xgb_codificado\")"
   ]
  },
  {
   "cell_type": "code",
   "execution_count": 41,
   "metadata": {},
   "outputs": [
    {
     "name": "stdout",
     "output_type": "stream",
     "text": [
      "Variable: convirtio_en_trimestre_actual Importance: 0.14989730715751648\n",
      "Variable: convirtio_en_mes_3   Importance: 0.0684145987033844\n",
      "Variable: convirtio_multiple_en_mes_3 Importance: 0.05623859912157059\n",
      "Variable: convirtio_multiple_en_mes_1 Importance: 0.049103401601314545\n",
      "Variable: convirtio_en_mes_2   Importance: 0.0412495993077755\n",
      "Variable: vistas_site_top_mes_3 Importance: 0.034290898591279984\n",
      "Variable: convirtio_en_mes_1   Importance: 0.03241730108857155\n",
      "Variable: convirtio_multiple_en_mes_2 Importance: 0.02756739966571331\n",
      "Variable: page_top_en_mes_1_8  Importance: 0.02598310075700283\n",
      "Variable: sitio_mas_visitado_en_mes_3_2 Importance: 0.02463640086352825\n",
      "Variable: cant_vistas_no_md_trimestre Importance: 0.023545699194073677\n",
      "Variable: cant_paginas_vistas_en_mes_3 Importance: 0.02297070063650608\n",
      "Variable: sitio_mas_visitado_en_mes_3_3 Importance: 0.02280459925532341\n",
      "Variable: cantidad_paginas_vistas_trimestre Importance: 0.02268950082361698\n",
      "Variable: busquedas_termino_top_mes_2 Importance: 0.02015870064496994\n",
      "Variable: sitio_mas_visitado_en_mes_1_2 Importance: 0.019953599199652672\n",
      "Variable: page_top_en_mes_1_4  Importance: 0.019754700362682343\n",
      "Variable: busquedas_termino_top_mes_3 Importance: 0.019057100638747215\n",
      "Variable: page_top_en_mes_1_7  Importance: 0.019041400402784348\n",
      "Variable: cant_paginas_vistas_en_mes_2 Importance: 0.018934499472379684\n",
      "Variable: page_top_en_mes_3_7  Importance: 0.01879430003464222\n",
      "Variable: page_top_en_mes_3_4  Importance: 0.017486199736595154\n",
      "Variable: cant_vistas_md_trimestre Importance: 0.0174189992249012\n",
      "Variable: vistas_site_top_mes_1 Importance: 0.01732880063354969\n",
      "Variable: vistas_page_top_en_mes_1 Importance: 0.016851600259542465\n",
      "Variable: sitio_mas_visitado_en_mes_2_3 Importance: 0.01619029976427555\n",
      "Variable: vistas_site_top_mes_2 Importance: 0.015363600105047226\n",
      "Variable: vistas_page_top_en_mes_3 Importance: 0.014782300218939781\n",
      "Variable: vistas_page_top_en_mes_2 Importance: 0.014496799558401108\n",
      "Variable: cant_paginas_vistas_en_mes_1 Importance: 0.014304899610579014\n",
      "Variable: page_top_en_mes_1_5  Importance: 0.014182999730110168\n",
      "Variable: page_top_en_mes_2_5  Importance: 0.014093300327658653\n",
      "Variable: page_top_en_mes_2_6  Importance: 0.013054899871349335\n",
      "Variable: page_top_en_mes_3_8  Importance: 0.012730400077998638\n",
      "Variable: page_top_en_mes_3_5  Importance: 0.012362300418317318\n",
      "Variable: page_top_en_mes_2_7  Importance: 0.01218630000948906\n",
      "Variable: page_top_en_mes_2_4  Importance: 0.01187719963490963\n",
      "Variable: page_top_en_mes_1_6  Importance: 0.010213400237262249\n",
      "Variable: busquedas_termino_top_mes_1 Importance: 0.00981760025024414\n",
      "Variable: page_top_en_mes_3_6  Importance: 0.006748899817466736\n",
      "Variable: page_top_en_mes_2_3  Importance: 0.0010052999714389443\n",
      "Variable: page_top_en_mes_1_0  Importance: 0.0\n",
      "Variable: page_top_en_mes_1_1  Importance: 0.0\n",
      "Variable: page_top_en_mes_1_2  Importance: 0.0\n",
      "Variable: page_top_en_mes_1_3  Importance: 0.0\n",
      "Variable: page_top_en_mes_2_0  Importance: 0.0\n",
      "Variable: page_top_en_mes_2_1  Importance: 0.0\n",
      "Variable: page_top_en_mes_2_2  Importance: 0.0\n",
      "Variable: page_top_en_mes_2_8  Importance: 0.0\n",
      "Variable: page_top_en_mes_3_0  Importance: 0.0\n",
      "Variable: page_top_en_mes_3_1  Importance: 0.0\n",
      "Variable: page_top_en_mes_3_2  Importance: 0.0\n",
      "Variable: page_top_en_mes_3_3  Importance: 0.0\n",
      "Variable: sitio_mas_visitado_en_mes_1_0 Importance: 0.0\n",
      "Variable: sitio_mas_visitado_en_mes_1_1 Importance: 0.0\n",
      "Variable: sitio_mas_visitado_en_mes_1_3 Importance: 0.0\n",
      "Variable: sitio_mas_visitado_en_mes_2_0 Importance: 0.0\n",
      "Variable: sitio_mas_visitado_en_mes_2_1 Importance: 0.0\n",
      "Variable: sitio_mas_visitado_en_mes_2_2 Importance: 0.0\n",
      "Variable: sitio_mas_visitado_en_mes_3_0 Importance: 0.0\n",
      "Variable: sitio_mas_visitado_en_mes_3_1 Importance: 0.0\n",
      "Variable: termino_top_en_mes_1_0 Importance: 0.0\n",
      "Variable: termino_top_en_mes_1_1 Importance: 0.0\n",
      "Variable: termino_top_en_mes_2_0 Importance: 0.0\n",
      "Variable: termino_top_en_mes_2_1 Importance: 0.0\n",
      "Variable: termino_top_en_mes_3_0 Importance: 0.0\n",
      "Variable: termino_top_en_mes_3_1 Importance: 0.0\n"
     ]
    }
   ],
   "source": [
    "# Get numerical feature importances\n",
    "importances = list(modelo.feature_importances_)\n",
    "\n",
    "# List of tuples with variable and importance\n",
    "feature_importances = [(feature, round(importance, 7)) for feature, importance in zip(feature_list, importances)]\n",
    "\n",
    "# Sort the feature importances by most important first\n",
    "feature_importances = sorted(feature_importances, key = lambda x: x[1], reverse = True)\n",
    "\n",
    "# Print out the feature and importances \n",
    "[print('Variable: {:20} Importance: {}'.format(*pair)) for pair in feature_importances];"
   ]
  },
  {
   "cell_type": "code",
   "execution_count": 42,
   "metadata": {},
   "outputs": [
    {
     "data": {
      "text/plain": [
       "<matplotlib.axes._subplots.AxesSubplot at 0x7f629e32a400>"
      ]
     },
     "execution_count": 42,
     "metadata": {},
     "output_type": "execute_result"
    },
    {
     "data": {
      "image/png": "[encoded data removed]",
      "text/plain": [
       "<Figure size 432x288 with 1 Axes>"
      ]
     },
     "metadata": {
      "needs_background": "light"
     },
     "output_type": "display_data"
    }
   ],
   "source": [
    "xgb.plot_importance(modelo)"
   ]
  },
  {
   "cell_type": "markdown",
   "metadata": {},
   "source": [
    "### Train codificado balanceado"
   ]
  },
  {
   "cell_type": "code",
   "execution_count": 56,
   "metadata": {},
   "outputs": [],
   "source": [
    "train=pd.read_pickle(\"../data/train_codificado.pkl\")#,dtype=tipos_conv)"
   ]
  },
  {
   "cell_type": "code",
   "execution_count": 57,
   "metadata": {},
   "outputs": [],
   "source": [
    "pred = pd.read_pickle(\"../data/prediccion_codificado.pkl\")\n",
    "pred.sort_index(inplace = True)"
   ]
  },
  {
   "cell_type": "code",
   "execution_count": 62,
   "metadata": {},
   "outputs": [
    {
     "data": {
      "text/plain": [
       "35028"
      ]
     },
     "execution_count": 62,
     "metadata": {},
     "output_type": "execute_result"
    }
   ],
   "source": [
    "len(train)"
   ]
  },
  {
   "cell_type": "code",
   "execution_count": 64,
   "metadata": {},
   "outputs": [],
   "source": [
    "convirtio = train [train[\"convirtio\"] == 1]"
   ]
  },
  {
   "cell_type": "code",
   "execution_count": 81,
   "metadata": {},
   "outputs": [],
   "source": [
    "no_convirtio = train [train[\"convirtio\"] != 1]"
   ]
  },
  {
   "cell_type": "code",
   "execution_count": 82,
   "metadata": {},
   "outputs": [
    {
     "data": {
      "text/plain": [
       "1157"
      ]
     },
     "execution_count": 82,
     "metadata": {},
     "output_type": "execute_result"
    }
   ],
   "source": [
    "len(convirtio)"
   ]
  },
  {
   "cell_type": "code",
   "execution_count": 83,
   "metadata": {},
   "outputs": [
    {
     "data": {
      "text/plain": [
       "33871"
      ]
     },
     "execution_count": 83,
     "metadata": {},
     "output_type": "execute_result"
    }
   ],
   "source": [
    "len(no_convirtio)"
   ]
  },
  {
   "cell_type": "code",
   "execution_count": 84,
   "metadata": {},
   "outputs": [],
   "source": [
    "no_convirtio = no_convirtio.sample(15000, random_state = 10)"
   ]
  },
  {
   "cell_type": "code",
   "execution_count": 85,
   "metadata": {},
   "outputs": [],
   "source": [
    "train_balanceado = convirtio.append(no_convirtio)"
   ]
  },
  {
   "cell_type": "code",
   "execution_count": 86,
   "metadata": {},
   "outputs": [],
   "source": [
    "RANDOM_SEED = 12\n",
    "TEST_SIZE_PERCENT = 0.2"
   ]
  },
  {
   "cell_type": "code",
   "execution_count": 87,
   "metadata": {},
   "outputs": [],
   "source": [
    "y = train_balanceado['convirtio']\n",
    "X = train_balanceado.drop(axis=1, labels=['convirtio'])\n",
    "\n",
    "X_train, X_test, y_train, y_test = train_test_split(X, y, test_size=TEST_SIZE_PERCENT, random_state=RANDOM_SEED)\n",
    "\n",
    "feature_list = list(X.columns)"
   ]
  },
  {
   "cell_type": "code",
   "execution_count": 88,
   "metadata": {},
   "outputs": [],
   "source": [
    "modelo = xgb.XGBClassifier(learning_rate=0.05, n_estimators=130, max_depth=3,\n",
    " min_child_weight=5, gamma=0.3, subsample=0.7, colsample_bytree=0.6, reg_alpha =0.1,seed=RANDOM_SEED)"
   ]
  },
  {
   "cell_type": "code",
   "execution_count": 89,
   "metadata": {},
   "outputs": [
    {
     "data": {
      "text/plain": [
       "XGBClassifier(base_score=0.5, booster='gbtree', colsample_bylevel=1,\n",
       "              colsample_bynode=1, colsample_bytree=0.6, gamma=0.3,\n",
       "              learning_rate=0.05, max_delta_step=0, max_depth=3,\n",
       "              min_child_weight=5, missing=None, n_estimators=130, n_jobs=1,\n",
       "              nthread=None, objective='binary:logistic', random_state=0,\n",
       "              reg_alpha=0.1, reg_lambda=1, scale_pos_weight=1, seed=12,\n",
       "              silent=None, subsample=0.7, verbosity=1)"
      ]
     },
     "execution_count": 89,
     "metadata": {},
     "output_type": "execute_result"
    }
   ],
   "source": [
    "# Training\n",
    "modelo.fit(X_train, y_train)"
   ]
  },
  {
   "cell_type": "code",
   "execution_count": 90,
   "metadata": {},
   "outputs": [],
   "source": [
    "# Predict value\n",
    "pred_test = modelo.predict_proba(X_test)"
   ]
  },
  {
   "cell_type": "code",
   "execution_count": 91,
   "metadata": {},
   "outputs": [
    {
     "data": {
      "text/plain": [
       "0.5362207024820593"
      ]
     },
     "execution_count": 91,
     "metadata": {},
     "output_type": "execute_result"
    }
   ],
   "source": [
    "y_test_predictd = pred_test[:, 1]\n",
    "roc_auc_score(y_test, y_test_predictd)"
   ]
  },
  {
   "cell_type": "code",
   "execution_count": 80,
   "metadata": {},
   "outputs": [
    {
     "data": {
      "text/plain": [
       "0.9387996219281664"
      ]
     },
     "execution_count": 80,
     "metadata": {},
     "output_type": "execute_result"
    }
   ],
   "source": [
    "modelo.score(X_test, y_test)"
   ]
  },
  {
   "cell_type": "markdown",
   "metadata": {},
   "source": [
    "### Predecir competencia"
   ]
  },
  {
   "cell_type": "code",
   "execution_count": 35,
   "metadata": {},
   "outputs": [],
   "source": [
    "prediccion = modelo.predict_proba(pred)"
   ]
  },
  {
   "cell_type": "code",
   "execution_count": 36,
   "metadata": {},
   "outputs": [],
   "source": [
    "prediccion =  pd.DataFrame(prediccion)[1].to_frame()"
   ]
  },
  {
   "cell_type": "code",
   "execution_count": 37,
   "metadata": {},
   "outputs": [],
   "source": [
    "submit = pd.read_csv(\"../data/sampleSubmission.csv\", index_col = 0)"
   ]
  },
  {
   "cell_type": "code",
   "execution_count": 38,
   "metadata": {},
   "outputs": [],
   "source": [
    "submit[\"pred\"] = prediccion[1]"
   ]
  },
  {
   "cell_type": "code",
   "execution_count": 39,
   "metadata": {},
   "outputs": [],
   "source": [
    "submit[\"SCORE\"] = submit[\"pred\"]"
   ]
  },
  {
   "cell_type": "code",
   "execution_count": 40,
   "metadata": {},
   "outputs": [],
   "source": [
    "submit.drop(\"pred\", axis = 1, inplace = True)"
   ]
  },
  {
   "cell_type": "code",
   "execution_count": 41,
   "metadata": {},
   "outputs": [],
   "source": [
    "submit.to_csv('../data/submit_xgb_codificado.csv')"
   ]
  },
  {
   "cell_type": "code",
   "execution_count": 42,
   "metadata": {},
   "outputs": [],
   "source": [
    "modelo.save_model(\"modelo1_xgb_codificado\")"
   ]
  },
  {
   "cell_type": "code",
   "execution_count": 43,
   "metadata": {},
   "outputs": [
    {
     "name": "stdout",
     "output_type": "stream",
     "text": [
      "Variable: page_top_en_mes_3_7  Importance: 0.04911259934306145\n",
      "Variable: page_top_en_mes_1_7  Importance: 0.04375569894909859\n",
      "Variable: page_top_en_mes_3_5  Importance: 0.042565200477838516\n",
      "Variable: termino_top_en_mes_3_0 Importance: 0.04110899940133095\n",
      "Variable: sitio_mas_visitado_en_mes_3_2 Importance: 0.0378711000084877\n",
      "Variable: page_top_en_mes_1_4  Importance: 0.03501430153846741\n",
      "Variable: busquedas_termino_top_mes_2 Importance: 0.033340200781822205\n",
      "Variable: vistas_site_top_mes_2 Importance: 0.03171199932694435\n",
      "Variable: vistas_page_top_en_mes_2 Importance: 0.0312304999679327\n",
      "Variable: page_top_en_mes_3_6  Importance: 0.031167399138212204\n",
      "Variable: vistas_page_top_en_mes_1 Importance: 0.031126899644732475\n",
      "Variable: busquedas_termino_top_mes_1 Importance: 0.030845999717712402\n",
      "Variable: cant_paginas_vistas_en_mes_1 Importance: 0.029920199885964394\n",
      "Variable: cantidad_paginas_vistas_trimestre Importance: 0.029167400673031807\n",
      "Variable: sitio_mas_visitado_en_mes_1_2 Importance: 0.028865600004792213\n",
      "Variable: cant_vistas_no_md_trimestre Importance: 0.028442999348044395\n",
      "Variable: vistas_site_top_mes_1 Importance: 0.028301600366830826\n",
      "Variable: cant_paginas_vistas_en_mes_2 Importance: 0.028088999912142754\n",
      "Variable: vistas_site_top_mes_3 Importance: 0.027393199503421783\n",
      "Variable: page_top_en_mes_2_2  Importance: 0.0273119006305933\n",
      "Variable: cant_paginas_vistas_en_mes_3 Importance: 0.025843899697065353\n",
      "Variable: cant_vistas_md_trimestre Importance: 0.02555900067090988\n",
      "Variable: vistas_page_top_en_mes_3 Importance: 0.025088900700211525\n",
      "Variable: page_top_en_mes_2_3  Importance: 0.02502870000898838\n",
      "Variable: page_top_en_mes_2_6  Importance: 0.024563299492001534\n",
      "Variable: busquedas_termino_top_mes_3 Importance: 0.024382000789046288\n",
      "Variable: sitio_mas_visitado_en_mes_2_3 Importance: 0.023181499913334846\n",
      "Variable: page_top_en_mes_2_4  Importance: 0.02293729968369007\n",
      "Variable: page_top_en_mes_2_7  Importance: 0.02284429967403412\n",
      "Variable: page_top_en_mes_3_4  Importance: 0.020886100828647614\n",
      "Variable: sitio_mas_visitado_en_mes_2_1 Importance: 0.019927000626921654\n",
      "Variable: page_top_en_mes_1_6  Importance: 0.017775099724531174\n",
      "Variable: sitio_mas_visitado_en_mes_3_3 Importance: 0.017207300290465355\n",
      "Variable: page_top_en_mes_1_3  Importance: 0.013512800447642803\n",
      "Variable: sitio_mas_visitado_en_mes_2_2 Importance: 0.012432700023055077\n",
      "Variable: page_top_en_mes_3_2  Importance: 0.009565399959683418\n",
      "Variable: page_top_en_mes_3_3  Importance: 0.002921799896284938\n",
      "Variable: page_top_en_mes_1_0  Importance: 0.0\n",
      "Variable: page_top_en_mes_1_1  Importance: 0.0\n",
      "Variable: page_top_en_mes_1_2  Importance: 0.0\n",
      "Variable: page_top_en_mes_1_5  Importance: 0.0\n",
      "Variable: page_top_en_mes_2_0  Importance: 0.0\n",
      "Variable: page_top_en_mes_2_1  Importance: 0.0\n",
      "Variable: page_top_en_mes_2_5  Importance: 0.0\n",
      "Variable: page_top_en_mes_3_0  Importance: 0.0\n",
      "Variable: page_top_en_mes_3_1  Importance: 0.0\n",
      "Variable: sitio_mas_visitado_en_mes_1_0 Importance: 0.0\n",
      "Variable: sitio_mas_visitado_en_mes_1_1 Importance: 0.0\n",
      "Variable: sitio_mas_visitado_en_mes_1_3 Importance: 0.0\n",
      "Variable: sitio_mas_visitado_en_mes_2_0 Importance: 0.0\n",
      "Variable: sitio_mas_visitado_en_mes_3_0 Importance: 0.0\n",
      "Variable: sitio_mas_visitado_en_mes_3_1 Importance: 0.0\n",
      "Variable: termino_top_en_mes_1_0 Importance: 0.0\n",
      "Variable: termino_top_en_mes_1_1 Importance: 0.0\n",
      "Variable: termino_top_en_mes_2_0 Importance: 0.0\n",
      "Variable: termino_top_en_mes_2_1 Importance: 0.0\n",
      "Variable: termino_top_en_mes_3_1 Importance: 0.0\n",
      "Variable: convirtio_en_mes_1   Importance: 0.0\n",
      "Variable: convirtio_en_mes_2   Importance: 0.0\n",
      "Variable: convirtio_en_mes_3   Importance: 0.0\n",
      "Variable: convirtio_multiple_en_mes_1 Importance: 0.0\n",
      "Variable: convirtio_multiple_en_mes_2 Importance: 0.0\n",
      "Variable: convirtio_multiple_en_mes_3 Importance: 0.0\n"
     ]
    }
   ],
   "source": [
    "# Get numerical feature importances\n",
    "importances = list(modelo.feature_importances_)\n",
    "\n",
    "# List of tuples with variable and importance\n",
    "feature_importances = [(feature, round(importance, 7)) for feature, importance in zip(feature_list, importances)]\n",
    "\n",
    "# Sort the feature importances by most important first\n",
    "feature_importances = sorted(feature_importances, key = lambda x: x[1], reverse = True)\n",
    "\n",
    "# Print out the feature and importances \n",
    "[print('Variable: {:20} Importance: {}'.format(*pair)) for pair in feature_importances];"
   ]
  },
  {
   "cell_type": "code",
   "execution_count": 44,
   "metadata": {},
   "outputs": [
    {
     "data": {
      "text/plain": [
       "<matplotlib.axes._subplots.AxesSubplot at 0x7f5843ff5da0>"
      ]
     },
     "execution_count": 44,
     "metadata": {},
     "output_type": "execute_result"
    },
    {
     "data": {
      "image/png": "[encoded data removed]",
      "text/plain": [
       "<Figure size 432x288 with 1 Axes>"
      ]
     },
     "metadata": {
      "needs_background": "light"
     },
     "output_type": "display_data"
    }
   ],
   "source": [
    "xgb.plot_importance(modelo)"
   ]
  },
  {
   "cell_type": "markdown",
   "metadata": {},
   "source": [
    "### Train reducido"
   ]
  },
  {
   "cell_type": "code",
   "execution_count": 44,
   "metadata": {},
   "outputs": [],
   "source": [
    "train=pd.read_pickle(\"../data/train_reducido_codificado.pkl\")#,dtype=tipos_conv)"
   ]
  },
  {
   "cell_type": "code",
   "execution_count": 45,
   "metadata": {},
   "outputs": [],
   "source": [
    "pred = pd.read_pickle(\"../data/prediccion_reducido_codificado.pkl\")\n",
    "pred.sort_index(inplace = True)"
   ]
  },
  {
   "cell_type": "code",
   "execution_count": 46,
   "metadata": {},
   "outputs": [],
   "source": [
    "RANDOM_SEED = 12\n",
    "TEST_SIZE_PERCENT = 0.2"
   ]
  },
  {
   "cell_type": "code",
   "execution_count": 47,
   "metadata": {},
   "outputs": [],
   "source": [
    "y = train['convirtio']\n",
    "X = train.drop(axis=1, labels=['convirtio'])\n",
    "\n",
    "X_train, X_test, y_train, y_test = train_test_split(X, y, test_size=TEST_SIZE_PERCENT, random_state=RANDOM_SEED)\n",
    "\n",
    "feature_list = list(X.columns)"
   ]
  },
  {
   "cell_type": "code",
   "execution_count": 48,
   "metadata": {},
   "outputs": [],
   "source": [
    "modelo = xgb.XGBClassifier(learning_rate=0.05, n_estimators=130, max_depth=3,\n",
    " min_child_weight=5, gamma=0.3, subsample=0.7, colsample_bytree=0.6, reg_alpha =0.1,seed=RANDOM_SEED)"
   ]
  },
  {
   "cell_type": "code",
   "execution_count": 49,
   "metadata": {},
   "outputs": [
    {
     "data": {
      "text/plain": [
       "XGBClassifier(base_score=0.5, booster='gbtree', colsample_bylevel=1,\n",
       "              colsample_bynode=1, colsample_bytree=0.6, gamma=0.3,\n",
       "              learning_rate=0.05, max_delta_step=0, max_depth=3,\n",
       "              min_child_weight=5, missing=None, n_estimators=130, n_jobs=1,\n",
       "              nthread=None, objective='binary:logistic', random_state=0,\n",
       "              reg_alpha=0.1, reg_lambda=1, scale_pos_weight=1, seed=12,\n",
       "              silent=None, subsample=0.7, verbosity=1)"
      ]
     },
     "execution_count": 49,
     "metadata": {},
     "output_type": "execute_result"
    }
   ],
   "source": [
    "# Training\n",
    "modelo.fit(X_train, y_train)"
   ]
  },
  {
   "cell_type": "code",
   "execution_count": 50,
   "metadata": {},
   "outputs": [],
   "source": [
    "# Predict value\n",
    "pred_test = modelo.predict_proba(X_test)"
   ]
  },
  {
   "cell_type": "code",
   "execution_count": 51,
   "metadata": {},
   "outputs": [
    {
     "data": {
      "text/plain": [
       "0.7176486513093129"
      ]
     },
     "execution_count": 51,
     "metadata": {},
     "output_type": "execute_result"
    }
   ],
   "source": [
    "y_test_predictd = pred_test[:, 1]\n",
    "roc_auc_score(y_test, y_test_predictd)"
   ]
  },
  {
   "cell_type": "code",
   "execution_count": 52,
   "metadata": {},
   "outputs": [
    {
     "data": {
      "text/plain": [
       "0.9668855266914074"
      ]
     },
     "execution_count": 52,
     "metadata": {},
     "output_type": "execute_result"
    }
   ],
   "source": [
    "modelo.score(X_test, y_test)"
   ]
  },
  {
   "cell_type": "code",
   "execution_count": 53,
   "metadata": {},
   "outputs": [],
   "source": [
    "prediccion = modelo.predict_proba(pred)"
   ]
  },
  {
   "cell_type": "code",
   "execution_count": 54,
   "metadata": {},
   "outputs": [],
   "source": [
    "prediccion =  pd.DataFrame(prediccion)[1].to_frame()"
   ]
  },
  {
   "cell_type": "code",
   "execution_count": 56,
   "metadata": {},
   "outputs": [],
   "source": [
    "submit = pd.read_csv(\"../data/sampleSubmission.csv\", index_col = 0)"
   ]
  },
  {
   "cell_type": "code",
   "execution_count": 57,
   "metadata": {},
   "outputs": [],
   "source": [
    "submit[\"pred\"] = prediccion[1]"
   ]
  },
  {
   "cell_type": "code",
   "execution_count": 58,
   "metadata": {},
   "outputs": [],
   "source": [
    "submit[\"SCORE\"] = submit[\"pred\"]"
   ]
  },
  {
   "cell_type": "code",
   "execution_count": 59,
   "metadata": {},
   "outputs": [],
   "source": [
    "submit.drop(\"pred\", axis = 1, inplace = True)"
   ]
  },
  {
   "cell_type": "code",
   "execution_count": 60,
   "metadata": {},
   "outputs": [],
   "source": [
    "submit.to_csv('../data/submit_xgb_codificado_reducido.csv')"
   ]
  },
  {
   "cell_type": "code",
   "execution_count": 61,
   "metadata": {},
   "outputs": [],
   "source": [
    "modelo.save_model(\"modelo1_xgb_codificado_reducido.bin\")"
   ]
  },
  {
   "cell_type": "code",
   "execution_count": 62,
   "metadata": {},
   "outputs": [
    {
     "name": "stdout",
     "output_type": "stream",
     "text": [
      "Variable: convirtio_multiple_en_mes_3 Importance: 0.0894630029797554\n",
      "Variable: convirtio_en_mes_3   Importance: 0.076978400349617\n",
      "Variable: convirtio_en_mes_2   Importance: 0.06818240135908127\n",
      "Variable: convirtio_multiple_en_mes_2 Importance: 0.06751210242509842\n",
      "Variable: convirtio_en_mes_1   Importance: 0.061062801629304886\n",
      "Variable: convirtio_multiple_en_mes_1 Importance: 0.059445999562740326\n",
      "Variable: cant_paginas_vistas_en_mes_3 Importance: 0.03989339992403984\n",
      "Variable: sitio_mas_visitado_en_mes_3_2 Importance: 0.0386819988489151\n",
      "Variable: sitio_mas_visitado_en_mes_2_3 Importance: 0.038187701255083084\n",
      "Variable: cant_vistas_no_md_trimestre Importance: 0.03528840094804764\n",
      "Variable: sitio_mas_visitado_en_mes_3_3 Importance: 0.033102601766586304\n",
      "Variable: sitio_mas_visitado_en_mes_2_2 Importance: 0.03090660087764263\n",
      "Variable: page_top_en_mes_1_7  Importance: 0.02618510089814663\n",
      "Variable: cant_paginas_vistas_en_mes_2 Importance: 0.02586890012025833\n",
      "Variable: page_top_en_mes_2_4  Importance: 0.02449510060250759\n",
      "Variable: page_top_en_mes_3_4  Importance: 0.02338480018079281\n",
      "Variable: cant_paginas_vistas_en_mes_1 Importance: 0.0227207001298666\n",
      "Variable: page_top_en_mes_1_4  Importance: 0.021714499220252037\n",
      "Variable: cant_vistas_md_trimestre Importance: 0.021186400204896927\n",
      "Variable: sitio_mas_visitado_en_mes_1_2 Importance: 0.021027499809861183\n",
      "Variable: page_top_en_mes_2_7  Importance: 0.020224900916218758\n",
      "Variable: page_top_en_mes_1_8  Importance: 0.01983880065381527\n",
      "Variable: sitio_mas_visitado_en_mes_1_3 Importance: 0.01960740052163601\n",
      "Variable: page_top_en_mes_2_5  Importance: 0.016683900728821754\n",
      "Variable: page_top_en_mes_2_8  Importance: 0.015727199614048004\n",
      "Variable: page_top_en_mes_3_6  Importance: 0.015698499977588654\n",
      "Variable: page_top_en_mes_1_6  Importance: 0.014657899737358093\n",
      "Variable: page_top_en_mes_1_5  Importance: 0.01460030023008585\n",
      "Variable: page_top_en_mes_3_7  Importance: 0.0122189000248909\n",
      "Variable: page_top_en_mes_2_6  Importance: 0.011602800339460373\n",
      "Variable: page_top_en_mes_3_5  Importance: 0.011510100215673447\n",
      "Variable: page_top_en_mes_3_8  Importance: 0.002340500010177493\n",
      "Variable: page_top_en_mes_1_0  Importance: 0.0\n",
      "Variable: page_top_en_mes_1_1  Importance: 0.0\n",
      "Variable: page_top_en_mes_1_2  Importance: 0.0\n",
      "Variable: page_top_en_mes_1_3  Importance: 0.0\n",
      "Variable: page_top_en_mes_2_0  Importance: 0.0\n",
      "Variable: page_top_en_mes_2_1  Importance: 0.0\n",
      "Variable: page_top_en_mes_2_2  Importance: 0.0\n",
      "Variable: page_top_en_mes_2_3  Importance: 0.0\n",
      "Variable: page_top_en_mes_3_0  Importance: 0.0\n",
      "Variable: page_top_en_mes_3_1  Importance: 0.0\n",
      "Variable: page_top_en_mes_3_2  Importance: 0.0\n",
      "Variable: page_top_en_mes_3_3  Importance: 0.0\n",
      "Variable: sitio_mas_visitado_en_mes_1_0 Importance: 0.0\n",
      "Variable: sitio_mas_visitado_en_mes_1_1 Importance: 0.0\n",
      "Variable: sitio_mas_visitado_en_mes_2_0 Importance: 0.0\n",
      "Variable: sitio_mas_visitado_en_mes_2_1 Importance: 0.0\n",
      "Variable: sitio_mas_visitado_en_mes_3_0 Importance: 0.0\n",
      "Variable: sitio_mas_visitado_en_mes_3_1 Importance: 0.0\n",
      "Variable: termino_top_en_mes_1_0 Importance: 0.0\n",
      "Variable: termino_top_en_mes_1_1 Importance: 0.0\n",
      "Variable: termino_top_en_mes_2_0 Importance: 0.0\n",
      "Variable: termino_top_en_mes_2_1 Importance: 0.0\n",
      "Variable: termino_top_en_mes_3_0 Importance: 0.0\n",
      "Variable: termino_top_en_mes_3_1 Importance: 0.0\n"
     ]
    }
   ],
   "source": [
    "# Get numerical feature importances\n",
    "importances = list(modelo.feature_importances_)\n",
    "\n",
    "# List of tuples with variable and importance\n",
    "feature_importances = [(feature, round(importance, 7)) for feature, importance in zip(feature_list, importances)]\n",
    "\n",
    "# Sort the feature importances by most important first\n",
    "feature_importances = sorted(feature_importances, key = lambda x: x[1], reverse = True)\n",
    "\n",
    "# Print out the feature and importances \n",
    "[print('Variable: {:20} Importance: {}'.format(*pair)) for pair in feature_importances];"
   ]
  },
  {
   "cell_type": "code",
   "execution_count": 63,
   "metadata": {},
   "outputs": [
    {
     "data": {
      "text/plain": [
       "<matplotlib.axes._subplots.AxesSubplot at 0x7f629e1937b8>"
      ]
     },
     "execution_count": 63,
     "metadata": {},
     "output_type": "execute_result"
    },
    {
     "data": {
      "image/png": "[encoded data removed]",
      "text/plain": [
       "<Figure size 432x288 with 1 Axes>"
      ]
     },
     "metadata": {
      "needs_background": "light"
     },
     "output_type": "display_data"
    }
   ],
   "source": [
    "xgb.plot_importance(modelo)"
   ]
  },
  {
   "cell_type": "code",
   "execution_count": null,
   "metadata": {},
   "outputs": [],
   "source": []
  }
 ],
 "metadata": {
  "kernelspec": {
   "display_name": "Python 3",
   "language": "python",
   "name": "python3"
  },
  "language_info": {
   "codemirror_mode": {
    "name": "ipython",
    "version": 3
   },
   "file_extension": ".py",
   "mimetype": "text/x-python",
   "name": "python",
   "nbconvert_exporter": "python",
   "pygments_lexer": "ipython3",
   "version": "3.6.8"
  }
 },
 "nbformat": 4,
 "nbformat_minor": 2
}
