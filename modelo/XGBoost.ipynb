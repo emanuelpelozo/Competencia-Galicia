{
 "cells": [
  {
   "cell_type": "code",
   "execution_count": 1,
   "metadata": {},
   "outputs": [],
   "source": [
    "import pandas as pd\n",
    "import numpy as np\n",
    "import matplotlib.pyplot as plt\n",
    "\n",
    "# metrics\n",
    "from sklearn.metrics import roc_auc_score\n",
    "from sklearn.model_selection import train_test_split, cross_val_score\n",
    "\n",
    "#xgb\n",
    "import xgboost as xgb"
   ]
  },
  {
   "cell_type": "markdown",
   "metadata": {},
   "source": [
    "## Entrenamiento"
   ]
  },
  {
   "cell_type": "code",
   "execution_count": 11,
   "metadata": {},
   "outputs": [],
   "source": [
    "train=pd.read_pickle(\"../data/train_completo.pkl\")#,dtype=tipos_conv)"
   ]
  },
  {
   "cell_type": "code",
   "execution_count": 36,
   "metadata": {},
   "outputs": [],
   "source": [
    "pred = pd.read_pickle(\"../data/prediccion_completo.pkl\")\n",
    "pred.sort_index(inplace = True)"
   ]
  },
  {
   "cell_type": "code",
   "execution_count": 12,
   "metadata": {},
   "outputs": [],
   "source": [
    "RANDOM_SEED = 12\n",
    "TEST_SIZE_PERCENT = 0.2"
   ]
  },
  {
   "cell_type": "code",
   "execution_count": 13,
   "metadata": {},
   "outputs": [],
   "source": [
    "y = train['convirtio']\n",
    "X = train.drop(axis=1, labels=['convirtio'])\n",
    "\n",
    "X_train, X_test, y_train, y_test = train_test_split(X, y, test_size=TEST_SIZE_PERCENT, random_state=RANDOM_SEED)\n",
    "\n",
    "feature_list = list(X.columns)"
   ]
  },
  {
   "cell_type": "code",
   "execution_count": 14,
   "metadata": {},
   "outputs": [],
   "source": [
    "modelo = xgb.XGBClassifier(learning_rate=0.05, n_estimators=130, max_depth=3,\n",
    " min_child_weight=5, gamma=0.3, subsample=0.7, colsample_bytree=0.6, reg_alpha =0.1,seed=RANDOM_SEED)"
   ]
  },
  {
   "cell_type": "code",
   "execution_count": 15,
   "metadata": {},
   "outputs": [
    {
     "data": {
      "text/plain": [
       "XGBClassifier(base_score=0.5, booster='gbtree', colsample_bylevel=1,\n",
       "              colsample_bynode=1, colsample_bytree=0.6, gamma=0.3,\n",
       "              learning_rate=0.05, max_delta_step=0, max_depth=3,\n",
       "              min_child_weight=5, missing=None, n_estimators=130, n_jobs=1,\n",
       "              nthread=None, objective='binary:logistic', random_state=0,\n",
       "              reg_alpha=0.1, reg_lambda=1, scale_pos_weight=1, seed=12,\n",
       "              silent=None, subsample=0.7, verbosity=1)"
      ]
     },
     "execution_count": 15,
     "metadata": {},
     "output_type": "execute_result"
    }
   ],
   "source": [
    "# Training\n",
    "modelo.fit(X_train, y_train)"
   ]
  },
  {
   "cell_type": "code",
   "execution_count": 18,
   "metadata": {},
   "outputs": [],
   "source": [
    "# Predict value\n",
    "pred_test = modelo.predict_proba(X_test)"
   ]
  },
  {
   "cell_type": "code",
   "execution_count": 20,
   "metadata": {},
   "outputs": [
    {
     "data": {
      "text/plain": [
       "0.6924771305677979"
      ]
     },
     "execution_count": 20,
     "metadata": {},
     "output_type": "execute_result"
    }
   ],
   "source": [
    "y_test_predictd = pred_test[:, 1]\n",
    "roc_auc_score(y_test, y_test_predictd)"
   ]
  },
  {
   "cell_type": "code",
   "execution_count": 21,
   "metadata": {},
   "outputs": [
    {
     "data": {
      "text/plain": [
       "0.9668855266914074"
      ]
     },
     "execution_count": 21,
     "metadata": {},
     "output_type": "execute_result"
    }
   ],
   "source": [
    "modelo.score(X_test, y_test)"
   ]
  },
  {
   "cell_type": "markdown",
   "metadata": {},
   "source": [
    "### Predecir competencia"
   ]
  },
  {
   "cell_type": "code",
   "execution_count": 37,
   "metadata": {},
   "outputs": [],
   "source": [
    "prediccion = modelo.predict_proba(pred)"
   ]
  },
  {
   "cell_type": "code",
   "execution_count": 38,
   "metadata": {},
   "outputs": [],
   "source": [
    "prediccion =  pd.DataFrame(prediccion)[1].to_frame()"
   ]
  },
  {
   "cell_type": "code",
   "execution_count": 47,
   "metadata": {},
   "outputs": [],
   "source": [
    "submit = pd.read_csv(\"../data/sampleSubmission.csv\", index_col = 0)"
   ]
  },
  {
   "cell_type": "code",
   "execution_count": 48,
   "metadata": {},
   "outputs": [],
   "source": [
    "submit[\"pred\"] = prediccion[1]"
   ]
  },
  {
   "cell_type": "code",
   "execution_count": 49,
   "metadata": {},
   "outputs": [],
   "source": [
    "submit[\"SCORE\"] = submit[\"pred\"]"
   ]
  },
  {
   "cell_type": "code",
   "execution_count": 52,
   "metadata": {},
   "outputs": [],
   "source": [
    "submit.drop(\"pred\", axis = 1, inplace = True)"
   ]
  },
  {
   "cell_type": "code",
   "execution_count": 54,
   "metadata": {},
   "outputs": [],
   "source": [
    "submit.to_csv('../data/submit_xgb1.csv')"
   ]
  },
  {
   "cell_type": "code",
   "execution_count": 55,
   "metadata": {},
   "outputs": [],
   "source": [
    "modelo.save_model(\"modelo1_xgb\")"
   ]
  },
  {
   "cell_type": "code",
   "execution_count": 56,
   "metadata": {},
   "outputs": [
    {
     "name": "stdout",
     "output_type": "stream",
     "text": [
      "Variable: convirtio_en_mes_3   Importance: 0.14674590528011322\n",
      "Variable: convirtio_multiple_en_mes_3 Importance: 0.14297929406166077\n",
      "Variable: convirtio_en_mes_2   Importance: 0.13624359667301178\n",
      "Variable: convirtio_multiple_en_mes_2 Importance: 0.09728570282459259\n",
      "Variable: convirtio_en_mes_1   Importance: 0.09682449698448181\n",
      "Variable: convirtio_multiple_en_mes_1 Importance: 0.08815179765224457\n",
      "Variable: cant_paginas_vistas_en_mes_3 Importance: 0.06747189909219742\n",
      "Variable: cantidad_paginas_vistas_trimestre Importance: 0.04919759929180145\n",
      "Variable: cant_paginas_vistas_en_mes_2 Importance: 0.04373659938573837\n",
      "Variable: page_mas_vista_en_mes_1 Importance: 0.04039499908685684\n",
      "Variable: cant_paginas_vistas_en_mes_1 Importance: 0.036765001714229584\n",
      "Variable: page_mas_vista_en_mes_3 Importance: 0.03228599950671196\n",
      "Variable: page_mas_vista_en_mes_2 Importance: 0.021917300298810005\n"
     ]
    }
   ],
   "source": [
    "# Get numerical feature importances\n",
    "importances = list(modelo.feature_importances_)\n",
    "\n",
    "# List of tuples with variable and importance\n",
    "feature_importances = [(feature, round(importance, 7)) for feature, importance in zip(feature_list, importances)]\n",
    "\n",
    "# Sort the feature importances by most important first\n",
    "feature_importances = sorted(feature_importances, key = lambda x: x[1], reverse = True)\n",
    "\n",
    "# Print out the feature and importances \n",
    "[print('Variable: {:20} Importance: {}'.format(*pair)) for pair in feature_importances];"
   ]
  },
  {
   "cell_type": "code",
   "execution_count": 63,
   "metadata": {},
   "outputs": [
    {
     "data": {
      "text/plain": [
       "<matplotlib.axes._subplots.AxesSubplot at 0x7f5d347fada0>"
      ]
     },
     "execution_count": 63,
     "metadata": {},
     "output_type": "execute_result"
    },
    {
     "data": {
      "image/png": "[encoded data removed]",
      "text/plain": [
       "<Figure size 432x288 with 1 Axes>"
      ]
     },
     "metadata": {
      "needs_background": "light"
     },
     "output_type": "display_data"
    }
   ],
   "source": [
    "xgb.plot_importance(modelo)"
   ]
  },
  {
   "cell_type": "markdown",
   "metadata": {},
   "source": [
    "### Entrenando con todo"
   ]
  },
  {
   "cell_type": "code",
   "execution_count": 64,
   "metadata": {},
   "outputs": [
    {
     "data": {
      "text/plain": [
       "XGBClassifier(base_score=0.5, booster='gbtree', colsample_bylevel=1,\n",
       "              colsample_bynode=1, colsample_bytree=0.6, gamma=0.3,\n",
       "              learning_rate=0.05, max_delta_step=0, max_depth=3,\n",
       "              min_child_weight=5, missing=None, n_estimators=130, n_jobs=1,\n",
       "              nthread=None, objective='binary:logistic', random_state=0,\n",
       "              reg_alpha=0.1, reg_lambda=1, scale_pos_weight=1, seed=12,\n",
       "              silent=None, subsample=0.7, verbosity=1)"
      ]
     },
     "execution_count": 64,
     "metadata": {},
     "output_type": "execute_result"
    }
   ],
   "source": [
    "modelo.fit(X, y)\n"
   ]
  },
  {
   "cell_type": "code",
   "execution_count": 65,
   "metadata": {},
   "outputs": [],
   "source": [
    "prediccion = modelo.predict_proba(pred)"
   ]
  },
  {
   "cell_type": "code",
   "execution_count": 66,
   "metadata": {},
   "outputs": [],
   "source": [
    "prediccion =  pd.DataFrame(prediccion)[1].to_frame()"
   ]
  },
  {
   "cell_type": "code",
   "execution_count": 67,
   "metadata": {},
   "outputs": [],
   "source": [
    "submit = pd.read_csv(\"../data/sampleSubmission.csv\", index_col = 0)"
   ]
  },
  {
   "cell_type": "code",
   "execution_count": 68,
   "metadata": {},
   "outputs": [],
   "source": [
    "submit[\"pred\"] = prediccion[1]"
   ]
  },
  {
   "cell_type": "code",
   "execution_count": 69,
   "metadata": {},
   "outputs": [],
   "source": [
    "submit[\"SCORE\"] = submit[\"pred\"]"
   ]
  },
  {
   "cell_type": "code",
   "execution_count": 70,
   "metadata": {},
   "outputs": [],
   "source": [
    "submit.drop(\"pred\", axis = 1, inplace = True)"
   ]
  },
  {
   "cell_type": "code",
   "execution_count": 72,
   "metadata": {},
   "outputs": [],
   "source": [
    "submit.to_csv('../data/submit_xgb_completo.csv')"
   ]
  },
  {
   "cell_type": "code",
   "execution_count": 73,
   "metadata": {},
   "outputs": [],
   "source": [
    "modelo.save_model(\"modelo_xgb_completo\")"
   ]
  },
  {
   "cell_type": "code",
   "execution_count": 74,
   "metadata": {},
   "outputs": [
    {
     "name": "stdout",
     "output_type": "stream",
     "text": [
      "Variable: convirtio_multiple_en_mes_2 Importance: 0.15557439625263214\n",
      "Variable: convirtio_multiple_en_mes_3 Importance: 0.1500099003314972\n",
      "Variable: convirtio_en_mes_3   Importance: 0.1391575038433075\n",
      "Variable: convirtio_en_mes_2   Importance: 0.1127488985657692\n",
      "Variable: convirtio_en_mes_1   Importance: 0.10570280253887177\n",
      "Variable: convirtio_multiple_en_mes_1 Importance: 0.10157670080661774\n",
      "Variable: cant_paginas_vistas_en_mes_3 Importance: 0.055962201207876205\n",
      "Variable: cantidad_paginas_vistas_trimestre Importance: 0.0426178015768528\n",
      "Variable: cant_paginas_vistas_en_mes_1 Importance: 0.031894098967313766\n",
      "Variable: cant_paginas_vistas_en_mes_2 Importance: 0.02951589971780777\n",
      "Variable: page_mas_vista_en_mes_1 Importance: 0.027621200308203697\n",
      "Variable: page_mas_vista_en_mes_3 Importance: 0.026491999626159668\n",
      "Variable: page_mas_vista_en_mes_2 Importance: 0.02112649939954281\n"
     ]
    }
   ],
   "source": [
    "# Get numerical feature importances\n",
    "importances = list(modelo.feature_importances_)\n",
    "\n",
    "# List of tuples with variable and importance\n",
    "feature_importances = [(feature, round(importance, 7)) for feature, importance in zip(feature_list, importances)]\n",
    "\n",
    "# Sort the feature importances by most important first\n",
    "feature_importances = sorted(feature_importances, key = lambda x: x[1], reverse = True)\n",
    "\n",
    "# Print out the feature and importances \n",
    "[print('Variable: {:20} Importance: {}'.format(*pair)) for pair in feature_importances];"
   ]
  },
  {
   "cell_type": "code",
   "execution_count": 75,
   "metadata": {},
   "outputs": [
    {
     "data": {
      "text/plain": [
       "<matplotlib.axes._subplots.AxesSubplot at 0x7f5d347fa630>"
      ]
     },
     "execution_count": 75,
     "metadata": {},
     "output_type": "execute_result"
    },
    {
     "data": {
      "image/png": "[encoded data removed]",
      "text/plain": [
       "<Figure size 432x288 with 1 Axes>"
      ]
     },
     "metadata": {
      "needs_background": "light"
     },
     "output_type": "display_data"
    }
   ],
   "source": [
    "xgb.plot_importance(modelo)"
   ]
  },
  {
   "cell_type": "markdown",
   "metadata": {},
   "source": [
    "---"
   ]
  },
  {
   "cell_type": "markdown",
   "metadata": {},
   "source": [
    "---"
   ]
  },
  {
   "cell_type": "markdown",
   "metadata": {},
   "source": [
    "### Binary encoding"
   ]
  },
  {
   "cell_type": "code",
   "execution_count": 26,
   "metadata": {},
   "outputs": [],
   "source": [
    "train=pd.read_pickle(\"../data/train_codificado.pkl\")#,dtype=tipos_conv)"
   ]
  },
  {
   "cell_type": "code",
   "execution_count": 27,
   "metadata": {},
   "outputs": [],
   "source": [
    "pred = pd.read_pickle(\"../data/prediccion_codificado.pkl\")\n",
    "pred.sort_index(inplace = True)"
   ]
  },
  {
   "cell_type": "code",
   "execution_count": 28,
   "metadata": {},
   "outputs": [],
   "source": [
    "RANDOM_SEED = 12\n",
    "TEST_SIZE_PERCENT = 0.2"
   ]
  },
  {
   "cell_type": "code",
   "execution_count": 29,
   "metadata": {},
   "outputs": [],
   "source": [
    "y = train['convirtio']\n",
    "X = train.drop(axis=1, labels=['convirtio'])\n",
    "\n",
    "X_train, X_test, y_train, y_test = train_test_split(X, y, test_size=TEST_SIZE_PERCENT, random_state=RANDOM_SEED)\n",
    "\n",
    "feature_list = list(X.columns)"
   ]
  },
  {
   "cell_type": "code",
   "execution_count": 30,
   "metadata": {},
   "outputs": [],
   "source": [
    "modelo = xgb.XGBClassifier(learning_rate=0.05, n_estimators=130, max_depth=3,\n",
    " min_child_weight=5, gamma=0.3, subsample=0.7, colsample_bytree=0.6, reg_alpha =0.1,seed=RANDOM_SEED)"
   ]
  },
  {
   "cell_type": "code",
   "execution_count": 31,
   "metadata": {},
   "outputs": [
    {
     "data": {
      "text/plain": [
       "XGBClassifier(base_score=0.5, booster='gbtree', colsample_bylevel=1,\n",
       "              colsample_bynode=1, colsample_bytree=0.6, gamma=0.3,\n",
       "              learning_rate=0.05, max_delta_step=0, max_depth=3,\n",
       "              min_child_weight=5, missing=None, n_estimators=130, n_jobs=1,\n",
       "              nthread=None, objective='binary:logistic', random_state=0,\n",
       "              reg_alpha=0.1, reg_lambda=1, scale_pos_weight=1, seed=12,\n",
       "              silent=None, subsample=0.7, verbosity=1)"
      ]
     },
     "execution_count": 31,
     "metadata": {},
     "output_type": "execute_result"
    }
   ],
   "source": [
    "# Training\n",
    "modelo.fit(X_train, y_train)"
   ]
  },
  {
   "cell_type": "code",
   "execution_count": 32,
   "metadata": {},
   "outputs": [],
   "source": [
    "# Predict value\n",
    "pred_test = modelo.predict_proba(X_test)"
   ]
  },
  {
   "cell_type": "code",
   "execution_count": 33,
   "metadata": {},
   "outputs": [
    {
     "data": {
      "text/plain": [
       "0.54778506015216"
      ]
     },
     "execution_count": 33,
     "metadata": {},
     "output_type": "execute_result"
    }
   ],
   "source": [
    "y_test_predictd = pred_test[:, 1]\n",
    "roc_auc_score(y_test, y_test_predictd)"
   ]
  },
  {
   "cell_type": "code",
   "execution_count": 34,
   "metadata": {},
   "outputs": [
    {
     "data": {
      "text/plain": [
       "0.9666000570939195"
      ]
     },
     "execution_count": 34,
     "metadata": {},
     "output_type": "execute_result"
    }
   ],
   "source": [
    "modelo.score(X_test, y_test)"
   ]
  },
  {
   "cell_type": "markdown",
   "metadata": {},
   "source": [
    "### Predecir competencia"
   ]
  },
  {
   "cell_type": "code",
   "execution_count": 35,
   "metadata": {},
   "outputs": [],
   "source": [
    "prediccion = modelo.predict_proba(pred)"
   ]
  },
  {
   "cell_type": "code",
   "execution_count": 36,
   "metadata": {},
   "outputs": [],
   "source": [
    "prediccion =  pd.DataFrame(prediccion)[1].to_frame()"
   ]
  },
  {
   "cell_type": "code",
   "execution_count": 37,
   "metadata": {},
   "outputs": [],
   "source": [
    "submit = pd.read_csv(\"../data/sampleSubmission.csv\", index_col = 0)"
   ]
  },
  {
   "cell_type": "code",
   "execution_count": 38,
   "metadata": {},
   "outputs": [],
   "source": [
    "submit[\"pred\"] = prediccion[1]"
   ]
  },
  {
   "cell_type": "code",
   "execution_count": 39,
   "metadata": {},
   "outputs": [],
   "source": [
    "submit[\"SCORE\"] = submit[\"pred\"]"
   ]
  },
  {
   "cell_type": "code",
   "execution_count": 40,
   "metadata": {},
   "outputs": [],
   "source": [
    "submit.drop(\"pred\", axis = 1, inplace = True)"
   ]
  },
  {
   "cell_type": "code",
   "execution_count": 41,
   "metadata": {},
   "outputs": [],
   "source": [
    "submit.to_csv('../data/submit_xgb_codificado.csv')"
   ]
  },
  {
   "cell_type": "code",
   "execution_count": 42,
   "metadata": {},
   "outputs": [],
   "source": [
    "modelo.save_model(\"modelo1_xgb_codificado\")"
   ]
  },
  {
   "cell_type": "code",
   "execution_count": 43,
   "metadata": {},
   "outputs": [
    {
     "name": "stdout",
     "output_type": "stream",
     "text": [
      "Variable: page_top_en_mes_3_7  Importance: 0.04911259934306145\n",
      "Variable: page_top_en_mes_1_7  Importance: 0.04375569894909859\n",
      "Variable: page_top_en_mes_3_5  Importance: 0.042565200477838516\n",
      "Variable: termino_top_en_mes_3_0 Importance: 0.04110899940133095\n",
      "Variable: sitio_mas_visitado_en_mes_3_2 Importance: 0.0378711000084877\n",
      "Variable: page_top_en_mes_1_4  Importance: 0.03501430153846741\n",
      "Variable: busquedas_termino_top_mes_2 Importance: 0.033340200781822205\n",
      "Variable: vistas_site_top_mes_2 Importance: 0.03171199932694435\n",
      "Variable: vistas_page_top_en_mes_2 Importance: 0.0312304999679327\n",
      "Variable: page_top_en_mes_3_6  Importance: 0.031167399138212204\n",
      "Variable: vistas_page_top_en_mes_1 Importance: 0.031126899644732475\n",
      "Variable: busquedas_termino_top_mes_1 Importance: 0.030845999717712402\n",
      "Variable: cant_paginas_vistas_en_mes_1 Importance: 0.029920199885964394\n",
      "Variable: cantidad_paginas_vistas_trimestre Importance: 0.029167400673031807\n",
      "Variable: sitio_mas_visitado_en_mes_1_2 Importance: 0.028865600004792213\n",
      "Variable: cant_vistas_no_md_trimestre Importance: 0.028442999348044395\n",
      "Variable: vistas_site_top_mes_1 Importance: 0.028301600366830826\n",
      "Variable: cant_paginas_vistas_en_mes_2 Importance: 0.028088999912142754\n",
      "Variable: vistas_site_top_mes_3 Importance: 0.027393199503421783\n",
      "Variable: page_top_en_mes_2_2  Importance: 0.0273119006305933\n",
      "Variable: cant_paginas_vistas_en_mes_3 Importance: 0.025843899697065353\n",
      "Variable: cant_vistas_md_trimestre Importance: 0.02555900067090988\n",
      "Variable: vistas_page_top_en_mes_3 Importance: 0.025088900700211525\n",
      "Variable: page_top_en_mes_2_3  Importance: 0.02502870000898838\n",
      "Variable: page_top_en_mes_2_6  Importance: 0.024563299492001534\n",
      "Variable: busquedas_termino_top_mes_3 Importance: 0.024382000789046288\n",
      "Variable: sitio_mas_visitado_en_mes_2_3 Importance: 0.023181499913334846\n",
      "Variable: page_top_en_mes_2_4  Importance: 0.02293729968369007\n",
      "Variable: page_top_en_mes_2_7  Importance: 0.02284429967403412\n",
      "Variable: page_top_en_mes_3_4  Importance: 0.020886100828647614\n",
      "Variable: sitio_mas_visitado_en_mes_2_1 Importance: 0.019927000626921654\n",
      "Variable: page_top_en_mes_1_6  Importance: 0.017775099724531174\n",
      "Variable: sitio_mas_visitado_en_mes_3_3 Importance: 0.017207300290465355\n",
      "Variable: page_top_en_mes_1_3  Importance: 0.013512800447642803\n",
      "Variable: sitio_mas_visitado_en_mes_2_2 Importance: 0.012432700023055077\n",
      "Variable: page_top_en_mes_3_2  Importance: 0.009565399959683418\n",
      "Variable: page_top_en_mes_3_3  Importance: 0.002921799896284938\n",
      "Variable: page_top_en_mes_1_0  Importance: 0.0\n",
      "Variable: page_top_en_mes_1_1  Importance: 0.0\n",
      "Variable: page_top_en_mes_1_2  Importance: 0.0\n",
      "Variable: page_top_en_mes_1_5  Importance: 0.0\n",
      "Variable: page_top_en_mes_2_0  Importance: 0.0\n",
      "Variable: page_top_en_mes_2_1  Importance: 0.0\n",
      "Variable: page_top_en_mes_2_5  Importance: 0.0\n",
      "Variable: page_top_en_mes_3_0  Importance: 0.0\n",
      "Variable: page_top_en_mes_3_1  Importance: 0.0\n",
      "Variable: sitio_mas_visitado_en_mes_1_0 Importance: 0.0\n",
      "Variable: sitio_mas_visitado_en_mes_1_1 Importance: 0.0\n",
      "Variable: sitio_mas_visitado_en_mes_1_3 Importance: 0.0\n",
      "Variable: sitio_mas_visitado_en_mes_2_0 Importance: 0.0\n",
      "Variable: sitio_mas_visitado_en_mes_3_0 Importance: 0.0\n",
      "Variable: sitio_mas_visitado_en_mes_3_1 Importance: 0.0\n",
      "Variable: termino_top_en_mes_1_0 Importance: 0.0\n",
      "Variable: termino_top_en_mes_1_1 Importance: 0.0\n",
      "Variable: termino_top_en_mes_2_0 Importance: 0.0\n",
      "Variable: termino_top_en_mes_2_1 Importance: 0.0\n",
      "Variable: termino_top_en_mes_3_1 Importance: 0.0\n",
      "Variable: convirtio_en_mes_1   Importance: 0.0\n",
      "Variable: convirtio_en_mes_2   Importance: 0.0\n",
      "Variable: convirtio_en_mes_3   Importance: 0.0\n",
      "Variable: convirtio_multiple_en_mes_1 Importance: 0.0\n",
      "Variable: convirtio_multiple_en_mes_2 Importance: 0.0\n",
      "Variable: convirtio_multiple_en_mes_3 Importance: 0.0\n"
     ]
    }
   ],
   "source": [
    "# Get numerical feature importances\n",
    "importances = list(modelo.feature_importances_)\n",
    "\n",
    "# List of tuples with variable and importance\n",
    "feature_importances = [(feature, round(importance, 7)) for feature, importance in zip(feature_list, importances)]\n",
    "\n",
    "# Sort the feature importances by most important first\n",
    "feature_importances = sorted(feature_importances, key = lambda x: x[1], reverse = True)\n",
    "\n",
    "# Print out the feature and importances \n",
    "[print('Variable: {:20} Importance: {}'.format(*pair)) for pair in feature_importances];"
   ]
  },
  {
   "cell_type": "code",
   "execution_count": 44,
   "metadata": {},
   "outputs": [
    {
     "data": {
      "text/plain": [
       "<matplotlib.axes._subplots.AxesSubplot at 0x7f5843ff5da0>"
      ]
     },
     "execution_count": 44,
     "metadata": {},
     "output_type": "execute_result"
    },
    {
     "data": {
      "image/png": "[encoded data removed]",
      "text/plain": [
       "<Figure size 432x288 with 1 Axes>"
      ]
     },
     "metadata": {
      "needs_background": "light"
     },
     "output_type": "display_data"
    }
   ],
   "source": [
    "xgb.plot_importance(modelo)"
   ]
  },
  {
   "cell_type": "markdown",
   "metadata": {},
   "source": [
    "### Train codificado balanceado"
   ]
  },
  {
   "cell_type": "code",
   "execution_count": 56,
   "metadata": {},
   "outputs": [],
   "source": [
    "train=pd.read_pickle(\"../data/train_codificado.pkl\")#,dtype=tipos_conv)"
   ]
  },
  {
   "cell_type": "code",
   "execution_count": 57,
   "metadata": {},
   "outputs": [],
   "source": [
    "pred = pd.read_pickle(\"../data/prediccion_codificado.pkl\")\n",
    "pred.sort_index(inplace = True)"
   ]
  },
  {
   "cell_type": "code",
   "execution_count": 62,
   "metadata": {},
   "outputs": [
    {
     "data": {
      "text/plain": [
       "35028"
      ]
     },
     "execution_count": 62,
     "metadata": {},
     "output_type": "execute_result"
    }
   ],
   "source": [
    "len(train)"
   ]
  },
  {
   "cell_type": "code",
   "execution_count": 64,
   "metadata": {},
   "outputs": [],
   "source": [
    "convirtio = train [train[\"convirtio\"] == 1]"
   ]
  },
  {
   "cell_type": "code",
   "execution_count": 81,
   "metadata": {},
   "outputs": [],
   "source": [
    "no_convirtio = train [train[\"convirtio\"] != 1]"
   ]
  },
  {
   "cell_type": "code",
   "execution_count": 82,
   "metadata": {},
   "outputs": [
    {
     "data": {
      "text/plain": [
       "1157"
      ]
     },
     "execution_count": 82,
     "metadata": {},
     "output_type": "execute_result"
    }
   ],
   "source": [
    "len(convirtio)"
   ]
  },
  {
   "cell_type": "code",
   "execution_count": 83,
   "metadata": {},
   "outputs": [
    {
     "data": {
      "text/plain": [
       "33871"
      ]
     },
     "execution_count": 83,
     "metadata": {},
     "output_type": "execute_result"
    }
   ],
   "source": [
    "len(no_convirtio)"
   ]
  },
  {
   "cell_type": "code",
   "execution_count": 84,
   "metadata": {},
   "outputs": [],
   "source": [
    "no_convirtio = no_convirtio.sample(15000, random_state = 10)"
   ]
  },
  {
   "cell_type": "code",
   "execution_count": 85,
   "metadata": {},
   "outputs": [],
   "source": [
    "train_balanceado = convirtio.append(no_convirtio)"
   ]
  },
  {
   "cell_type": "code",
   "execution_count": 86,
   "metadata": {},
   "outputs": [],
   "source": [
    "RANDOM_SEED = 12\n",
    "TEST_SIZE_PERCENT = 0.2"
   ]
  },
  {
   "cell_type": "code",
   "execution_count": 87,
   "metadata": {},
   "outputs": [],
   "source": [
    "y = train_balanceado['convirtio']\n",
    "X = train_balanceado.drop(axis=1, labels=['convirtio'])\n",
    "\n",
    "X_train, X_test, y_train, y_test = train_test_split(X, y, test_size=TEST_SIZE_PERCENT, random_state=RANDOM_SEED)\n",
    "\n",
    "feature_list = list(X.columns)"
   ]
  },
  {
   "cell_type": "code",
   "execution_count": 88,
   "metadata": {},
   "outputs": [],
   "source": [
    "modelo = xgb.XGBClassifier(learning_rate=0.05, n_estimators=130, max_depth=3,\n",
    " min_child_weight=5, gamma=0.3, subsample=0.7, colsample_bytree=0.6, reg_alpha =0.1,seed=RANDOM_SEED)"
   ]
  },
  {
   "cell_type": "code",
   "execution_count": 89,
   "metadata": {},
   "outputs": [
    {
     "data": {
      "text/plain": [
       "XGBClassifier(base_score=0.5, booster='gbtree', colsample_bylevel=1,\n",
       "              colsample_bynode=1, colsample_bytree=0.6, gamma=0.3,\n",
       "              learning_rate=0.05, max_delta_step=0, max_depth=3,\n",
       "              min_child_weight=5, missing=None, n_estimators=130, n_jobs=1,\n",
       "              nthread=None, objective='binary:logistic', random_state=0,\n",
       "              reg_alpha=0.1, reg_lambda=1, scale_pos_weight=1, seed=12,\n",
       "              silent=None, subsample=0.7, verbosity=1)"
      ]
     },
     "execution_count": 89,
     "metadata": {},
     "output_type": "execute_result"
    }
   ],
   "source": [
    "# Training\n",
    "modelo.fit(X_train, y_train)"
   ]
  },
  {
   "cell_type": "code",
   "execution_count": 90,
   "metadata": {},
   "outputs": [],
   "source": [
    "# Predict value\n",
    "pred_test = modelo.predict_proba(X_test)"
   ]
  },
  {
   "cell_type": "code",
   "execution_count": 91,
   "metadata": {},
   "outputs": [
    {
     "data": {
      "text/plain": [
       "0.5362207024820593"
      ]
     },
     "execution_count": 91,
     "metadata": {},
     "output_type": "execute_result"
    }
   ],
   "source": [
    "y_test_predictd = pred_test[:, 1]\n",
    "roc_auc_score(y_test, y_test_predictd)"
   ]
  },
  {
   "cell_type": "code",
   "execution_count": 80,
   "metadata": {},
   "outputs": [
    {
     "data": {
      "text/plain": [
       "0.9387996219281664"
      ]
     },
     "execution_count": 80,
     "metadata": {},
     "output_type": "execute_result"
    }
   ],
   "source": [
    "modelo.score(X_test, y_test)"
   ]
  },
  {
   "cell_type": "markdown",
   "metadata": {},
   "source": [
    "### Predecir competencia"
   ]
  },
  {
   "cell_type": "code",
   "execution_count": 35,
   "metadata": {},
   "outputs": [],
   "source": [
    "prediccion = modelo.predict_proba(pred)"
   ]
  },
  {
   "cell_type": "code",
   "execution_count": 36,
   "metadata": {},
   "outputs": [],
   "source": [
    "prediccion =  pd.DataFrame(prediccion)[1].to_frame()"
   ]
  },
  {
   "cell_type": "code",
   "execution_count": 37,
   "metadata": {},
   "outputs": [],
   "source": [
    "submit = pd.read_csv(\"../data/sampleSubmission.csv\", index_col = 0)"
   ]
  },
  {
   "cell_type": "code",
   "execution_count": 38,
   "metadata": {},
   "outputs": [],
   "source": [
    "submit[\"pred\"] = prediccion[1]"
   ]
  },
  {
   "cell_type": "code",
   "execution_count": 39,
   "metadata": {},
   "outputs": [],
   "source": [
    "submit[\"SCORE\"] = submit[\"pred\"]"
   ]
  },
  {
   "cell_type": "code",
   "execution_count": 40,
   "metadata": {},
   "outputs": [],
   "source": [
    "submit.drop(\"pred\", axis = 1, inplace = True)"
   ]
  },
  {
   "cell_type": "code",
   "execution_count": 41,
   "metadata": {},
   "outputs": [],
   "source": [
    "submit.to_csv('../data/submit_xgb_codificado.csv')"
   ]
  },
  {
   "cell_type": "code",
   "execution_count": 42,
   "metadata": {},
   "outputs": [],
   "source": [
    "modelo.save_model(\"modelo1_xgb_codificado\")"
   ]
  },
  {
   "cell_type": "code",
   "execution_count": 43,
   "metadata": {},
   "outputs": [
    {
     "name": "stdout",
     "output_type": "stream",
     "text": [
      "Variable: page_top_en_mes_3_7  Importance: 0.04911259934306145\n",
      "Variable: page_top_en_mes_1_7  Importance: 0.04375569894909859\n",
      "Variable: page_top_en_mes_3_5  Importance: 0.042565200477838516\n",
      "Variable: termino_top_en_mes_3_0 Importance: 0.04110899940133095\n",
      "Variable: sitio_mas_visitado_en_mes_3_2 Importance: 0.0378711000084877\n",
      "Variable: page_top_en_mes_1_4  Importance: 0.03501430153846741\n",
      "Variable: busquedas_termino_top_mes_2 Importance: 0.033340200781822205\n",
      "Variable: vistas_site_top_mes_2 Importance: 0.03171199932694435\n",
      "Variable: vistas_page_top_en_mes_2 Importance: 0.0312304999679327\n",
      "Variable: page_top_en_mes_3_6  Importance: 0.031167399138212204\n",
      "Variable: vistas_page_top_en_mes_1 Importance: 0.031126899644732475\n",
      "Variable: busquedas_termino_top_mes_1 Importance: 0.030845999717712402\n",
      "Variable: cant_paginas_vistas_en_mes_1 Importance: 0.029920199885964394\n",
      "Variable: cantidad_paginas_vistas_trimestre Importance: 0.029167400673031807\n",
      "Variable: sitio_mas_visitado_en_mes_1_2 Importance: 0.028865600004792213\n",
      "Variable: cant_vistas_no_md_trimestre Importance: 0.028442999348044395\n",
      "Variable: vistas_site_top_mes_1 Importance: 0.028301600366830826\n",
      "Variable: cant_paginas_vistas_en_mes_2 Importance: 0.028088999912142754\n",
      "Variable: vistas_site_top_mes_3 Importance: 0.027393199503421783\n",
      "Variable: page_top_en_mes_2_2  Importance: 0.0273119006305933\n",
      "Variable: cant_paginas_vistas_en_mes_3 Importance: 0.025843899697065353\n",
      "Variable: cant_vistas_md_trimestre Importance: 0.02555900067090988\n",
      "Variable: vistas_page_top_en_mes_3 Importance: 0.025088900700211525\n",
      "Variable: page_top_en_mes_2_3  Importance: 0.02502870000898838\n",
      "Variable: page_top_en_mes_2_6  Importance: 0.024563299492001534\n",
      "Variable: busquedas_termino_top_mes_3 Importance: 0.024382000789046288\n",
      "Variable: sitio_mas_visitado_en_mes_2_3 Importance: 0.023181499913334846\n",
      "Variable: page_top_en_mes_2_4  Importance: 0.02293729968369007\n",
      "Variable: page_top_en_mes_2_7  Importance: 0.02284429967403412\n",
      "Variable: page_top_en_mes_3_4  Importance: 0.020886100828647614\n",
      "Variable: sitio_mas_visitado_en_mes_2_1 Importance: 0.019927000626921654\n",
      "Variable: page_top_en_mes_1_6  Importance: 0.017775099724531174\n",
      "Variable: sitio_mas_visitado_en_mes_3_3 Importance: 0.017207300290465355\n",
      "Variable: page_top_en_mes_1_3  Importance: 0.013512800447642803\n",
      "Variable: sitio_mas_visitado_en_mes_2_2 Importance: 0.012432700023055077\n",
      "Variable: page_top_en_mes_3_2  Importance: 0.009565399959683418\n",
      "Variable: page_top_en_mes_3_3  Importance: 0.002921799896284938\n",
      "Variable: page_top_en_mes_1_0  Importance: 0.0\n",
      "Variable: page_top_en_mes_1_1  Importance: 0.0\n",
      "Variable: page_top_en_mes_1_2  Importance: 0.0\n",
      "Variable: page_top_en_mes_1_5  Importance: 0.0\n",
      "Variable: page_top_en_mes_2_0  Importance: 0.0\n",
      "Variable: page_top_en_mes_2_1  Importance: 0.0\n",
      "Variable: page_top_en_mes_2_5  Importance: 0.0\n",
      "Variable: page_top_en_mes_3_0  Importance: 0.0\n",
      "Variable: page_top_en_mes_3_1  Importance: 0.0\n",
      "Variable: sitio_mas_visitado_en_mes_1_0 Importance: 0.0\n",
      "Variable: sitio_mas_visitado_en_mes_1_1 Importance: 0.0\n",
      "Variable: sitio_mas_visitado_en_mes_1_3 Importance: 0.0\n",
      "Variable: sitio_mas_visitado_en_mes_2_0 Importance: 0.0\n",
      "Variable: sitio_mas_visitado_en_mes_3_0 Importance: 0.0\n",
      "Variable: sitio_mas_visitado_en_mes_3_1 Importance: 0.0\n",
      "Variable: termino_top_en_mes_1_0 Importance: 0.0\n",
      "Variable: termino_top_en_mes_1_1 Importance: 0.0\n",
      "Variable: termino_top_en_mes_2_0 Importance: 0.0\n",
      "Variable: termino_top_en_mes_2_1 Importance: 0.0\n",
      "Variable: termino_top_en_mes_3_1 Importance: 0.0\n",
      "Variable: convirtio_en_mes_1   Importance: 0.0\n",
      "Variable: convirtio_en_mes_2   Importance: 0.0\n",
      "Variable: convirtio_en_mes_3   Importance: 0.0\n",
      "Variable: convirtio_multiple_en_mes_1 Importance: 0.0\n",
      "Variable: convirtio_multiple_en_mes_2 Importance: 0.0\n",
      "Variable: convirtio_multiple_en_mes_3 Importance: 0.0\n"
     ]
    }
   ],
   "source": [
    "# Get numerical feature importances\n",
    "importances = list(modelo.feature_importances_)\n",
    "\n",
    "# List of tuples with variable and importance\n",
    "feature_importances = [(feature, round(importance, 7)) for feature, importance in zip(feature_list, importances)]\n",
    "\n",
    "# Sort the feature importances by most important first\n",
    "feature_importances = sorted(feature_importances, key = lambda x: x[1], reverse = True)\n",
    "\n",
    "# Print out the feature and importances \n",
    "[print('Variable: {:20} Importance: {}'.format(*pair)) for pair in feature_importances];"
   ]
  },
  {
   "cell_type": "code",
   "execution_count": 44,
   "metadata": {},
   "outputs": [
    {
     "data": {
      "text/plain": [
       "<matplotlib.axes._subplots.AxesSubplot at 0x7f5843ff5da0>"
      ]
     },
     "execution_count": 44,
     "metadata": {},
     "output_type": "execute_result"
    },
    {
     "data": {
      "image/png": "[encoded data removed]",
      "text/plain": [
       "<Figure size 432x288 with 1 Axes>"
      ]
     },
     "metadata": {
      "needs_background": "light"
     },
     "output_type": "display_data"
    }
   ],
   "source": [
    "xgb.plot_importance(modelo)"
   ]
  },
  {
   "cell_type": "code",
   "execution_count": null,
   "metadata": {},
   "outputs": [],
   "source": []
  }
 ],
 "metadata": {
  "kernelspec": {
   "display_name": "Python 3",
   "language": "python",
   "name": "python3"
  },
  "language_info": {
   "codemirror_mode": {
    "name": "ipython",
    "version": 3
   },
   "file_extension": ".py",
   "mimetype": "text/x-python",
   "name": "python",
   "nbconvert_exporter": "python",
   "pygments_lexer": "ipython3",
   "version": "3.6.8"
  }
 },
 "nbformat": 4,
 "nbformat_minor": 2
}
